{
 "cells": [
  {
   "cell_type": "markdown",
   "id": "ab76f9bc-3f24-432a-a089-5c8ebee395f7",
   "metadata": {},
   "source": [
    "Air quality index (AQI) analysis is a crucial aspect of environment that involves monitoring and analyzing air quality in a specific location. It aims to provide a numerical value representative of overall air quality, essential for public health and environmental management"
   ]
  },
  {
   "cell_type": "markdown",
   "id": "42a708ed-257b-47d1-b1f2-267d24d224f3",
   "metadata": {},
   "source": [
    "# Air Quality Index Analysis: Process We Can Follow"
   ]
  },
  {
   "cell_type": "markdown",
   "id": "3a975425-aaec-45b2-89d2-21a431ca5226",
   "metadata": {},
   "source": [
    "Air Quality Index Analysis aims to provide a numerical value representative of overall air quality, essential for public health and environmental management. Below are the steps we can follow for the task of Air Quality Index Analysis:\n",
    "\n",
    "1.Gathered air quality data from various sources, such as government monitoring stations, sensors, or satellite imagery.\n",
    "2.Clean and preprocess the collected data.\n",
    "3.Calculate the Air Quality Index using standardized formulas and guidelines provided by environmental agencies.\n",
    "4.Create visualizations, such as line charts or heatmaps, to represent the AQI over time or across geographical regions.\n",
    "5.Compare the AQI metrics of the location with the recommended air quality metrics."
   ]
  },
  {
   "cell_type": "code",
   "execution_count": 20,
   "id": "3a9bdf5e-49ef-422c-aa38-5b4c2b556425",
   "metadata": {},
   "outputs": [],
   "source": [
    "#Importing all the libraries\n",
    "import pandas as pd\n",
    "import plotly.express as px\n",
    "import plotly.io as pio\n",
    "import plotly.graph_objects as go\n",
    "import matplotlib.pyplot as plt\n",
    "import seaborn as sns\n",
    "pio.templates.default = \"plotly_white\""
   ]
  },
  {
   "cell_type": "code",
   "execution_count": 2,
   "id": "2b0385b8-91a5-401c-9523-b99e2924b6c2",
   "metadata": {},
   "outputs": [],
   "source": [
    "# reading the dataset\n",
    "df = pd.read_csv(\"delhiaqi.csv\")"
   ]
  },
  {
   "cell_type": "code",
   "execution_count": 3,
   "id": "63f2f585-ca96-4789-9274-d038a7a40ac5",
   "metadata": {},
   "outputs": [
    {
     "data": {
      "text/html": [
       "<div>\n",
       "<style scoped>\n",
       "    .dataframe tbody tr th:only-of-type {\n",
       "        vertical-align: middle;\n",
       "    }\n",
       "\n",
       "    .dataframe tbody tr th {\n",
       "        vertical-align: top;\n",
       "    }\n",
       "\n",
       "    .dataframe thead th {\n",
       "        text-align: right;\n",
       "    }\n",
       "</style>\n",
       "<table border=\"1\" class=\"dataframe\">\n",
       "  <thead>\n",
       "    <tr style=\"text-align: right;\">\n",
       "      <th></th>\n",
       "      <th>date</th>\n",
       "      <th>co</th>\n",
       "      <th>no</th>\n",
       "      <th>no2</th>\n",
       "      <th>o3</th>\n",
       "      <th>so2</th>\n",
       "      <th>pm2_5</th>\n",
       "      <th>pm10</th>\n",
       "      <th>nh3</th>\n",
       "    </tr>\n",
       "  </thead>\n",
       "  <tbody>\n",
       "    <tr>\n",
       "      <th>0</th>\n",
       "      <td>2023-01-01 00:00:00</td>\n",
       "      <td>1655.58</td>\n",
       "      <td>1.66</td>\n",
       "      <td>39.41</td>\n",
       "      <td>5.90</td>\n",
       "      <td>17.88</td>\n",
       "      <td>169.29</td>\n",
       "      <td>194.64</td>\n",
       "      <td>5.83</td>\n",
       "    </tr>\n",
       "    <tr>\n",
       "      <th>1</th>\n",
       "      <td>2023-01-01 01:00:00</td>\n",
       "      <td>1869.20</td>\n",
       "      <td>6.82</td>\n",
       "      <td>42.16</td>\n",
       "      <td>1.99</td>\n",
       "      <td>22.17</td>\n",
       "      <td>182.84</td>\n",
       "      <td>211.08</td>\n",
       "      <td>7.66</td>\n",
       "    </tr>\n",
       "    <tr>\n",
       "      <th>2</th>\n",
       "      <td>2023-01-01 02:00:00</td>\n",
       "      <td>2510.07</td>\n",
       "      <td>27.72</td>\n",
       "      <td>43.87</td>\n",
       "      <td>0.02</td>\n",
       "      <td>30.04</td>\n",
       "      <td>220.25</td>\n",
       "      <td>260.68</td>\n",
       "      <td>11.40</td>\n",
       "    </tr>\n",
       "    <tr>\n",
       "      <th>3</th>\n",
       "      <td>2023-01-01 03:00:00</td>\n",
       "      <td>3150.94</td>\n",
       "      <td>55.43</td>\n",
       "      <td>44.55</td>\n",
       "      <td>0.85</td>\n",
       "      <td>35.76</td>\n",
       "      <td>252.90</td>\n",
       "      <td>304.12</td>\n",
       "      <td>13.55</td>\n",
       "    </tr>\n",
       "    <tr>\n",
       "      <th>4</th>\n",
       "      <td>2023-01-01 04:00:00</td>\n",
       "      <td>3471.37</td>\n",
       "      <td>68.84</td>\n",
       "      <td>45.24</td>\n",
       "      <td>5.45</td>\n",
       "      <td>39.10</td>\n",
       "      <td>266.36</td>\n",
       "      <td>322.80</td>\n",
       "      <td>14.19</td>\n",
       "    </tr>\n",
       "  </tbody>\n",
       "</table>\n",
       "</div>"
      ],
      "text/plain": [
       "                  date       co     no    no2    o3    so2   pm2_5    pm10  \\\n",
       "0  2023-01-01 00:00:00  1655.58   1.66  39.41  5.90  17.88  169.29  194.64   \n",
       "1  2023-01-01 01:00:00  1869.20   6.82  42.16  1.99  22.17  182.84  211.08   \n",
       "2  2023-01-01 02:00:00  2510.07  27.72  43.87  0.02  30.04  220.25  260.68   \n",
       "3  2023-01-01 03:00:00  3150.94  55.43  44.55  0.85  35.76  252.90  304.12   \n",
       "4  2023-01-01 04:00:00  3471.37  68.84  45.24  5.45  39.10  266.36  322.80   \n",
       "\n",
       "     nh3  \n",
       "0   5.83  \n",
       "1   7.66  \n",
       "2  11.40  \n",
       "3  13.55  \n",
       "4  14.19  "
      ]
     },
     "execution_count": 3,
     "metadata": {},
     "output_type": "execute_result"
    }
   ],
   "source": [
    "df.head()"
   ]
  },
  {
   "cell_type": "code",
   "execution_count": 4,
   "id": "f62367a5-9089-4927-b6d9-0d78f0295f73",
   "metadata": {},
   "outputs": [
    {
     "data": {
      "text/html": [
       "<div>\n",
       "<style scoped>\n",
       "    .dataframe tbody tr th:only-of-type {\n",
       "        vertical-align: middle;\n",
       "    }\n",
       "\n",
       "    .dataframe tbody tr th {\n",
       "        vertical-align: top;\n",
       "    }\n",
       "\n",
       "    .dataframe thead th {\n",
       "        text-align: right;\n",
       "    }\n",
       "</style>\n",
       "<table border=\"1\" class=\"dataframe\">\n",
       "  <thead>\n",
       "    <tr style=\"text-align: right;\">\n",
       "      <th></th>\n",
       "      <th>date</th>\n",
       "      <th>co</th>\n",
       "      <th>no</th>\n",
       "      <th>no2</th>\n",
       "      <th>o3</th>\n",
       "      <th>so2</th>\n",
       "      <th>pm2_5</th>\n",
       "      <th>pm10</th>\n",
       "      <th>nh3</th>\n",
       "    </tr>\n",
       "  </thead>\n",
       "  <tbody>\n",
       "    <tr>\n",
       "      <th>556</th>\n",
       "      <td>2023-01-24 04:00:00</td>\n",
       "      <td>1762.39</td>\n",
       "      <td>4.64</td>\n",
       "      <td>37.01</td>\n",
       "      <td>33.26</td>\n",
       "      <td>30.52</td>\n",
       "      <td>231.15</td>\n",
       "      <td>289.84</td>\n",
       "      <td>6.27</td>\n",
       "    </tr>\n",
       "    <tr>\n",
       "      <th>557</th>\n",
       "      <td>2023-01-24 05:00:00</td>\n",
       "      <td>1735.69</td>\n",
       "      <td>6.82</td>\n",
       "      <td>34.96</td>\n",
       "      <td>46.49</td>\n",
       "      <td>34.33</td>\n",
       "      <td>225.08</td>\n",
       "      <td>280.52</td>\n",
       "      <td>9.12</td>\n",
       "    </tr>\n",
       "    <tr>\n",
       "      <th>558</th>\n",
       "      <td>2023-01-24 06:00:00</td>\n",
       "      <td>1922.61</td>\n",
       "      <td>8.16</td>\n",
       "      <td>40.10</td>\n",
       "      <td>56.51</td>\n",
       "      <td>43.39</td>\n",
       "      <td>242.49</td>\n",
       "      <td>296.07</td>\n",
       "      <td>12.54</td>\n",
       "    </tr>\n",
       "    <tr>\n",
       "      <th>559</th>\n",
       "      <td>2023-01-24 07:00:00</td>\n",
       "      <td>1361.85</td>\n",
       "      <td>9.05</td>\n",
       "      <td>52.78</td>\n",
       "      <td>71.53</td>\n",
       "      <td>100.14</td>\n",
       "      <td>165.67</td>\n",
       "      <td>191.82</td>\n",
       "      <td>7.47</td>\n",
       "    </tr>\n",
       "    <tr>\n",
       "      <th>560</th>\n",
       "      <td>2023-01-24 08:00:00</td>\n",
       "      <td>1134.87</td>\n",
       "      <td>8.61</td>\n",
       "      <td>56.89</td>\n",
       "      <td>80.11</td>\n",
       "      <td>110.63</td>\n",
       "      <td>123.76</td>\n",
       "      <td>140.26</td>\n",
       "      <td>5.51</td>\n",
       "    </tr>\n",
       "  </tbody>\n",
       "</table>\n",
       "</div>"
      ],
      "text/plain": [
       "                    date       co    no    no2     o3     so2   pm2_5    pm10  \\\n",
       "556  2023-01-24 04:00:00  1762.39  4.64  37.01  33.26   30.52  231.15  289.84   \n",
       "557  2023-01-24 05:00:00  1735.69  6.82  34.96  46.49   34.33  225.08  280.52   \n",
       "558  2023-01-24 06:00:00  1922.61  8.16  40.10  56.51   43.39  242.49  296.07   \n",
       "559  2023-01-24 07:00:00  1361.85  9.05  52.78  71.53  100.14  165.67  191.82   \n",
       "560  2023-01-24 08:00:00  1134.87  8.61  56.89  80.11  110.63  123.76  140.26   \n",
       "\n",
       "       nh3  \n",
       "556   6.27  \n",
       "557   9.12  \n",
       "558  12.54  \n",
       "559   7.47  \n",
       "560   5.51  "
      ]
     },
     "execution_count": 4,
     "metadata": {},
     "output_type": "execute_result"
    }
   ],
   "source": [
    "df.tail()"
   ]
  },
  {
   "cell_type": "code",
   "execution_count": 5,
   "id": "e99d07b4-29d0-496d-b3d3-7755a5cbef34",
   "metadata": {},
   "outputs": [
    {
     "data": {
      "text/html": [
       "<div>\n",
       "<style scoped>\n",
       "    .dataframe tbody tr th:only-of-type {\n",
       "        vertical-align: middle;\n",
       "    }\n",
       "\n",
       "    .dataframe tbody tr th {\n",
       "        vertical-align: top;\n",
       "    }\n",
       "\n",
       "    .dataframe thead th {\n",
       "        text-align: right;\n",
       "    }\n",
       "</style>\n",
       "<table border=\"1\" class=\"dataframe\">\n",
       "  <thead>\n",
       "    <tr style=\"text-align: right;\">\n",
       "      <th></th>\n",
       "      <th>co</th>\n",
       "      <th>no</th>\n",
       "      <th>no2</th>\n",
       "      <th>o3</th>\n",
       "      <th>so2</th>\n",
       "      <th>pm2_5</th>\n",
       "      <th>pm10</th>\n",
       "      <th>nh3</th>\n",
       "    </tr>\n",
       "  </thead>\n",
       "  <tbody>\n",
       "    <tr>\n",
       "      <th>count</th>\n",
       "      <td>561.000000</td>\n",
       "      <td>561.000000</td>\n",
       "      <td>561.000000</td>\n",
       "      <td>561.000000</td>\n",
       "      <td>561.000000</td>\n",
       "      <td>561.000000</td>\n",
       "      <td>561.000000</td>\n",
       "      <td>561.000000</td>\n",
       "    </tr>\n",
       "    <tr>\n",
       "      <th>mean</th>\n",
       "      <td>3814.942210</td>\n",
       "      <td>51.181979</td>\n",
       "      <td>75.292496</td>\n",
       "      <td>30.141943</td>\n",
       "      <td>64.655936</td>\n",
       "      <td>358.256364</td>\n",
       "      <td>420.988414</td>\n",
       "      <td>26.425062</td>\n",
       "    </tr>\n",
       "    <tr>\n",
       "      <th>std</th>\n",
       "      <td>3227.744681</td>\n",
       "      <td>83.904476</td>\n",
       "      <td>42.473791</td>\n",
       "      <td>39.979405</td>\n",
       "      <td>61.073080</td>\n",
       "      <td>227.359117</td>\n",
       "      <td>271.287026</td>\n",
       "      <td>36.563094</td>\n",
       "    </tr>\n",
       "    <tr>\n",
       "      <th>min</th>\n",
       "      <td>654.220000</td>\n",
       "      <td>0.000000</td>\n",
       "      <td>13.370000</td>\n",
       "      <td>0.000000</td>\n",
       "      <td>5.250000</td>\n",
       "      <td>60.100000</td>\n",
       "      <td>69.080000</td>\n",
       "      <td>0.630000</td>\n",
       "    </tr>\n",
       "    <tr>\n",
       "      <th>25%</th>\n",
       "      <td>1708.980000</td>\n",
       "      <td>3.380000</td>\n",
       "      <td>44.550000</td>\n",
       "      <td>0.070000</td>\n",
       "      <td>28.130000</td>\n",
       "      <td>204.450000</td>\n",
       "      <td>240.900000</td>\n",
       "      <td>8.230000</td>\n",
       "    </tr>\n",
       "    <tr>\n",
       "      <th>50%</th>\n",
       "      <td>2590.180000</td>\n",
       "      <td>13.300000</td>\n",
       "      <td>63.750000</td>\n",
       "      <td>11.800000</td>\n",
       "      <td>47.210000</td>\n",
       "      <td>301.170000</td>\n",
       "      <td>340.900000</td>\n",
       "      <td>14.820000</td>\n",
       "    </tr>\n",
       "    <tr>\n",
       "      <th>75%</th>\n",
       "      <td>4432.680000</td>\n",
       "      <td>59.010000</td>\n",
       "      <td>97.330000</td>\n",
       "      <td>47.210000</td>\n",
       "      <td>77.250000</td>\n",
       "      <td>416.650000</td>\n",
       "      <td>482.570000</td>\n",
       "      <td>26.350000</td>\n",
       "    </tr>\n",
       "    <tr>\n",
       "      <th>max</th>\n",
       "      <td>16876.220000</td>\n",
       "      <td>425.580000</td>\n",
       "      <td>263.210000</td>\n",
       "      <td>164.510000</td>\n",
       "      <td>511.170000</td>\n",
       "      <td>1310.200000</td>\n",
       "      <td>1499.270000</td>\n",
       "      <td>267.510000</td>\n",
       "    </tr>\n",
       "  </tbody>\n",
       "</table>\n",
       "</div>"
      ],
      "text/plain": [
       "                 co          no         no2          o3         so2  \\\n",
       "count    561.000000  561.000000  561.000000  561.000000  561.000000   \n",
       "mean    3814.942210   51.181979   75.292496   30.141943   64.655936   \n",
       "std     3227.744681   83.904476   42.473791   39.979405   61.073080   \n",
       "min      654.220000    0.000000   13.370000    0.000000    5.250000   \n",
       "25%     1708.980000    3.380000   44.550000    0.070000   28.130000   \n",
       "50%     2590.180000   13.300000   63.750000   11.800000   47.210000   \n",
       "75%     4432.680000   59.010000   97.330000   47.210000   77.250000   \n",
       "max    16876.220000  425.580000  263.210000  164.510000  511.170000   \n",
       "\n",
       "             pm2_5         pm10         nh3  \n",
       "count   561.000000   561.000000  561.000000  \n",
       "mean    358.256364   420.988414   26.425062  \n",
       "std     227.359117   271.287026   36.563094  \n",
       "min      60.100000    69.080000    0.630000  \n",
       "25%     204.450000   240.900000    8.230000  \n",
       "50%     301.170000   340.900000   14.820000  \n",
       "75%     416.650000   482.570000   26.350000  \n",
       "max    1310.200000  1499.270000  267.510000  "
      ]
     },
     "execution_count": 5,
     "metadata": {},
     "output_type": "execute_result"
    }
   ],
   "source": [
    "df.describe()"
   ]
  },
  {
   "cell_type": "code",
   "execution_count": 7,
   "id": "17fcadea-65cb-4732-9d9a-193b7f94933d",
   "metadata": {},
   "outputs": [
    {
     "data": {
      "text/plain": [
       "date     0\n",
       "co       0\n",
       "no       0\n",
       "no2      0\n",
       "o3       0\n",
       "so2      0\n",
       "pm2_5    0\n",
       "pm10     0\n",
       "nh3      0\n",
       "dtype: int64"
      ]
     },
     "execution_count": 7,
     "metadata": {},
     "output_type": "execute_result"
    }
   ],
   "source": [
    "df.isnull().sum()"
   ]
  },
  {
   "cell_type": "markdown",
   "id": "07d199c3-a156-44c9-ad49-9dd03c1bfc09",
   "metadata": {},
   "source": [
    "Calculating AQI"
   ]
  },
  {
   "cell_type": "code",
   "execution_count": 9,
   "id": "8ffc318e-e75b-4371-8fe5-fae5da093f76",
   "metadata": {},
   "outputs": [
    {
     "name": "stdout",
     "output_type": "stream",
     "text": [
      "                    date   pm2_5  PM2.5_AQI    pm10  PM10_AQI  Overall_AQI\n",
      "0    2023-01-01 00:00:00  169.29        219  194.64       120          219\n",
      "1    2023-01-01 01:00:00  182.84        232  211.08       129          232\n",
      "2    2023-01-01 02:00:00  220.25        270  260.68       153          270\n",
      "3    2023-01-01 03:00:00  252.90        302  304.12       175          302\n",
      "4    2023-01-01 04:00:00  266.36        316  322.80       184          316\n",
      "..                   ...     ...        ...     ...       ...          ...\n",
      "556  2023-01-24 04:00:00  231.15        281  289.84       168          281\n",
      "557  2023-01-24 05:00:00  225.08        275  280.52       163          275\n",
      "558  2023-01-24 06:00:00  242.49        292  296.07       171          292\n",
      "559  2023-01-24 07:00:00  165.67        215  191.82       119          215\n",
      "560  2023-01-24 08:00:00  123.76        186  140.26        93          186\n",
      "\n",
      "[561 rows x 6 columns]\n"
     ]
    }
   ],
   "source": [
    "import pandas as pd\n",
    "\n",
    "# Assuming 'df' is your DataFrame with pollutant concentrations\n",
    "# Make sure to replace the placeholder values with the actual concentration columns in your dataset\n",
    "\n",
    "# Function to calculate AQI for PM2.5\n",
    "def calculate_pm25_aqi(concentration):\n",
    "    breakpoints = [0, 12.0, 35.4, 55.4, 150.4, 250.4, 350.4, 500.4]\n",
    "    categories = [0, 50, 100, 150, 200, 300, 400, 500]\n",
    "\n",
    "    for i in range(len(breakpoints) - 1):\n",
    "        if breakpoints[i] <= concentration <= breakpoints[i + 1]:\n",
    "            aqi = ((categories[i + 1] - categories[i]) / (breakpoints[i + 1] - breakpoints[i])) * (concentration - breakpoints[i]) + categories[i]\n",
    "            return round(aqi)\n",
    "\n",
    "    return 500  # Cap the AQI at 500 if concentration is above the highest breakpoint\n",
    "\n",
    "# Function to calculate AQI for PM10 (similar to PM2.5, adapt based on specific guidelines)\n",
    "def calculate_pm10_aqi(concentration):\n",
    "    breakpoints = [0, 54, 154, 254, 354, 424, 504, 604]\n",
    "    categories = [0, 50, 100, 150, 200, 300, 400, 500]\n",
    "\n",
    "    for i in range(len(breakpoints) - 1):\n",
    "        if breakpoints[i] <= concentration <= breakpoints[i + 1]:\n",
    "            aqi = ((categories[i + 1] - categories[i]) / (breakpoints[i + 1] - breakpoints[i])) * (concentration - breakpoints[i]) + categories[i]\n",
    "            return round(aqi)\n",
    "\n",
    "    return 500  # Cap the AQI at 500 if concentration is above the highest breakpoint\n",
    "\n",
    "# Apply AQI calculation functions to your DataFrame\n",
    "df['PM2.5_AQI'] = df['pm2_5'].apply(calculate_pm25_aqi)\n",
    "df['PM10_AQI'] = df['pm10'].apply(calculate_pm10_aqi)\n",
    "\n",
    "# Calculate overall AQI based on the maximum sub-index among pollutants\n",
    "df['Overall_AQI'] = df[['PM2.5_AQI', 'PM10_AQI']].max(axis=1)\n",
    "\n",
    "# Print or visualize the DataFrame with calculated AQI values\n",
    "print(df[['date', 'pm2_5', 'PM2.5_AQI', 'pm10', 'PM10_AQI', 'Overall_AQI']])\n"
   ]
  },
  {
   "cell_type": "code",
   "execution_count": 21,
   "id": "66d0ce7d-5ba1-44d1-a060-5f34f519d297",
   "metadata": {},
   "outputs": [
    {
     "data": {
      "image/png": "[encoded data removed]",
      "text/plain": [
       "<Figure size 1200x600 with 1 Axes>"
      ]
     },
     "metadata": {},
     "output_type": "display_data"
    }
   ],
   "source": [
    "# Linechart for Air Quality Index (AQI) Over Time\n",
    "plt.figure(figsize=(12, 6))\n",
    "plt.plot(df['date'], df['Overall_AQI'], marker='o', linestyle='-', color='b')\n",
    "plt.title('Air Quality Index (AQI) Over Time')\n",
    "plt.xlabel('Date')\n",
    "plt.ylabel('AQI')\n",
    "plt.grid(True)\n",
    "plt.show()"
   ]
  },
  {
   "cell_type": "code",
   "execution_count": 17,
   "id": "16f4c8e7-b402-4df4-be9e-8a214514f8e9",
   "metadata": {},
   "outputs": [
    {
     "data": {
      "application/vnd.plotly.v1+json": {
       "config": {
        "plotlyServerURL": "https://plot.ly"
       },
       "data": [
        {
         "alignmentgroup": "True",
         "hovertemplate": "variable=PM2.5_AQI<br>date=%{x}<br>value=%{y}<extra></extra>",
         "legendgroup": "PM2.5_AQI",
         "marker": {
          "color": "#636efa",
          "pattern": {
           "shape": ""
          }
         },
         "name": "PM2.5_AQI",
         "offsetgroup": "PM2.5_AQI",
         "orientation": "v",
         "showlegend": true,
         "textposition": "auto",
         "type": "bar",
         "x": [
          "2023-01-01 00:00:00",
          "2023-01-01 01:00:00",
          "2023-01-01 02:00:00",
          "2023-01-01 03:00:00",
          "2023-01-01 04:00:00",
          "2023-01-01 05:00:00",
          "2023-01-01 06:00:00",
          "2023-01-01 07:00:00",
          "2023-01-01 08:00:00",
          "2023-01-01 09:00:00",
          "2023-01-01 10:00:00",
          "2023-01-01 11:00:00",
          "2023-01-01 12:00:00",
          "2023-01-01 13:00:00",
          "2023-01-01 14:00:00",
          "2023-01-01 15:00:00",
          "2023-01-01 16:00:00",
          "2023-01-01 17:00:00",
          "2023-01-01 18:00:00",
          "2023-01-01 19:00:00",
          "2023-01-01 20:00:00",
          "2023-01-01 21:00:00",
          "2023-01-01 22:00:00",
          "2023-01-01 23:00:00",
          "2023-01-02 00:00:00",
          "2023-01-02 01:00:00",
          "2023-01-02 02:00:00",
          "2023-01-02 03:00:00",
          "2023-01-02 04:00:00",
          "2023-01-02 05:00:00",
          "2023-01-02 06:00:00",
          "2023-01-02 07:00:00",
          "2023-01-02 08:00:00",
          "2023-01-02 09:00:00",
          "2023-01-02 10:00:00",
          "2023-01-02 11:00:00",
          "2023-01-02 12:00:00",
          "2023-01-02 13:00:00",
          "2023-01-02 14:00:00",
          "2023-01-02 15:00:00",
          "2023-01-02 16:00:00",
          "2023-01-02 17:00:00",
          "2023-01-02 18:00:00",
          "2023-01-02 19:00:00",
          "2023-01-02 20:00:00",
          "2023-01-02 21:00:00",
          "2023-01-02 22:00:00",
          "2023-01-02 23:00:00",
          "2023-01-03 00:00:00",
          "2023-01-03 01:00:00",
          "2023-01-03 02:00:00",
          "2023-01-03 03:00:00",
          "2023-01-03 04:00:00",
          "2023-01-03 05:00:00",
          "2023-01-03 06:00:00",
          "2023-01-03 07:00:00",
          "2023-01-03 08:00:00",
          "2023-01-03 09:00:00",
          "2023-01-03 10:00:00",
          "2023-01-03 11:00:00",
          "2023-01-03 12:00:00",
          "2023-01-03 13:00:00",
          "2023-01-03 14:00:00",
          "2023-01-03 15:00:00",
          "2023-01-03 16:00:00",
          "2023-01-03 17:00:00",
          "2023-01-03 18:00:00",
          "2023-01-03 19:00:00",
          "2023-01-03 20:00:00",
          "2023-01-03 21:00:00",
          "2023-01-03 22:00:00",
          "2023-01-03 23:00:00",
          "2023-01-04 00:00:00",
          "2023-01-04 01:00:00",
          "2023-01-04 02:00:00",
          "2023-01-04 03:00:00",
          "2023-01-04 04:00:00",
          "2023-01-04 05:00:00",
          "2023-01-04 06:00:00",
          "2023-01-04 07:00:00",
          "2023-01-04 08:00:00",
          "2023-01-04 09:00:00",
          "2023-01-04 10:00:00",
          "2023-01-04 11:00:00",
          "2023-01-04 12:00:00",
          "2023-01-04 13:00:00",
          "2023-01-04 14:00:00",
          "2023-01-04 15:00:00",
          "2023-01-04 16:00:00",
          "2023-01-04 17:00:00",
          "2023-01-04 18:00:00",
          "2023-01-04 19:00:00",
          "2023-01-04 20:00:00",
          "2023-01-04 21:00:00",
          "2023-01-04 22:00:00",
          "2023-01-04 23:00:00",
          "2023-01-05 00:00:00",
          "2023-01-05 01:00:00",
          "2023-01-05 02:00:00",
          "2023-01-05 03:00:00",
          "2023-01-05 04:00:00",
          "2023-01-05 05:00:00",
          "2023-01-05 06:00:00",
          "2023-01-05 07:00:00",
          "2023-01-05 08:00:00",
          "2023-01-05 09:00:00",
          "2023-01-05 10:00:00",
          "2023-01-05 11:00:00",
          "2023-01-05 12:00:00",
          "2023-01-05 13:00:00",
          "2023-01-05 14:00:00",
          "2023-01-05 15:00:00",
          "2023-01-05 16:00:00",
          "2023-01-05 17:00:00",
          "2023-01-05 18:00:00",
          "2023-01-05 19:00:00",
          "2023-01-05 20:00:00",
          "2023-01-05 21:00:00",
          "2023-01-05 22:00:00",
          "2023-01-05 23:00:00",
          "2023-01-06 00:00:00",
          "2023-01-06 01:00:00",
          "2023-01-06 02:00:00",
          "2023-01-06 03:00:00",
          "2023-01-06 04:00:00",
          "2023-01-06 05:00:00",
          "2023-01-06 06:00:00",
          "2023-01-06 07:00:00",
          "2023-01-06 08:00:00",
          "2023-01-06 09:00:00",
          "2023-01-06 10:00:00",
          "2023-01-06 11:00:00",
          "2023-01-06 12:00:00",
          "2023-01-06 13:00:00",
          "2023-01-06 14:00:00",
          "2023-01-06 15:00:00",
          "2023-01-06 16:00:00",
          "2023-01-06 17:00:00",
          "2023-01-06 18:00:00",
          "2023-01-06 19:00:00",
          "2023-01-06 20:00:00",
          "2023-01-06 21:00:00",
          "2023-01-06 22:00:00",
          "2023-01-06 23:00:00",
          "2023-01-07 00:00:00",
          "2023-01-07 01:00:00",
          "2023-01-07 02:00:00",
          "2023-01-07 03:00:00",
          "2023-01-07 04:00:00",
          "2023-01-07 05:00:00",
          "2023-01-07 06:00:00",
          "2023-01-07 07:00:00",
          "2023-01-07 08:00:00",
          "2023-01-07 09:00:00",
          "2023-01-07 10:00:00",
          "2023-01-07 11:00:00",
          "2023-01-07 12:00:00",
          "2023-01-07 13:00:00",
          "2023-01-07 14:00:00",
          "2023-01-07 15:00:00",
          "2023-01-07 16:00:00",
          "2023-01-07 17:00:00",
          "2023-01-07 18:00:00",
          "2023-01-07 19:00:00",
          "2023-01-07 20:00:00",
          "2023-01-07 21:00:00",
          "2023-01-07 22:00:00",
          "2023-01-07 23:00:00",
          "2023-01-08 00:00:00",
          "2023-01-08 01:00:00",
          "2023-01-08 02:00:00",
          "2023-01-08 03:00:00",
          "2023-01-08 04:00:00",
          "2023-01-08 05:00:00",
          "2023-01-08 06:00:00",
          "2023-01-08 07:00:00",
          "2023-01-08 08:00:00",
          "2023-01-08 09:00:00",
          "2023-01-08 10:00:00",
          "2023-01-08 11:00:00",
          "2023-01-08 12:00:00",
          "2023-01-08 13:00:00",
          "2023-01-08 14:00:00",
          "2023-01-08 15:00:00",
          "2023-01-08 16:00:00",
          "2023-01-08 17:00:00",
          "2023-01-08 18:00:00",
          "2023-01-08 19:00:00",
          "2023-01-08 20:00:00",
          "2023-01-08 21:00:00",
          "2023-01-08 22:00:00",
          "2023-01-08 23:00:00",
          "2023-01-09 00:00:00",
          "2023-01-09 01:00:00",
          "2023-01-09 02:00:00",
          "2023-01-09 03:00:00",
          "2023-01-09 04:00:00",
          "2023-01-09 05:00:00",
          "2023-01-09 06:00:00",
          "2023-01-09 07:00:00",
          "2023-01-09 08:00:00",
          "2023-01-09 09:00:00",
          "2023-01-09 10:00:00",
          "2023-01-09 11:00:00",
          "2023-01-09 12:00:00",
          "2023-01-09 13:00:00",
          "2023-01-09 14:00:00",
          "2023-01-09 15:00:00",
          "2023-01-09 16:00:00",
          "2023-01-09 17:00:00",
          "2023-01-09 18:00:00",
          "2023-01-09 19:00:00",
          "2023-01-09 20:00:00",
          "2023-01-09 21:00:00",
          "2023-01-09 22:00:00",
          "2023-01-09 23:00:00",
          "2023-01-10 00:00:00",
          "2023-01-10 01:00:00",
          "2023-01-10 02:00:00",
          "2023-01-10 03:00:00",
          "2023-01-10 04:00:00",
          "2023-01-10 05:00:00",
          "2023-01-10 06:00:00",
          "2023-01-10 07:00:00",
          "2023-01-10 08:00:00",
          "2023-01-10 09:00:00",
          "2023-01-10 10:00:00",
          "2023-01-10 11:00:00",
          "2023-01-10 12:00:00",
          "2023-01-10 13:00:00",
          "2023-01-10 14:00:00",
          "2023-01-10 15:00:00",
          "2023-01-10 16:00:00",
          "2023-01-10 17:00:00",
          "2023-01-10 18:00:00",
          "2023-01-10 19:00:00",
          "2023-01-10 20:00:00",
          "2023-01-10 21:00:00",
          "2023-01-10 22:00:00",
          "2023-01-10 23:00:00",
          "2023-01-11 00:00:00",
          "2023-01-11 01:00:00",
          "2023-01-11 02:00:00",
          "2023-01-11 03:00:00",
          "2023-01-11 04:00:00",
          "2023-01-11 05:00:00",
          "2023-01-11 06:00:00",
          "2023-01-11 07:00:00",
          "2023-01-11 08:00:00",
          "2023-01-11 09:00:00",
          "2023-01-11 10:00:00",
          "2023-01-11 11:00:00",
          "2023-01-11 12:00:00",
          "2023-01-11 13:00:00",
          "2023-01-11 14:00:00",
          "2023-01-11 15:00:00",
          "2023-01-11 16:00:00",
          "2023-01-11 17:00:00",
          "2023-01-11 18:00:00",
          "2023-01-11 19:00:00",
          "2023-01-11 20:00:00",
          "2023-01-11 21:00:00",
          "2023-01-11 22:00:00",
          "2023-01-11 23:00:00",
          "2023-01-12 00:00:00",
          "2023-01-12 01:00:00",
          "2023-01-12 02:00:00",
          "2023-01-12 03:00:00",
          "2023-01-12 04:00:00",
          "2023-01-12 05:00:00",
          "2023-01-12 06:00:00",
          "2023-01-12 07:00:00",
          "2023-01-12 08:00:00",
          "2023-01-12 09:00:00",
          "2023-01-12 10:00:00",
          "2023-01-12 11:00:00",
          "2023-01-12 12:00:00",
          "2023-01-12 13:00:00",
          "2023-01-12 14:00:00",
          "2023-01-12 15:00:00",
          "2023-01-12 16:00:00",
          "2023-01-12 17:00:00",
          "2023-01-12 18:00:00",
          "2023-01-12 19:00:00",
          "2023-01-12 20:00:00",
          "2023-01-12 21:00:00",
          "2023-01-12 22:00:00",
          "2023-01-12 23:00:00",
          "2023-01-13 00:00:00",
          "2023-01-13 01:00:00",
          "2023-01-13 02:00:00",
          "2023-01-13 03:00:00",
          "2023-01-13 04:00:00",
          "2023-01-13 05:00:00",
          "2023-01-13 06:00:00",
          "2023-01-13 07:00:00",
          "2023-01-13 08:00:00",
          "2023-01-13 09:00:00",
          "2023-01-13 10:00:00",
          "2023-01-13 11:00:00",
          "2023-01-13 12:00:00",
          "2023-01-13 13:00:00",
          "2023-01-13 14:00:00",
          "2023-01-13 15:00:00",
          "2023-01-13 16:00:00",
          "2023-01-13 17:00:00",
          "2023-01-13 18:00:00",
          "2023-01-13 19:00:00",
          "2023-01-13 20:00:00",
          "2023-01-13 21:00:00",
          "2023-01-13 22:00:00",
          "2023-01-13 23:00:00",
          "2023-01-14 00:00:00",
          "2023-01-14 01:00:00",
          "2023-01-14 02:00:00",
          "2023-01-14 03:00:00",
          "2023-01-14 04:00:00",
          "2023-01-14 05:00:00",
          "2023-01-14 06:00:00",
          "2023-01-14 07:00:00",
          "2023-01-14 08:00:00",
          "2023-01-14 09:00:00",
          "2023-01-14 10:00:00",
          "2023-01-14 11:00:00",
          "2023-01-14 12:00:00",
          "2023-01-14 13:00:00",
          "2023-01-14 14:00:00",
          "2023-01-14 15:00:00",
          "2023-01-14 16:00:00",
          "2023-01-14 17:00:00",
          "2023-01-14 18:00:00",
          "2023-01-14 19:00:00",
          "2023-01-14 20:00:00",
          "2023-01-14 21:00:00",
          "2023-01-14 22:00:00",
          "2023-01-14 23:00:00",
          "2023-01-15 00:00:00",
          "2023-01-15 01:00:00",
          "2023-01-15 02:00:00",
          "2023-01-15 03:00:00",
          "2023-01-15 04:00:00",
          "2023-01-15 05:00:00",
          "2023-01-15 06:00:00",
          "2023-01-15 07:00:00",
          "2023-01-15 08:00:00",
          "2023-01-15 09:00:00",
          "2023-01-15 10:00:00",
          "2023-01-15 11:00:00",
          "2023-01-15 12:00:00",
          "2023-01-15 13:00:00",
          "2023-01-15 14:00:00",
          "2023-01-15 15:00:00",
          "2023-01-15 16:00:00",
          "2023-01-15 17:00:00",
          "2023-01-15 18:00:00",
          "2023-01-15 19:00:00",
          "2023-01-15 20:00:00",
          "2023-01-15 21:00:00",
          "2023-01-15 22:00:00",
          "2023-01-15 23:00:00",
          "2023-01-16 00:00:00",
          "2023-01-16 01:00:00",
          "2023-01-16 02:00:00",
          "2023-01-16 03:00:00",
          "2023-01-16 04:00:00",
          "2023-01-16 05:00:00",
          "2023-01-16 06:00:00",
          "2023-01-16 07:00:00",
          "2023-01-16 08:00:00",
          "2023-01-16 09:00:00",
          "2023-01-16 10:00:00",
          "2023-01-16 11:00:00",
          "2023-01-16 12:00:00",
          "2023-01-16 13:00:00",
          "2023-01-16 14:00:00",
          "2023-01-16 15:00:00",
          "2023-01-16 16:00:00",
          "2023-01-16 17:00:00",
          "2023-01-16 18:00:00",
          "2023-01-16 19:00:00",
          "2023-01-16 20:00:00",
          "2023-01-16 21:00:00",
          "2023-01-16 22:00:00",
          "2023-01-16 23:00:00",
          "2023-01-17 00:00:00",
          "2023-01-17 01:00:00",
          "2023-01-17 02:00:00",
          "2023-01-17 03:00:00",
          "2023-01-17 04:00:00",
          "2023-01-17 05:00:00",
          "2023-01-17 06:00:00",
          "2023-01-17 07:00:00",
          "2023-01-17 08:00:00",
          "2023-01-17 09:00:00",
          "2023-01-17 10:00:00",
          "2023-01-17 11:00:00",
          "2023-01-17 12:00:00",
          "2023-01-17 13:00:00",
          "2023-01-17 14:00:00",
          "2023-01-17 15:00:00",
          "2023-01-17 16:00:00",
          "2023-01-17 17:00:00",
          "2023-01-17 18:00:00",
          "2023-01-17 19:00:00",
          "2023-01-17 20:00:00",
          "2023-01-17 21:00:00",
          "2023-01-17 22:00:00",
          "2023-01-17 23:00:00",
          "2023-01-18 00:00:00",
          "2023-01-18 01:00:00",
          "2023-01-18 02:00:00",
          "2023-01-18 03:00:00",
          "2023-01-18 04:00:00",
          "2023-01-18 05:00:00",
          "2023-01-18 06:00:00",
          "2023-01-18 07:00:00",
          "2023-01-18 08:00:00",
          "2023-01-18 09:00:00",
          "2023-01-18 10:00:00",
          "2023-01-18 11:00:00",
          "2023-01-18 12:00:00",
          "2023-01-18 13:00:00",
          "2023-01-18 14:00:00",
          "2023-01-18 15:00:00",
          "2023-01-18 16:00:00",
          "2023-01-18 17:00:00",
          "2023-01-18 18:00:00",
          "2023-01-18 19:00:00",
          "2023-01-18 20:00:00",
          "2023-01-18 21:00:00",
          "2023-01-18 22:00:00",
          "2023-01-18 23:00:00",
          "2023-01-19 00:00:00",
          "2023-01-19 01:00:00",
          "2023-01-19 02:00:00",
          "2023-01-19 03:00:00",
          "2023-01-19 04:00:00",
          "2023-01-19 05:00:00",
          "2023-01-19 06:00:00",
          "2023-01-19 07:00:00",
          "2023-01-19 08:00:00",
          "2023-01-19 09:00:00",
          "2023-01-19 10:00:00",
          "2023-01-19 11:00:00",
          "2023-01-19 12:00:00",
          "2023-01-19 13:00:00",
          "2023-01-19 14:00:00",
          "2023-01-19 15:00:00",
          "2023-01-19 16:00:00",
          "2023-01-19 17:00:00",
          "2023-01-19 18:00:00",
          "2023-01-19 19:00:00",
          "2023-01-19 20:00:00",
          "2023-01-19 21:00:00",
          "2023-01-19 22:00:00",
          "2023-01-19 23:00:00",
          "2023-01-20 00:00:00",
          "2023-01-20 01:00:00",
          "2023-01-20 02:00:00",
          "2023-01-20 03:00:00",
          "2023-01-20 04:00:00",
          "2023-01-20 05:00:00",
          "2023-01-20 06:00:00",
          "2023-01-20 07:00:00",
          "2023-01-20 08:00:00",
          "2023-01-20 09:00:00",
          "2023-01-20 10:00:00",
          "2023-01-20 11:00:00",
          "2023-01-20 12:00:00",
          "2023-01-20 13:00:00",
          "2023-01-20 14:00:00",
          "2023-01-20 15:00:00",
          "2023-01-20 16:00:00",
          "2023-01-20 17:00:00",
          "2023-01-20 18:00:00",
          "2023-01-20 19:00:00",
          "2023-01-20 20:00:00",
          "2023-01-20 21:00:00",
          "2023-01-20 22:00:00",
          "2023-01-20 23:00:00",
          "2023-01-21 00:00:00",
          "2023-01-21 01:00:00",
          "2023-01-21 02:00:00",
          "2023-01-21 03:00:00",
          "2023-01-21 04:00:00",
          "2023-01-21 05:00:00",
          "2023-01-21 06:00:00",
          "2023-01-21 07:00:00",
          "2023-01-21 08:00:00",
          "2023-01-21 09:00:00",
          "2023-01-21 10:00:00",
          "2023-01-21 11:00:00",
          "2023-01-21 12:00:00",
          "2023-01-21 13:00:00",
          "2023-01-21 14:00:00",
          "2023-01-21 15:00:00",
          "2023-01-21 16:00:00",
          "2023-01-21 17:00:00",
          "2023-01-21 18:00:00",
          "2023-01-21 19:00:00",
          "2023-01-21 20:00:00",
          "2023-01-21 21:00:00",
          "2023-01-21 22:00:00",
          "2023-01-21 23:00:00",
          "2023-01-22 00:00:00",
          "2023-01-22 01:00:00",
          "2023-01-22 02:00:00",
          "2023-01-22 03:00:00",
          "2023-01-22 04:00:00",
          "2023-01-22 05:00:00",
          "2023-01-22 06:00:00",
          "2023-01-22 07:00:00",
          "2023-01-22 08:00:00",
          "2023-01-22 09:00:00",
          "2023-01-22 10:00:00",
          "2023-01-22 11:00:00",
          "2023-01-22 12:00:00",
          "2023-01-22 13:00:00",
          "2023-01-22 14:00:00",
          "2023-01-22 15:00:00",
          "2023-01-22 16:00:00",
          "2023-01-22 17:00:00",
          "2023-01-22 18:00:00",
          "2023-01-22 19:00:00",
          "2023-01-22 20:00:00",
          "2023-01-22 21:00:00",
          "2023-01-22 22:00:00",
          "2023-01-22 23:00:00",
          "2023-01-23 00:00:00",
          "2023-01-23 01:00:00",
          "2023-01-23 02:00:00",
          "2023-01-23 03:00:00",
          "2023-01-23 04:00:00",
          "2023-01-23 05:00:00",
          "2023-01-23 06:00:00",
          "2023-01-23 07:00:00",
          "2023-01-23 08:00:00",
          "2023-01-23 09:00:00",
          "2023-01-23 10:00:00",
          "2023-01-23 11:00:00",
          "2023-01-23 12:00:00",
          "2023-01-23 13:00:00",
          "2023-01-23 14:00:00",
          "2023-01-23 15:00:00",
          "2023-01-23 16:00:00",
          "2023-01-23 17:00:00",
          "2023-01-23 18:00:00",
          "2023-01-23 19:00:00",
          "2023-01-23 20:00:00",
          "2023-01-23 21:00:00",
          "2023-01-23 22:00:00",
          "2023-01-23 23:00:00",
          "2023-01-24 00:00:00",
          "2023-01-24 01:00:00",
          "2023-01-24 02:00:00",
          "2023-01-24 03:00:00",
          "2023-01-24 04:00:00",
          "2023-01-24 05:00:00",
          "2023-01-24 06:00:00",
          "2023-01-24 07:00:00",
          "2023-01-24 08:00:00"
         ],
         "xaxis": "x",
         "y": [
          219,
          232,
          270,
          302,
          316,
          326,
          345,
          208,
          192,
          191,
          247,
          348,
          423,
          495,
          500,
          500,
          500,
          500,
          500,
          500,
          500,
          500,
          500,
          500,
          500,
          500,
          500,
          500,
          500,
          500,
          500,
          353,
          287,
          303,
          412,
          500,
          500,
          500,
          500,
          500,
          500,
          500,
          500,
          500,
          500,
          500,
          500,
          500,
          500,
          500,
          500,
          500,
          500,
          500,
          500,
          330,
          250,
          232,
          245,
          279,
          314,
          357,
          392,
          396,
          371,
          347,
          310,
          273,
          258,
          253,
          248,
          246,
          250,
          268,
          308,
          342,
          362,
          374,
          374,
          315,
          276,
          270,
          295,
          339,
          364,
          384,
          407,
          415,
          421,
          430,
          418,
          384,
          364,
          360,
          360,
          362,
          365,
          380,
          414,
          429,
          426,
          421,
          403,
          309,
          281,
          264,
          308,
          403,
          459,
          500,
          500,
          500,
          500,
          500,
          500,
          486,
          437,
          413,
          399,
          397,
          408,
          425,
          450,
          442,
          312,
          268,
          248,
          227,
          221,
          228,
          324,
          450,
          500,
          500,
          500,
          500,
          500,
          500,
          500,
          500,
          443,
          394,
          332,
          305,
          294,
          293,
          306,
          298,
          239,
          228,
          226,
          222,
          228,
          242,
          287,
          356,
          405,
          435,
          455,
          442,
          411,
          391,
          346,
          298,
          276,
          270,
          273,
          281,
          299,
          324,
          353,
          361,
          348,
          336,
          321,
          317,
          335,
          346,
          358,
          375,
          377,
          413,
          477,
          500,
          500,
          500,
          500,
          426,
          388,
          366,
          353,
          339,
          329,
          325,
          374,
          419,
          451,
          482,
          498,
          465,
          456,
          444,
          490,
          500,
          500,
          500,
          500,
          500,
          500,
          500,
          500,
          500,
          476,
          425,
          379,
          356,
          349,
          361,
          404,
          425,
          439,
          448,
          443,
          408,
          388,
          373,
          353,
          348,
          346,
          358,
          375,
          386,
          390,
          392,
          384,
          371,
          374,
          385,
          391,
          394,
          397,
          408,
          434,
          454,
          453,
          452,
          450,
          367,
          326,
          331,
          421,
          500,
          500,
          500,
          500,
          500,
          496,
          481,
          494,
          489,
          449,
          397,
          352,
          342,
          335,
          338,
          369,
          394,
          394,
          384,
          379,
          301,
          300,
          306,
          315,
          332,
          337,
          345,
          352,
          352,
          347,
          353,
          351,
          338,
          346,
          372,
          384,
          375,
          365,
          360,
          364,
          367,
          355,
          322,
          288,
          255,
          247,
          239,
          302,
          404,
          470,
          500,
          500,
          500,
          500,
          500,
          500,
          500,
          500,
          500,
          500,
          426,
          363,
          346,
          359,
          361,
          333,
          322,
          318,
          285,
          278,
          283,
          283,
          274,
          244,
          221,
          212,
          207,
          203,
          203,
          201,
          204,
          219,
          231,
          227,
          215,
          208,
          208,
          213,
          212,
          203,
          195,
          187,
          157,
          152,
          153,
          158,
          168,
          176,
          187,
          202,
          216,
          217,
          214,
          197,
          183,
          182,
          185,
          188,
          191,
          197,
          220,
          276,
          310,
          317,
          332,
          338,
          178,
          162,
          160,
          172,
          192,
          213,
          244,
          266,
          270,
          265,
          261,
          235,
          198,
          191,
          190,
          191,
          193,
          197,
          217,
          265,
          296,
          306,
          321,
          320,
          199,
          187,
          184,
          192,
          219,
          244,
          288,
          355,
          405,
          434,
          463,
          455,
          409,
          371,
          355,
          346,
          338,
          334,
          351,
          413,
          440,
          438,
          448,
          466,
          235,
          207,
          202,
          269,
          378,
          435,
          483,
          500,
          500,
          500,
          500,
          500,
          442,
          387,
          332,
          273,
          258,
          257,
          270,
          315,
          358,
          383,
          405,
          423,
          232,
          213,
          254,
          397,
          500,
          500,
          500,
          500,
          500,
          500,
          500,
          500,
          476,
          372,
          348,
          373,
          406,
          429,
          465,
          500,
          500,
          475,
          456,
          418,
          289,
          216,
          184,
          172,
          175,
          175,
          183,
          208,
          244,
          288,
          339,
          351,
          315,
          280,
          255,
          239,
          237,
          249,
          245,
          264,
          278,
          286,
          284,
          287,
          198,
          202,
          234,
          289,
          357,
          402,
          407,
          397,
          363,
          328,
          299,
          275,
          271,
          288,
          302,
          291,
          273,
          254,
          237,
          230,
          227,
          225,
          218,
          210,
          188,
          190,
          195,
          212,
          232,
          239,
          241,
          239,
          230,
          211,
          204,
          198,
          196,
          197,
          197,
          193,
          190,
          189,
          189,
          194,
          198,
          202,
          206,
          209,
          183,
          181,
          181,
          197,
          293,
          451,
          500,
          500,
          500,
          500,
          500,
          500,
          500,
          500,
          500,
          494,
          458,
          429,
          373,
          341,
          320,
          281,
          275,
          292,
          215,
          186
         ],
         "yaxis": "y"
        },
        {
         "alignmentgroup": "True",
         "hovertemplate": "variable=PM10_AQI<br>date=%{x}<br>value=%{y}<extra></extra>",
         "legendgroup": "PM10_AQI",
         "marker": {
          "color": "#EF553B",
          "pattern": {
           "shape": ""
          }
         },
         "name": "PM10_AQI",
         "offsetgroup": "PM10_AQI",
         "orientation": "v",
         "showlegend": true,
         "textposition": "auto",
         "type": "bar",
         "x": [
          "2023-01-01 00:00:00",
          "2023-01-01 01:00:00",
          "2023-01-01 02:00:00",
          "2023-01-01 03:00:00",
          "2023-01-01 04:00:00",
          "2023-01-01 05:00:00",
          "2023-01-01 06:00:00",
          "2023-01-01 07:00:00",
          "2023-01-01 08:00:00",
          "2023-01-01 09:00:00",
          "2023-01-01 10:00:00",
          "2023-01-01 11:00:00",
          "2023-01-01 12:00:00",
          "2023-01-01 13:00:00",
          "2023-01-01 14:00:00",
          "2023-01-01 15:00:00",
          "2023-01-01 16:00:00",
          "2023-01-01 17:00:00",
          "2023-01-01 18:00:00",
          "2023-01-01 19:00:00",
          "2023-01-01 20:00:00",
          "2023-01-01 21:00:00",
          "2023-01-01 22:00:00",
          "2023-01-01 23:00:00",
          "2023-01-02 00:00:00",
          "2023-01-02 01:00:00",
          "2023-01-02 02:00:00",
          "2023-01-02 03:00:00",
          "2023-01-02 04:00:00",
          "2023-01-02 05:00:00",
          "2023-01-02 06:00:00",
          "2023-01-02 07:00:00",
          "2023-01-02 08:00:00",
          "2023-01-02 09:00:00",
          "2023-01-02 10:00:00",
          "2023-01-02 11:00:00",
          "2023-01-02 12:00:00",
          "2023-01-02 13:00:00",
          "2023-01-02 14:00:00",
          "2023-01-02 15:00:00",
          "2023-01-02 16:00:00",
          "2023-01-02 17:00:00",
          "2023-01-02 18:00:00",
          "2023-01-02 19:00:00",
          "2023-01-02 20:00:00",
          "2023-01-02 21:00:00",
          "2023-01-02 22:00:00",
          "2023-01-02 23:00:00",
          "2023-01-03 00:00:00",
          "2023-01-03 01:00:00",
          "2023-01-03 02:00:00",
          "2023-01-03 03:00:00",
          "2023-01-03 04:00:00",
          "2023-01-03 05:00:00",
          "2023-01-03 06:00:00",
          "2023-01-03 07:00:00",
          "2023-01-03 08:00:00",
          "2023-01-03 09:00:00",
          "2023-01-03 10:00:00",
          "2023-01-03 11:00:00",
          "2023-01-03 12:00:00",
          "2023-01-03 13:00:00",
          "2023-01-03 14:00:00",
          "2023-01-03 15:00:00",
          "2023-01-03 16:00:00",
          "2023-01-03 17:00:00",
          "2023-01-03 18:00:00",
          "2023-01-03 19:00:00",
          "2023-01-03 20:00:00",
          "2023-01-03 21:00:00",
          "2023-01-03 22:00:00",
          "2023-01-03 23:00:00",
          "2023-01-04 00:00:00",
          "2023-01-04 01:00:00",
          "2023-01-04 02:00:00",
          "2023-01-04 03:00:00",
          "2023-01-04 04:00:00",
          "2023-01-04 05:00:00",
          "2023-01-04 06:00:00",
          "2023-01-04 07:00:00",
          "2023-01-04 08:00:00",
          "2023-01-04 09:00:00",
          "2023-01-04 10:00:00",
          "2023-01-04 11:00:00",
          "2023-01-04 12:00:00",
          "2023-01-04 13:00:00",
          "2023-01-04 14:00:00",
          "2023-01-04 15:00:00",
          "2023-01-04 16:00:00",
          "2023-01-04 17:00:00",
          "2023-01-04 18:00:00",
          "2023-01-04 19:00:00",
          "2023-01-04 20:00:00",
          "2023-01-04 21:00:00",
          "2023-01-04 22:00:00",
          "2023-01-04 23:00:00",
          "2023-01-05 00:00:00",
          "2023-01-05 01:00:00",
          "2023-01-05 02:00:00",
          "2023-01-05 03:00:00",
          "2023-01-05 04:00:00",
          "2023-01-05 05:00:00",
          "2023-01-05 06:00:00",
          "2023-01-05 07:00:00",
          "2023-01-05 08:00:00",
          "2023-01-05 09:00:00",
          "2023-01-05 10:00:00",
          "2023-01-05 11:00:00",
          "2023-01-05 12:00:00",
          "2023-01-05 13:00:00",
          "2023-01-05 14:00:00",
          "2023-01-05 15:00:00",
          "2023-01-05 16:00:00",
          "2023-01-05 17:00:00",
          "2023-01-05 18:00:00",
          "2023-01-05 19:00:00",
          "2023-01-05 20:00:00",
          "2023-01-05 21:00:00",
          "2023-01-05 22:00:00",
          "2023-01-05 23:00:00",
          "2023-01-06 00:00:00",
          "2023-01-06 01:00:00",
          "2023-01-06 02:00:00",
          "2023-01-06 03:00:00",
          "2023-01-06 04:00:00",
          "2023-01-06 05:00:00",
          "2023-01-06 06:00:00",
          "2023-01-06 07:00:00",
          "2023-01-06 08:00:00",
          "2023-01-06 09:00:00",
          "2023-01-06 10:00:00",
          "2023-01-06 11:00:00",
          "2023-01-06 12:00:00",
          "2023-01-06 13:00:00",
          "2023-01-06 14:00:00",
          "2023-01-06 15:00:00",
          "2023-01-06 16:00:00",
          "2023-01-06 17:00:00",
          "2023-01-06 18:00:00",
          "2023-01-06 19:00:00",
          "2023-01-06 20:00:00",
          "2023-01-06 21:00:00",
          "2023-01-06 22:00:00",
          "2023-01-06 23:00:00",
          "2023-01-07 00:00:00",
          "2023-01-07 01:00:00",
          "2023-01-07 02:00:00",
          "2023-01-07 03:00:00",
          "2023-01-07 04:00:00",
          "2023-01-07 05:00:00",
          "2023-01-07 06:00:00",
          "2023-01-07 07:00:00",
          "2023-01-07 08:00:00",
          "2023-01-07 09:00:00",
          "2023-01-07 10:00:00",
          "2023-01-07 11:00:00",
          "2023-01-07 12:00:00",
          "2023-01-07 13:00:00",
          "2023-01-07 14:00:00",
          "2023-01-07 15:00:00",
          "2023-01-07 16:00:00",
          "2023-01-07 17:00:00",
          "2023-01-07 18:00:00",
          "2023-01-07 19:00:00",
          "2023-01-07 20:00:00",
          "2023-01-07 21:00:00",
          "2023-01-07 22:00:00",
          "2023-01-07 23:00:00",
          "2023-01-08 00:00:00",
          "2023-01-08 01:00:00",
          "2023-01-08 02:00:00",
          "2023-01-08 03:00:00",
          "2023-01-08 04:00:00",
          "2023-01-08 05:00:00",
          "2023-01-08 06:00:00",
          "2023-01-08 07:00:00",
          "2023-01-08 08:00:00",
          "2023-01-08 09:00:00",
          "2023-01-08 10:00:00",
          "2023-01-08 11:00:00",
          "2023-01-08 12:00:00",
          "2023-01-08 13:00:00",
          "2023-01-08 14:00:00",
          "2023-01-08 15:00:00",
          "2023-01-08 16:00:00",
          "2023-01-08 17:00:00",
          "2023-01-08 18:00:00",
          "2023-01-08 19:00:00",
          "2023-01-08 20:00:00",
          "2023-01-08 21:00:00",
          "2023-01-08 22:00:00",
          "2023-01-08 23:00:00",
          "2023-01-09 00:00:00",
          "2023-01-09 01:00:00",
          "2023-01-09 02:00:00",
          "2023-01-09 03:00:00",
          "2023-01-09 04:00:00",
          "2023-01-09 05:00:00",
          "2023-01-09 06:00:00",
          "2023-01-09 07:00:00",
          "2023-01-09 08:00:00",
          "2023-01-09 09:00:00",
          "2023-01-09 10:00:00",
          "2023-01-09 11:00:00",
          "2023-01-09 12:00:00",
          "2023-01-09 13:00:00",
          "2023-01-09 14:00:00",
          "2023-01-09 15:00:00",
          "2023-01-09 16:00:00",
          "2023-01-09 17:00:00",
          "2023-01-09 18:00:00",
          "2023-01-09 19:00:00",
          "2023-01-09 20:00:00",
          "2023-01-09 21:00:00",
          "2023-01-09 22:00:00",
          "2023-01-09 23:00:00",
          "2023-01-10 00:00:00",
          "2023-01-10 01:00:00",
          "2023-01-10 02:00:00",
          "2023-01-10 03:00:00",
          "2023-01-10 04:00:00",
          "2023-01-10 05:00:00",
          "2023-01-10 06:00:00",
          "2023-01-10 07:00:00",
          "2023-01-10 08:00:00",
          "2023-01-10 09:00:00",
          "2023-01-10 10:00:00",
          "2023-01-10 11:00:00",
          "2023-01-10 12:00:00",
          "2023-01-10 13:00:00",
          "2023-01-10 14:00:00",
          "2023-01-10 15:00:00",
          "2023-01-10 16:00:00",
          "2023-01-10 17:00:00",
          "2023-01-10 18:00:00",
          "2023-01-10 19:00:00",
          "2023-01-10 20:00:00",
          "2023-01-10 21:00:00",
          "2023-01-10 22:00:00",
          "2023-01-10 23:00:00",
          "2023-01-11 00:00:00",
          "2023-01-11 01:00:00",
          "2023-01-11 02:00:00",
          "2023-01-11 03:00:00",
          "2023-01-11 04:00:00",
          "2023-01-11 05:00:00",
          "2023-01-11 06:00:00",
          "2023-01-11 07:00:00",
          "2023-01-11 08:00:00",
          "2023-01-11 09:00:00",
          "2023-01-11 10:00:00",
          "2023-01-11 11:00:00",
          "2023-01-11 12:00:00",
          "2023-01-11 13:00:00",
          "2023-01-11 14:00:00",
          "2023-01-11 15:00:00",
          "2023-01-11 16:00:00",
          "2023-01-11 17:00:00",
          "2023-01-11 18:00:00",
          "2023-01-11 19:00:00",
          "2023-01-11 20:00:00",
          "2023-01-11 21:00:00",
          "2023-01-11 22:00:00",
          "2023-01-11 23:00:00",
          "2023-01-12 00:00:00",
          "2023-01-12 01:00:00",
          "2023-01-12 02:00:00",
          "2023-01-12 03:00:00",
          "2023-01-12 04:00:00",
          "2023-01-12 05:00:00",
          "2023-01-12 06:00:00",
          "2023-01-12 07:00:00",
          "2023-01-12 08:00:00",
          "2023-01-12 09:00:00",
          "2023-01-12 10:00:00",
          "2023-01-12 11:00:00",
          "2023-01-12 12:00:00",
          "2023-01-12 13:00:00",
          "2023-01-12 14:00:00",
          "2023-01-12 15:00:00",
          "2023-01-12 16:00:00",
          "2023-01-12 17:00:00",
          "2023-01-12 18:00:00",
          "2023-01-12 19:00:00",
          "2023-01-12 20:00:00",
          "2023-01-12 21:00:00",
          "2023-01-12 22:00:00",
          "2023-01-12 23:00:00",
          "2023-01-13 00:00:00",
          "2023-01-13 01:00:00",
          "2023-01-13 02:00:00",
          "2023-01-13 03:00:00",
          "2023-01-13 04:00:00",
          "2023-01-13 05:00:00",
          "2023-01-13 06:00:00",
          "2023-01-13 07:00:00",
          "2023-01-13 08:00:00",
          "2023-01-13 09:00:00",
          "2023-01-13 10:00:00",
          "2023-01-13 11:00:00",
          "2023-01-13 12:00:00",
          "2023-01-13 13:00:00",
          "2023-01-13 14:00:00",
          "2023-01-13 15:00:00",
          "2023-01-13 16:00:00",
          "2023-01-13 17:00:00",
          "2023-01-13 18:00:00",
          "2023-01-13 19:00:00",
          "2023-01-13 20:00:00",
          "2023-01-13 21:00:00",
          "2023-01-13 22:00:00",
          "2023-01-13 23:00:00",
          "2023-01-14 00:00:00",
          "2023-01-14 01:00:00",
          "2023-01-14 02:00:00",
          "2023-01-14 03:00:00",
          "2023-01-14 04:00:00",
          "2023-01-14 05:00:00",
          "2023-01-14 06:00:00",
          "2023-01-14 07:00:00",
          "2023-01-14 08:00:00",
          "2023-01-14 09:00:00",
          "2023-01-14 10:00:00",
          "2023-01-14 11:00:00",
          "2023-01-14 12:00:00",
          "2023-01-14 13:00:00",
          "2023-01-14 14:00:00",
          "2023-01-14 15:00:00",
          "2023-01-14 16:00:00",
          "2023-01-14 17:00:00",
          "2023-01-14 18:00:00",
          "2023-01-14 19:00:00",
          "2023-01-14 20:00:00",
          "2023-01-14 21:00:00",
          "2023-01-14 22:00:00",
          "2023-01-14 23:00:00",
          "2023-01-15 00:00:00",
          "2023-01-15 01:00:00",
          "2023-01-15 02:00:00",
          "2023-01-15 03:00:00",
          "2023-01-15 04:00:00",
          "2023-01-15 05:00:00",
          "2023-01-15 06:00:00",
          "2023-01-15 07:00:00",
          "2023-01-15 08:00:00",
          "2023-01-15 09:00:00",
          "2023-01-15 10:00:00",
          "2023-01-15 11:00:00",
          "2023-01-15 12:00:00",
          "2023-01-15 13:00:00",
          "2023-01-15 14:00:00",
          "2023-01-15 15:00:00",
          "2023-01-15 16:00:00",
          "2023-01-15 17:00:00",
          "2023-01-15 18:00:00",
          "2023-01-15 19:00:00",
          "2023-01-15 20:00:00",
          "2023-01-15 21:00:00",
          "2023-01-15 22:00:00",
          "2023-01-15 23:00:00",
          "2023-01-16 00:00:00",
          "2023-01-16 01:00:00",
          "2023-01-16 02:00:00",
          "2023-01-16 03:00:00",
          "2023-01-16 04:00:00",
          "2023-01-16 05:00:00",
          "2023-01-16 06:00:00",
          "2023-01-16 07:00:00",
          "2023-01-16 08:00:00",
          "2023-01-16 09:00:00",
          "2023-01-16 10:00:00",
          "2023-01-16 11:00:00",
          "2023-01-16 12:00:00",
          "2023-01-16 13:00:00",
          "2023-01-16 14:00:00",
          "2023-01-16 15:00:00",
          "2023-01-16 16:00:00",
          "2023-01-16 17:00:00",
          "2023-01-16 18:00:00",
          "2023-01-16 19:00:00",
          "2023-01-16 20:00:00",
          "2023-01-16 21:00:00",
          "2023-01-16 22:00:00",
          "2023-01-16 23:00:00",
          "2023-01-17 00:00:00",
          "2023-01-17 01:00:00",
          "2023-01-17 02:00:00",
          "2023-01-17 03:00:00",
          "2023-01-17 04:00:00",
          "2023-01-17 05:00:00",
          "2023-01-17 06:00:00",
          "2023-01-17 07:00:00",
          "2023-01-17 08:00:00",
          "2023-01-17 09:00:00",
          "2023-01-17 10:00:00",
          "2023-01-17 11:00:00",
          "2023-01-17 12:00:00",
          "2023-01-17 13:00:00",
          "2023-01-17 14:00:00",
          "2023-01-17 15:00:00",
          "2023-01-17 16:00:00",
          "2023-01-17 17:00:00",
          "2023-01-17 18:00:00",
          "2023-01-17 19:00:00",
          "2023-01-17 20:00:00",
          "2023-01-17 21:00:00",
          "2023-01-17 22:00:00",
          "2023-01-17 23:00:00",
          "2023-01-18 00:00:00",
          "2023-01-18 01:00:00",
          "2023-01-18 02:00:00",
          "2023-01-18 03:00:00",
          "2023-01-18 04:00:00",
          "2023-01-18 05:00:00",
          "2023-01-18 06:00:00",
          "2023-01-18 07:00:00",
          "2023-01-18 08:00:00",
          "2023-01-18 09:00:00",
          "2023-01-18 10:00:00",
          "2023-01-18 11:00:00",
          "2023-01-18 12:00:00",
          "2023-01-18 13:00:00",
          "2023-01-18 14:00:00",
          "2023-01-18 15:00:00",
          "2023-01-18 16:00:00",
          "2023-01-18 17:00:00",
          "2023-01-18 18:00:00",
          "2023-01-18 19:00:00",
          "2023-01-18 20:00:00",
          "2023-01-18 21:00:00",
          "2023-01-18 22:00:00",
          "2023-01-18 23:00:00",
          "2023-01-19 00:00:00",
          "2023-01-19 01:00:00",
          "2023-01-19 02:00:00",
          "2023-01-19 03:00:00",
          "2023-01-19 04:00:00",
          "2023-01-19 05:00:00",
          "2023-01-19 06:00:00",
          "2023-01-19 07:00:00",
          "2023-01-19 08:00:00",
          "2023-01-19 09:00:00",
          "2023-01-19 10:00:00",
          "2023-01-19 11:00:00",
          "2023-01-19 12:00:00",
          "2023-01-19 13:00:00",
          "2023-01-19 14:00:00",
          "2023-01-19 15:00:00",
          "2023-01-19 16:00:00",
          "2023-01-19 17:00:00",
          "2023-01-19 18:00:00",
          "2023-01-19 19:00:00",
          "2023-01-19 20:00:00",
          "2023-01-19 21:00:00",
          "2023-01-19 22:00:00",
          "2023-01-19 23:00:00",
          "2023-01-20 00:00:00",
          "2023-01-20 01:00:00",
          "2023-01-20 02:00:00",
          "2023-01-20 03:00:00",
          "2023-01-20 04:00:00",
          "2023-01-20 05:00:00",
          "2023-01-20 06:00:00",
          "2023-01-20 07:00:00",
          "2023-01-20 08:00:00",
          "2023-01-20 09:00:00",
          "2023-01-20 10:00:00",
          "2023-01-20 11:00:00",
          "2023-01-20 12:00:00",
          "2023-01-20 13:00:00",
          "2023-01-20 14:00:00",
          "2023-01-20 15:00:00",
          "2023-01-20 16:00:00",
          "2023-01-20 17:00:00",
          "2023-01-20 18:00:00",
          "2023-01-20 19:00:00",
          "2023-01-20 20:00:00",
          "2023-01-20 21:00:00",
          "2023-01-20 22:00:00",
          "2023-01-20 23:00:00",
          "2023-01-21 00:00:00",
          "2023-01-21 01:00:00",
          "2023-01-21 02:00:00",
          "2023-01-21 03:00:00",
          "2023-01-21 04:00:00",
          "2023-01-21 05:00:00",
          "2023-01-21 06:00:00",
          "2023-01-21 07:00:00",
          "2023-01-21 08:00:00",
          "2023-01-21 09:00:00",
          "2023-01-21 10:00:00",
          "2023-01-21 11:00:00",
          "2023-01-21 12:00:00",
          "2023-01-21 13:00:00",
          "2023-01-21 14:00:00",
          "2023-01-21 15:00:00",
          "2023-01-21 16:00:00",
          "2023-01-21 17:00:00",
          "2023-01-21 18:00:00",
          "2023-01-21 19:00:00",
          "2023-01-21 20:00:00",
          "2023-01-21 21:00:00",
          "2023-01-21 22:00:00",
          "2023-01-21 23:00:00",
          "2023-01-22 00:00:00",
          "2023-01-22 01:00:00",
          "2023-01-22 02:00:00",
          "2023-01-22 03:00:00",
          "2023-01-22 04:00:00",
          "2023-01-22 05:00:00",
          "2023-01-22 06:00:00",
          "2023-01-22 07:00:00",
          "2023-01-22 08:00:00",
          "2023-01-22 09:00:00",
          "2023-01-22 10:00:00",
          "2023-01-22 11:00:00",
          "2023-01-22 12:00:00",
          "2023-01-22 13:00:00",
          "2023-01-22 14:00:00",
          "2023-01-22 15:00:00",
          "2023-01-22 16:00:00",
          "2023-01-22 17:00:00",
          "2023-01-22 18:00:00",
          "2023-01-22 19:00:00",
          "2023-01-22 20:00:00",
          "2023-01-22 21:00:00",
          "2023-01-22 22:00:00",
          "2023-01-22 23:00:00",
          "2023-01-23 00:00:00",
          "2023-01-23 01:00:00",
          "2023-01-23 02:00:00",
          "2023-01-23 03:00:00",
          "2023-01-23 04:00:00",
          "2023-01-23 05:00:00",
          "2023-01-23 06:00:00",
          "2023-01-23 07:00:00",
          "2023-01-23 08:00:00",
          "2023-01-23 09:00:00",
          "2023-01-23 10:00:00",
          "2023-01-23 11:00:00",
          "2023-01-23 12:00:00",
          "2023-01-23 13:00:00",
          "2023-01-23 14:00:00",
          "2023-01-23 15:00:00",
          "2023-01-23 16:00:00",
          "2023-01-23 17:00:00",
          "2023-01-23 18:00:00",
          "2023-01-23 19:00:00",
          "2023-01-23 20:00:00",
          "2023-01-23 21:00:00",
          "2023-01-23 22:00:00",
          "2023-01-23 23:00:00",
          "2023-01-24 00:00:00",
          "2023-01-24 01:00:00",
          "2023-01-24 02:00:00",
          "2023-01-24 03:00:00",
          "2023-01-24 04:00:00",
          "2023-01-24 05:00:00",
          "2023-01-24 06:00:00",
          "2023-01-24 07:00:00",
          "2023-01-24 08:00:00"
         ],
         "xaxis": "x",
         "y": [
          120,
          129,
          153,
          175,
          184,
          191,
          204,
          114,
          100,
          99,
          141,
          218,
          363,
          500,
          500,
          500,
          500,
          500,
          500,
          500,
          500,
          500,
          500,
          500,
          500,
          500,
          500,
          500,
          500,
          500,
          500,
          194,
          158,
          167,
          310,
          500,
          500,
          500,
          500,
          500,
          500,
          500,
          500,
          500,
          500,
          500,
          500,
          500,
          500,
          500,
          500,
          500,
          500,
          500,
          500,
          180,
          136,
          126,
          136,
          159,
          181,
          219,
          276,
          275,
          228,
          196,
          173,
          149,
          138,
          134,
          132,
          130,
          132,
          142,
          167,
          188,
          203,
          227,
          226,
          172,
          150,
          146,
          162,
          190,
          218,
          258,
          307,
          328,
          341,
          364,
          335,
          260,
          215,
          199,
          197,
          195,
          194,
          203,
          275,
          316,
          312,
          309,
          269,
          168,
          153,
          145,
          175,
          304,
          430,
          500,
          500,
          500,
          500,
          500,
          500,
          468,
          349,
          274,
          232,
          225,
          246,
          291,
          357,
          342,
          167,
          147,
          137,
          125,
          122,
          126,
          187,
          414,
          500,
          500,
          500,
          500,
          500,
          500,
          500,
          500,
          375,
          230,
          172,
          157,
          152,
          153,
          163,
          159,
          126,
          123,
          122,
          118,
          121,
          129,
          156,
          197,
          279,
          349,
          390,
          353,
          276,
          237,
          187,
          159,
          145,
          142,
          142,
          145,
          153,
          166,
          183,
          188,
          182,
          177,
          170,
          166,
          175,
          181,
          189,
          205,
          217,
          301,
          443,
          500,
          500,
          500,
          496,
          325,
          243,
          206,
          193,
          181,
          173,
          171,
          205,
          300,
          373,
          437,
          468,
          399,
          378,
          352,
          452,
          500,
          500,
          500,
          500,
          500,
          500,
          500,
          500,
          500,
          434,
          322,
          218,
          190,
          183,
          190,
          252,
          309,
          340,
          369,
          361,
          257,
          212,
          195,
          187,
          186,
          188,
          197,
          227,
          248,
          252,
          253,
          231,
          200,
          200,
          212,
          219,
          217,
          216,
          241,
          309,
          356,
          359,
          364,
          361,
          200,
          177,
          179,
          310,
          500,
          500,
          500,
          500,
          500,
          470,
          440,
          450,
          425,
          341,
          228,
          184,
          176,
          171,
          174,
          193,
          228,
          231,
          214,
          201,
          156,
          156,
          159,
          165,
          176,
          180,
          187,
          195,
          197,
          194,
          196,
          192,
          181,
          182,
          194,
          201,
          195,
          190,
          187,
          192,
          198,
          193,
          175,
          154,
          132,
          128,
          123,
          166,
          296,
          447,
          500,
          500,
          500,
          500,
          500,
          500,
          500,
          500,
          500,
          500,
          273,
          187,
          180,
          190,
          194,
          179,
          172,
          169,
          151,
          147,
          150,
          152,
          148,
          133,
          122,
          119,
          117,
          115,
          114,
          111,
          110,
          116,
          121,
          119,
          112,
          109,
          110,
          115,
          115,
          111,
          105,
          96,
          63,
          58,
          58,
          65,
          78,
          89,
          103,
          120,
          130,
          130,
          127,
          114,
          96,
          94,
          97,
          101,
          104,
          110,
          127,
          163,
          186,
          191,
          202,
          210,
          89,
          71,
          69,
          83,
          109,
          129,
          149,
          164,
          167,
          163,
          160,
          143,
          117,
          106,
          103,
          104,
          105,
          108,
          122,
          153,
          172,
          178,
          186,
          183,
          108,
          95,
          91,
          102,
          126,
          144,
          174,
          252,
          346,
          408,
          461,
          440,
          333,
          253,
          218,
          199,
          193,
          190,
          201,
          324,
          388,
          382,
          404,
          430,
          132,
          115,
          111,
          154,
          266,
          390,
          482,
          500,
          500,
          500,
          500,
          500,
          417,
          293,
          194,
          153,
          140,
          137,
          145,
          174,
          209,
          263,
          307,
          344,
          130,
          119,
          142,
          281,
          500,
          500,
          500,
          500,
          500,
          500,
          500,
          500,
          434,
          220,
          187,
          196,
          242,
          300,
          383,
          486,
          490,
          412,
          381,
          304,
          160,
          120,
          94,
          84,
          88,
          90,
          103,
          133,
          159,
          187,
          252,
          269,
          198,
          170,
          148,
          135,
          132,
          139,
          137,
          154,
          169,
          179,
          183,
          186,
          115,
          115,
          132,
          171,
          261,
          353,
          384,
          388,
          351,
          297,
          246,
          191,
          169,
          166,
          166,
          156,
          146,
          136,
          130,
          132,
          137,
          142,
          141,
          137,
          103,
          102,
          106,
          123,
          143,
          156,
          165,
          169,
          165,
          146,
          139,
          130,
          118,
          115,
          111,
          104,
          100,
          99,
          102,
          114,
          125,
          134,
          141,
          143,
          104,
          98,
          97,
          124,
          193,
          460,
          500,
          500,
          500,
          500,
          500,
          500,
          500,
          500,
          500,
          464,
          398,
          342,
          245,
          216,
          195,
          168,
          163,
          171,
          119,
          93
         ],
         "yaxis": "y"
        },
        {
         "alignmentgroup": "True",
         "hovertemplate": "variable=Overall_AQI<br>date=%{x}<br>value=%{y}<extra></extra>",
         "legendgroup": "Overall_AQI",
         "marker": {
          "color": "#00cc96",
          "pattern": {
           "shape": ""
          }
         },
         "name": "Overall_AQI",
         "offsetgroup": "Overall_AQI",
         "orientation": "v",
         "showlegend": true,
         "textposition": "auto",
         "type": "bar",
         "x": [
          "2023-01-01 00:00:00",
          "2023-01-01 01:00:00",
          "2023-01-01 02:00:00",
          "2023-01-01 03:00:00",
          "2023-01-01 04:00:00",
          "2023-01-01 05:00:00",
          "2023-01-01 06:00:00",
          "2023-01-01 07:00:00",
          "2023-01-01 08:00:00",
          "2023-01-01 09:00:00",
          "2023-01-01 10:00:00",
          "2023-01-01 11:00:00",
          "2023-01-01 12:00:00",
          "2023-01-01 13:00:00",
          "2023-01-01 14:00:00",
          "2023-01-01 15:00:00",
          "2023-01-01 16:00:00",
          "2023-01-01 17:00:00",
          "2023-01-01 18:00:00",
          "2023-01-01 19:00:00",
          "2023-01-01 20:00:00",
          "2023-01-01 21:00:00",
          "2023-01-01 22:00:00",
          "2023-01-01 23:00:00",
          "2023-01-02 00:00:00",
          "2023-01-02 01:00:00",
          "2023-01-02 02:00:00",
          "2023-01-02 03:00:00",
          "2023-01-02 04:00:00",
          "2023-01-02 05:00:00",
          "2023-01-02 06:00:00",
          "2023-01-02 07:00:00",
          "2023-01-02 08:00:00",
          "2023-01-02 09:00:00",
          "2023-01-02 10:00:00",
          "2023-01-02 11:00:00",
          "2023-01-02 12:00:00",
          "2023-01-02 13:00:00",
          "2023-01-02 14:00:00",
          "2023-01-02 15:00:00",
          "2023-01-02 16:00:00",
          "2023-01-02 17:00:00",
          "2023-01-02 18:00:00",
          "2023-01-02 19:00:00",
          "2023-01-02 20:00:00",
          "2023-01-02 21:00:00",
          "2023-01-02 22:00:00",
          "2023-01-02 23:00:00",
          "2023-01-03 00:00:00",
          "2023-01-03 01:00:00",
          "2023-01-03 02:00:00",
          "2023-01-03 03:00:00",
          "2023-01-03 04:00:00",
          "2023-01-03 05:00:00",
          "2023-01-03 06:00:00",
          "2023-01-03 07:00:00",
          "2023-01-03 08:00:00",
          "2023-01-03 09:00:00",
          "2023-01-03 10:00:00",
          "2023-01-03 11:00:00",
          "2023-01-03 12:00:00",
          "2023-01-03 13:00:00",
          "2023-01-03 14:00:00",
          "2023-01-03 15:00:00",
          "2023-01-03 16:00:00",
          "2023-01-03 17:00:00",
          "2023-01-03 18:00:00",
          "2023-01-03 19:00:00",
          "2023-01-03 20:00:00",
          "2023-01-03 21:00:00",
          "2023-01-03 22:00:00",
          "2023-01-03 23:00:00",
          "2023-01-04 00:00:00",
          "2023-01-04 01:00:00",
          "2023-01-04 02:00:00",
          "2023-01-04 03:00:00",
          "2023-01-04 04:00:00",
          "2023-01-04 05:00:00",
          "2023-01-04 06:00:00",
          "2023-01-04 07:00:00",
          "2023-01-04 08:00:00",
          "2023-01-04 09:00:00",
          "2023-01-04 10:00:00",
          "2023-01-04 11:00:00",
          "2023-01-04 12:00:00",
          "2023-01-04 13:00:00",
          "2023-01-04 14:00:00",
          "2023-01-04 15:00:00",
          "2023-01-04 16:00:00",
          "2023-01-04 17:00:00",
          "2023-01-04 18:00:00",
          "2023-01-04 19:00:00",
          "2023-01-04 20:00:00",
          "2023-01-04 21:00:00",
          "2023-01-04 22:00:00",
          "2023-01-04 23:00:00",
          "2023-01-05 00:00:00",
          "2023-01-05 01:00:00",
          "2023-01-05 02:00:00",
          "2023-01-05 03:00:00",
          "2023-01-05 04:00:00",
          "2023-01-05 05:00:00",
          "2023-01-05 06:00:00",
          "2023-01-05 07:00:00",
          "2023-01-05 08:00:00",
          "2023-01-05 09:00:00",
          "2023-01-05 10:00:00",
          "2023-01-05 11:00:00",
          "2023-01-05 12:00:00",
          "2023-01-05 13:00:00",
          "2023-01-05 14:00:00",
          "2023-01-05 15:00:00",
          "2023-01-05 16:00:00",
          "2023-01-05 17:00:00",
          "2023-01-05 18:00:00",
          "2023-01-05 19:00:00",
          "2023-01-05 20:00:00",
          "2023-01-05 21:00:00",
          "2023-01-05 22:00:00",
          "2023-01-05 23:00:00",
          "2023-01-06 00:00:00",
          "2023-01-06 01:00:00",
          "2023-01-06 02:00:00",
          "2023-01-06 03:00:00",
          "2023-01-06 04:00:00",
          "2023-01-06 05:00:00",
          "2023-01-06 06:00:00",
          "2023-01-06 07:00:00",
          "2023-01-06 08:00:00",
          "2023-01-06 09:00:00",
          "2023-01-06 10:00:00",
          "2023-01-06 11:00:00",
          "2023-01-06 12:00:00",
          "2023-01-06 13:00:00",
          "2023-01-06 14:00:00",
          "2023-01-06 15:00:00",
          "2023-01-06 16:00:00",
          "2023-01-06 17:00:00",
          "2023-01-06 18:00:00",
          "2023-01-06 19:00:00",
          "2023-01-06 20:00:00",
          "2023-01-06 21:00:00",
          "2023-01-06 22:00:00",
          "2023-01-06 23:00:00",
          "2023-01-07 00:00:00",
          "2023-01-07 01:00:00",
          "2023-01-07 02:00:00",
          "2023-01-07 03:00:00",
          "2023-01-07 04:00:00",
          "2023-01-07 05:00:00",
          "2023-01-07 06:00:00",
          "2023-01-07 07:00:00",
          "2023-01-07 08:00:00",
          "2023-01-07 09:00:00",
          "2023-01-07 10:00:00",
          "2023-01-07 11:00:00",
          "2023-01-07 12:00:00",
          "2023-01-07 13:00:00",
          "2023-01-07 14:00:00",
          "2023-01-07 15:00:00",
          "2023-01-07 16:00:00",
          "2023-01-07 17:00:00",
          "2023-01-07 18:00:00",
          "2023-01-07 19:00:00",
          "2023-01-07 20:00:00",
          "2023-01-07 21:00:00",
          "2023-01-07 22:00:00",
          "2023-01-07 23:00:00",
          "2023-01-08 00:00:00",
          "2023-01-08 01:00:00",
          "2023-01-08 02:00:00",
          "2023-01-08 03:00:00",
          "2023-01-08 04:00:00",
          "2023-01-08 05:00:00",
          "2023-01-08 06:00:00",
          "2023-01-08 07:00:00",
          "2023-01-08 08:00:00",
          "2023-01-08 09:00:00",
          "2023-01-08 10:00:00",
          "2023-01-08 11:00:00",
          "2023-01-08 12:00:00",
          "2023-01-08 13:00:00",
          "2023-01-08 14:00:00",
          "2023-01-08 15:00:00",
          "2023-01-08 16:00:00",
          "2023-01-08 17:00:00",
          "2023-01-08 18:00:00",
          "2023-01-08 19:00:00",
          "2023-01-08 20:00:00",
          "2023-01-08 21:00:00",
          "2023-01-08 22:00:00",
          "2023-01-08 23:00:00",
          "2023-01-09 00:00:00",
          "2023-01-09 01:00:00",
          "2023-01-09 02:00:00",
          "2023-01-09 03:00:00",
          "2023-01-09 04:00:00",
          "2023-01-09 05:00:00",
          "2023-01-09 06:00:00",
          "2023-01-09 07:00:00",
          "2023-01-09 08:00:00",
          "2023-01-09 09:00:00",
          "2023-01-09 10:00:00",
          "2023-01-09 11:00:00",
          "2023-01-09 12:00:00",
          "2023-01-09 13:00:00",
          "2023-01-09 14:00:00",
          "2023-01-09 15:00:00",
          "2023-01-09 16:00:00",
          "2023-01-09 17:00:00",
          "2023-01-09 18:00:00",
          "2023-01-09 19:00:00",
          "2023-01-09 20:00:00",
          "2023-01-09 21:00:00",
          "2023-01-09 22:00:00",
          "2023-01-09 23:00:00",
          "2023-01-10 00:00:00",
          "2023-01-10 01:00:00",
          "2023-01-10 02:00:00",
          "2023-01-10 03:00:00",
          "2023-01-10 04:00:00",
          "2023-01-10 05:00:00",
          "2023-01-10 06:00:00",
          "2023-01-10 07:00:00",
          "2023-01-10 08:00:00",
          "2023-01-10 09:00:00",
          "2023-01-10 10:00:00",
          "2023-01-10 11:00:00",
          "2023-01-10 12:00:00",
          "2023-01-10 13:00:00",
          "2023-01-10 14:00:00",
          "2023-01-10 15:00:00",
          "2023-01-10 16:00:00",
          "2023-01-10 17:00:00",
          "2023-01-10 18:00:00",
          "2023-01-10 19:00:00",
          "2023-01-10 20:00:00",
          "2023-01-10 21:00:00",
          "2023-01-10 22:00:00",
          "2023-01-10 23:00:00",
          "2023-01-11 00:00:00",
          "2023-01-11 01:00:00",
          "2023-01-11 02:00:00",
          "2023-01-11 03:00:00",
          "2023-01-11 04:00:00",
          "2023-01-11 05:00:00",
          "2023-01-11 06:00:00",
          "2023-01-11 07:00:00",
          "2023-01-11 08:00:00",
          "2023-01-11 09:00:00",
          "2023-01-11 10:00:00",
          "2023-01-11 11:00:00",
          "2023-01-11 12:00:00",
          "2023-01-11 13:00:00",
          "2023-01-11 14:00:00",
          "2023-01-11 15:00:00",
          "2023-01-11 16:00:00",
          "2023-01-11 17:00:00",
          "2023-01-11 18:00:00",
          "2023-01-11 19:00:00",
          "2023-01-11 20:00:00",
          "2023-01-11 21:00:00",
          "2023-01-11 22:00:00",
          "2023-01-11 23:00:00",
          "2023-01-12 00:00:00",
          "2023-01-12 01:00:00",
          "2023-01-12 02:00:00",
          "2023-01-12 03:00:00",
          "2023-01-12 04:00:00",
          "2023-01-12 05:00:00",
          "2023-01-12 06:00:00",
          "2023-01-12 07:00:00",
          "2023-01-12 08:00:00",
          "2023-01-12 09:00:00",
          "2023-01-12 10:00:00",
          "2023-01-12 11:00:00",
          "2023-01-12 12:00:00",
          "2023-01-12 13:00:00",
          "2023-01-12 14:00:00",
          "2023-01-12 15:00:00",
          "2023-01-12 16:00:00",
          "2023-01-12 17:00:00",
          "2023-01-12 18:00:00",
          "2023-01-12 19:00:00",
          "2023-01-12 20:00:00",
          "2023-01-12 21:00:00",
          "2023-01-12 22:00:00",
          "2023-01-12 23:00:00",
          "2023-01-13 00:00:00",
          "2023-01-13 01:00:00",
          "2023-01-13 02:00:00",
          "2023-01-13 03:00:00",
          "2023-01-13 04:00:00",
          "2023-01-13 05:00:00",
          "2023-01-13 06:00:00",
          "2023-01-13 07:00:00",
          "2023-01-13 08:00:00",
          "2023-01-13 09:00:00",
          "2023-01-13 10:00:00",
          "2023-01-13 11:00:00",
          "2023-01-13 12:00:00",
          "2023-01-13 13:00:00",
          "2023-01-13 14:00:00",
          "2023-01-13 15:00:00",
          "2023-01-13 16:00:00",
          "2023-01-13 17:00:00",
          "2023-01-13 18:00:00",
          "2023-01-13 19:00:00",
          "2023-01-13 20:00:00",
          "2023-01-13 21:00:00",
          "2023-01-13 22:00:00",
          "2023-01-13 23:00:00",
          "2023-01-14 00:00:00",
          "2023-01-14 01:00:00",
          "2023-01-14 02:00:00",
          "2023-01-14 03:00:00",
          "2023-01-14 04:00:00",
          "2023-01-14 05:00:00",
          "2023-01-14 06:00:00",
          "2023-01-14 07:00:00",
          "2023-01-14 08:00:00",
          "2023-01-14 09:00:00",
          "2023-01-14 10:00:00",
          "2023-01-14 11:00:00",
          "2023-01-14 12:00:00",
          "2023-01-14 13:00:00",
          "2023-01-14 14:00:00",
          "2023-01-14 15:00:00",
          "2023-01-14 16:00:00",
          "2023-01-14 17:00:00",
          "2023-01-14 18:00:00",
          "2023-01-14 19:00:00",
          "2023-01-14 20:00:00",
          "2023-01-14 21:00:00",
          "2023-01-14 22:00:00",
          "2023-01-14 23:00:00",
          "2023-01-15 00:00:00",
          "2023-01-15 01:00:00",
          "2023-01-15 02:00:00",
          "2023-01-15 03:00:00",
          "2023-01-15 04:00:00",
          "2023-01-15 05:00:00",
          "2023-01-15 06:00:00",
          "2023-01-15 07:00:00",
          "2023-01-15 08:00:00",
          "2023-01-15 09:00:00",
          "2023-01-15 10:00:00",
          "2023-01-15 11:00:00",
          "2023-01-15 12:00:00",
          "2023-01-15 13:00:00",
          "2023-01-15 14:00:00",
          "2023-01-15 15:00:00",
          "2023-01-15 16:00:00",
          "2023-01-15 17:00:00",
          "2023-01-15 18:00:00",
          "2023-01-15 19:00:00",
          "2023-01-15 20:00:00",
          "2023-01-15 21:00:00",
          "2023-01-15 22:00:00",
          "2023-01-15 23:00:00",
          "2023-01-16 00:00:00",
          "2023-01-16 01:00:00",
          "2023-01-16 02:00:00",
          "2023-01-16 03:00:00",
          "2023-01-16 04:00:00",
          "2023-01-16 05:00:00",
          "2023-01-16 06:00:00",
          "2023-01-16 07:00:00",
          "2023-01-16 08:00:00",
          "2023-01-16 09:00:00",
          "2023-01-16 10:00:00",
          "2023-01-16 11:00:00",
          "2023-01-16 12:00:00",
          "2023-01-16 13:00:00",
          "2023-01-16 14:00:00",
          "2023-01-16 15:00:00",
          "2023-01-16 16:00:00",
          "2023-01-16 17:00:00",
          "2023-01-16 18:00:00",
          "2023-01-16 19:00:00",
          "2023-01-16 20:00:00",
          "2023-01-16 21:00:00",
          "2023-01-16 22:00:00",
          "2023-01-16 23:00:00",
          "2023-01-17 00:00:00",
          "2023-01-17 01:00:00",
          "2023-01-17 02:00:00",
          "2023-01-17 03:00:00",
          "2023-01-17 04:00:00",
          "2023-01-17 05:00:00",
          "2023-01-17 06:00:00",
          "2023-01-17 07:00:00",
          "2023-01-17 08:00:00",
          "2023-01-17 09:00:00",
          "2023-01-17 10:00:00",
          "2023-01-17 11:00:00",
          "2023-01-17 12:00:00",
          "2023-01-17 13:00:00",
          "2023-01-17 14:00:00",
          "2023-01-17 15:00:00",
          "2023-01-17 16:00:00",
          "2023-01-17 17:00:00",
          "2023-01-17 18:00:00",
          "2023-01-17 19:00:00",
          "2023-01-17 20:00:00",
          "2023-01-17 21:00:00",
          "2023-01-17 22:00:00",
          "2023-01-17 23:00:00",
          "2023-01-18 00:00:00",
          "2023-01-18 01:00:00",
          "2023-01-18 02:00:00",
          "2023-01-18 03:00:00",
          "2023-01-18 04:00:00",
          "2023-01-18 05:00:00",
          "2023-01-18 06:00:00",
          "2023-01-18 07:00:00",
          "2023-01-18 08:00:00",
          "2023-01-18 09:00:00",
          "2023-01-18 10:00:00",
          "2023-01-18 11:00:00",
          "2023-01-18 12:00:00",
          "2023-01-18 13:00:00",
          "2023-01-18 14:00:00",
          "2023-01-18 15:00:00",
          "2023-01-18 16:00:00",
          "2023-01-18 17:00:00",
          "2023-01-18 18:00:00",
          "2023-01-18 19:00:00",
          "2023-01-18 20:00:00",
          "2023-01-18 21:00:00",
          "2023-01-18 22:00:00",
          "2023-01-18 23:00:00",
          "2023-01-19 00:00:00",
          "2023-01-19 01:00:00",
          "2023-01-19 02:00:00",
          "2023-01-19 03:00:00",
          "2023-01-19 04:00:00",
          "2023-01-19 05:00:00",
          "2023-01-19 06:00:00",
          "2023-01-19 07:00:00",
          "2023-01-19 08:00:00",
          "2023-01-19 09:00:00",
          "2023-01-19 10:00:00",
          "2023-01-19 11:00:00",
          "2023-01-19 12:00:00",
          "2023-01-19 13:00:00",
          "2023-01-19 14:00:00",
          "2023-01-19 15:00:00",
          "2023-01-19 16:00:00",
          "2023-01-19 17:00:00",
          "2023-01-19 18:00:00",
          "2023-01-19 19:00:00",
          "2023-01-19 20:00:00",
          "2023-01-19 21:00:00",
          "2023-01-19 22:00:00",
          "2023-01-19 23:00:00",
          "2023-01-20 00:00:00",
          "2023-01-20 01:00:00",
          "2023-01-20 02:00:00",
          "2023-01-20 03:00:00",
          "2023-01-20 04:00:00",
          "2023-01-20 05:00:00",
          "2023-01-20 06:00:00",
          "2023-01-20 07:00:00",
          "2023-01-20 08:00:00",
          "2023-01-20 09:00:00",
          "2023-01-20 10:00:00",
          "2023-01-20 11:00:00",
          "2023-01-20 12:00:00",
          "2023-01-20 13:00:00",
          "2023-01-20 14:00:00",
          "2023-01-20 15:00:00",
          "2023-01-20 16:00:00",
          "2023-01-20 17:00:00",
          "2023-01-20 18:00:00",
          "2023-01-20 19:00:00",
          "2023-01-20 20:00:00",
          "2023-01-20 21:00:00",
          "2023-01-20 22:00:00",
          "2023-01-20 23:00:00",
          "2023-01-21 00:00:00",
          "2023-01-21 01:00:00",
          "2023-01-21 02:00:00",
          "2023-01-21 03:00:00",
          "2023-01-21 04:00:00",
          "2023-01-21 05:00:00",
          "2023-01-21 06:00:00",
          "2023-01-21 07:00:00",
          "2023-01-21 08:00:00",
          "2023-01-21 09:00:00",
          "2023-01-21 10:00:00",
          "2023-01-21 11:00:00",
          "2023-01-21 12:00:00",
          "2023-01-21 13:00:00",
          "2023-01-21 14:00:00",
          "2023-01-21 15:00:00",
          "2023-01-21 16:00:00",
          "2023-01-21 17:00:00",
          "2023-01-21 18:00:00",
          "2023-01-21 19:00:00",
          "2023-01-21 20:00:00",
          "2023-01-21 21:00:00",
          "2023-01-21 22:00:00",
          "2023-01-21 23:00:00",
          "2023-01-22 00:00:00",
          "2023-01-22 01:00:00",
          "2023-01-22 02:00:00",
          "2023-01-22 03:00:00",
          "2023-01-22 04:00:00",
          "2023-01-22 05:00:00",
          "2023-01-22 06:00:00",
          "2023-01-22 07:00:00",
          "2023-01-22 08:00:00",
          "2023-01-22 09:00:00",
          "2023-01-22 10:00:00",
          "2023-01-22 11:00:00",
          "2023-01-22 12:00:00",
          "2023-01-22 13:00:00",
          "2023-01-22 14:00:00",
          "2023-01-22 15:00:00",
          "2023-01-22 16:00:00",
          "2023-01-22 17:00:00",
          "2023-01-22 18:00:00",
          "2023-01-22 19:00:00",
          "2023-01-22 20:00:00",
          "2023-01-22 21:00:00",
          "2023-01-22 22:00:00",
          "2023-01-22 23:00:00",
          "2023-01-23 00:00:00",
          "2023-01-23 01:00:00",
          "2023-01-23 02:00:00",
          "2023-01-23 03:00:00",
          "2023-01-23 04:00:00",
          "2023-01-23 05:00:00",
          "2023-01-23 06:00:00",
          "2023-01-23 07:00:00",
          "2023-01-23 08:00:00",
          "2023-01-23 09:00:00",
          "2023-01-23 10:00:00",
          "2023-01-23 11:00:00",
          "2023-01-23 12:00:00",
          "2023-01-23 13:00:00",
          "2023-01-23 14:00:00",
          "2023-01-23 15:00:00",
          "2023-01-23 16:00:00",
          "2023-01-23 17:00:00",
          "2023-01-23 18:00:00",
          "2023-01-23 19:00:00",
          "2023-01-23 20:00:00",
          "2023-01-23 21:00:00",
          "2023-01-23 22:00:00",
          "2023-01-23 23:00:00",
          "2023-01-24 00:00:00",
          "2023-01-24 01:00:00",
          "2023-01-24 02:00:00",
          "2023-01-24 03:00:00",
          "2023-01-24 04:00:00",
          "2023-01-24 05:00:00",
          "2023-01-24 06:00:00",
          "2023-01-24 07:00:00",
          "2023-01-24 08:00:00"
         ],
         "xaxis": "x",
         "y": [
          219,
          232,
          270,
          302,
          316,
          326,
          345,
          208,
          192,
          191,
          247,
          348,
          423,
          500,
          500,
          500,
          500,
          500,
          500,
          500,
          500,
          500,
          500,
          500,
          500,
          500,
          500,
          500,
          500,
          500,
          500,
          353,
          287,
          303,
          412,
          500,
          500,
          500,
          500,
          500,
          500,
          500,
          500,
          500,
          500,
          500,
          500,
          500,
          500,
          500,
          500,
          500,
          500,
          500,
          500,
          330,
          250,
          232,
          245,
          279,
          314,
          357,
          392,
          396,
          371,
          347,
          310,
          273,
          258,
          253,
          248,
          246,
          250,
          268,
          308,
          342,
          362,
          374,
          374,
          315,
          276,
          270,
          295,
          339,
          364,
          384,
          407,
          415,
          421,
          430,
          418,
          384,
          364,
          360,
          360,
          362,
          365,
          380,
          414,
          429,
          426,
          421,
          403,
          309,
          281,
          264,
          308,
          403,
          459,
          500,
          500,
          500,
          500,
          500,
          500,
          486,
          437,
          413,
          399,
          397,
          408,
          425,
          450,
          442,
          312,
          268,
          248,
          227,
          221,
          228,
          324,
          450,
          500,
          500,
          500,
          500,
          500,
          500,
          500,
          500,
          443,
          394,
          332,
          305,
          294,
          293,
          306,
          298,
          239,
          228,
          226,
          222,
          228,
          242,
          287,
          356,
          405,
          435,
          455,
          442,
          411,
          391,
          346,
          298,
          276,
          270,
          273,
          281,
          299,
          324,
          353,
          361,
          348,
          336,
          321,
          317,
          335,
          346,
          358,
          375,
          377,
          413,
          477,
          500,
          500,
          500,
          500,
          426,
          388,
          366,
          353,
          339,
          329,
          325,
          374,
          419,
          451,
          482,
          498,
          465,
          456,
          444,
          490,
          500,
          500,
          500,
          500,
          500,
          500,
          500,
          500,
          500,
          476,
          425,
          379,
          356,
          349,
          361,
          404,
          425,
          439,
          448,
          443,
          408,
          388,
          373,
          353,
          348,
          346,
          358,
          375,
          386,
          390,
          392,
          384,
          371,
          374,
          385,
          391,
          394,
          397,
          408,
          434,
          454,
          453,
          452,
          450,
          367,
          326,
          331,
          421,
          500,
          500,
          500,
          500,
          500,
          496,
          481,
          494,
          489,
          449,
          397,
          352,
          342,
          335,
          338,
          369,
          394,
          394,
          384,
          379,
          301,
          300,
          306,
          315,
          332,
          337,
          345,
          352,
          352,
          347,
          353,
          351,
          338,
          346,
          372,
          384,
          375,
          365,
          360,
          364,
          367,
          355,
          322,
          288,
          255,
          247,
          239,
          302,
          404,
          470,
          500,
          500,
          500,
          500,
          500,
          500,
          500,
          500,
          500,
          500,
          426,
          363,
          346,
          359,
          361,
          333,
          322,
          318,
          285,
          278,
          283,
          283,
          274,
          244,
          221,
          212,
          207,
          203,
          203,
          201,
          204,
          219,
          231,
          227,
          215,
          208,
          208,
          213,
          212,
          203,
          195,
          187,
          157,
          152,
          153,
          158,
          168,
          176,
          187,
          202,
          216,
          217,
          214,
          197,
          183,
          182,
          185,
          188,
          191,
          197,
          220,
          276,
          310,
          317,
          332,
          338,
          178,
          162,
          160,
          172,
          192,
          213,
          244,
          266,
          270,
          265,
          261,
          235,
          198,
          191,
          190,
          191,
          193,
          197,
          217,
          265,
          296,
          306,
          321,
          320,
          199,
          187,
          184,
          192,
          219,
          244,
          288,
          355,
          405,
          434,
          463,
          455,
          409,
          371,
          355,
          346,
          338,
          334,
          351,
          413,
          440,
          438,
          448,
          466,
          235,
          207,
          202,
          269,
          378,
          435,
          483,
          500,
          500,
          500,
          500,
          500,
          442,
          387,
          332,
          273,
          258,
          257,
          270,
          315,
          358,
          383,
          405,
          423,
          232,
          213,
          254,
          397,
          500,
          500,
          500,
          500,
          500,
          500,
          500,
          500,
          476,
          372,
          348,
          373,
          406,
          429,
          465,
          500,
          500,
          475,
          456,
          418,
          289,
          216,
          184,
          172,
          175,
          175,
          183,
          208,
          244,
          288,
          339,
          351,
          315,
          280,
          255,
          239,
          237,
          249,
          245,
          264,
          278,
          286,
          284,
          287,
          198,
          202,
          234,
          289,
          357,
          402,
          407,
          397,
          363,
          328,
          299,
          275,
          271,
          288,
          302,
          291,
          273,
          254,
          237,
          230,
          227,
          225,
          218,
          210,
          188,
          190,
          195,
          212,
          232,
          239,
          241,
          239,
          230,
          211,
          204,
          198,
          196,
          197,
          197,
          193,
          190,
          189,
          189,
          194,
          198,
          202,
          206,
          209,
          183,
          181,
          181,
          197,
          293,
          460,
          500,
          500,
          500,
          500,
          500,
          500,
          500,
          500,
          500,
          494,
          458,
          429,
          373,
          341,
          320,
          281,
          275,
          292,
          215,
          186
         ],
         "yaxis": "y"
        }
       ],
       "layout": {
        "autosize": true,
        "barmode": "relative",
        "legend": {
         "title": {
          "text": "variable"
         },
         "tracegroupgap": 0
        },
        "template": {
         "data": {
          "bar": [
           {
            "error_x": {
             "color": "#2a3f5f"
            },
            "error_y": {
             "color": "#2a3f5f"
            },
            "marker": {
             "line": {
              "color": "#E5ECF6",
              "width": 0.5
             },
             "pattern": {
              "fillmode": "overlay",
              "size": 10,
              "solidity": 0.2
             }
            },
            "type": "bar"
           }
          ],
          "barpolar": [
           {
            "marker": {
             "line": {
              "color": "#E5ECF6",
              "width": 0.5
             },
             "pattern": {
              "fillmode": "overlay",
              "size": 10,
              "solidity": 0.2
             }
            },
            "type": "barpolar"
           }
          ],
          "carpet": [
           {
            "aaxis": {
             "endlinecolor": "#2a3f5f",
             "gridcolor": "white",
             "linecolor": "white",
             "minorgridcolor": "white",
             "startlinecolor": "#2a3f5f"
            },
            "baxis": {
             "endlinecolor": "#2a3f5f",
             "gridcolor": "white",
             "linecolor": "white",
             "minorgridcolor": "white",
             "startlinecolor": "#2a3f5f"
            },
            "type": "carpet"
           }
          ],
          "choropleth": [
           {
            "colorbar": {
             "outlinewidth": 0,
             "ticks": ""
            },
            "type": "choropleth"
           }
          ],
          "contour": [
           {
            "colorbar": {
             "outlinewidth": 0,
             "ticks": ""
            },
            "colorscale": [
             [
              0,
              "#0d0887"
             ],
             [
              0.1111111111111111,
              "#46039f"
             ],
             [
              0.2222222222222222,
              "#7201a8"
             ],
             [
              0.3333333333333333,
              "#9c179e"
             ],
             [
              0.4444444444444444,
              "#bd3786"
             ],
             [
              0.5555555555555556,
              "#d8576b"
             ],
             [
              0.6666666666666666,
              "#ed7953"
             ],
             [
              0.7777777777777778,
              "#fb9f3a"
             ],
             [
              0.8888888888888888,
              "#fdca26"
             ],
             [
              1,
              "#f0f921"
             ]
            ],
            "type": "contour"
           }
          ],
          "contourcarpet": [
           {
            "colorbar": {
             "outlinewidth": 0,
             "ticks": ""
            },
            "type": "contourcarpet"
           }
          ],
          "heatmap": [
           {
            "colorbar": {
             "outlinewidth": 0,
             "ticks": ""
            },
            "colorscale": [
             [
              0,
              "#0d0887"
             ],
             [
              0.1111111111111111,
              "#46039f"
             ],
             [
              0.2222222222222222,
              "#7201a8"
             ],
             [
              0.3333333333333333,
              "#9c179e"
             ],
             [
              0.4444444444444444,
              "#bd3786"
             ],
             [
              0.5555555555555556,
              "#d8576b"
             ],
             [
              0.6666666666666666,
              "#ed7953"
             ],
             [
              0.7777777777777778,
              "#fb9f3a"
             ],
             [
              0.8888888888888888,
              "#fdca26"
             ],
             [
              1,
              "#f0f921"
             ]
            ],
            "type": "heatmap"
           }
          ],
          "heatmapgl": [
           {
            "colorbar": {
             "outlinewidth": 0,
             "ticks": ""
            },
            "colorscale": [
             [
              0,
              "#0d0887"
             ],
             [
              0.1111111111111111,
              "#46039f"
             ],
             [
              0.2222222222222222,
              "#7201a8"
             ],
             [
              0.3333333333333333,
              "#9c179e"
             ],
             [
              0.4444444444444444,
              "#bd3786"
             ],
             [
              0.5555555555555556,
              "#d8576b"
             ],
             [
              0.6666666666666666,
              "#ed7953"
             ],
             [
              0.7777777777777778,
              "#fb9f3a"
             ],
             [
              0.8888888888888888,
              "#fdca26"
             ],
             [
              1,
              "#f0f921"
             ]
            ],
            "type": "heatmapgl"
           }
          ],
          "histogram": [
           {
            "marker": {
             "pattern": {
              "fillmode": "overlay",
              "size": 10,
              "solidity": 0.2
             }
            },
            "type": "histogram"
           }
          ],
          "histogram2d": [
           {
            "colorbar": {
             "outlinewidth": 0,
             "ticks": ""
            },
            "colorscale": [
             [
              0,
              "#0d0887"
             ],
             [
              0.1111111111111111,
              "#46039f"
             ],
             [
              0.2222222222222222,
              "#7201a8"
             ],
             [
              0.3333333333333333,
              "#9c179e"
             ],
             [
              0.4444444444444444,
              "#bd3786"
             ],
             [
              0.5555555555555556,
              "#d8576b"
             ],
             [
              0.6666666666666666,
              "#ed7953"
             ],
             [
              0.7777777777777778,
              "#fb9f3a"
             ],
             [
              0.8888888888888888,
              "#fdca26"
             ],
             [
              1,
              "#f0f921"
             ]
            ],
            "type": "histogram2d"
           }
          ],
          "histogram2dcontour": [
           {
            "colorbar": {
             "outlinewidth": 0,
             "ticks": ""
            },
            "colorscale": [
             [
              0,
              "#0d0887"
             ],
             [
              0.1111111111111111,
              "#46039f"
             ],
             [
              0.2222222222222222,
              "#7201a8"
             ],
             [
              0.3333333333333333,
              "#9c179e"
             ],
             [
              0.4444444444444444,
              "#bd3786"
             ],
             [
              0.5555555555555556,
              "#d8576b"
             ],
             [
              0.6666666666666666,
              "#ed7953"
             ],
             [
              0.7777777777777778,
              "#fb9f3a"
             ],
             [
              0.8888888888888888,
              "#fdca26"
             ],
             [
              1,
              "#f0f921"
             ]
            ],
            "type": "histogram2dcontour"
           }
          ],
          "mesh3d": [
           {
            "colorbar": {
             "outlinewidth": 0,
             "ticks": ""
            },
            "type": "mesh3d"
           }
          ],
          "parcoords": [
           {
            "line": {
             "colorbar": {
              "outlinewidth": 0,
              "ticks": ""
             }
            },
            "type": "parcoords"
           }
          ],
          "pie": [
           {
            "automargin": true,
            "type": "pie"
           }
          ],
          "scatter": [
           {
            "fillpattern": {
             "fillmode": "overlay",
             "size": 10,
             "solidity": 0.2
            },
            "type": "scatter"
           }
          ],
          "scatter3d": [
           {
            "line": {
             "colorbar": {
              "outlinewidth": 0,
              "ticks": ""
             }
            },
            "marker": {
             "colorbar": {
              "outlinewidth": 0,
              "ticks": ""
             }
            },
            "type": "scatter3d"
           }
          ],
          "scattercarpet": [
           {
            "marker": {
             "colorbar": {
              "outlinewidth": 0,
              "ticks": ""
             }
            },
            "type": "scattercarpet"
           }
          ],
          "scattergeo": [
           {
            "marker": {
             "colorbar": {
              "outlinewidth": 0,
              "ticks": ""
             }
            },
            "type": "scattergeo"
           }
          ],
          "scattergl": [
           {
            "marker": {
             "colorbar": {
              "outlinewidth": 0,
              "ticks": ""
             }
            },
            "type": "scattergl"
           }
          ],
          "scattermapbox": [
           {
            "marker": {
             "colorbar": {
              "outlinewidth": 0,
              "ticks": ""
             }
            },
            "type": "scattermapbox"
           }
          ],
          "scatterpolar": [
           {
            "marker": {
             "colorbar": {
              "outlinewidth": 0,
              "ticks": ""
             }
            },
            "type": "scatterpolar"
           }
          ],
          "scatterpolargl": [
           {
            "marker": {
             "colorbar": {
              "outlinewidth": 0,
              "ticks": ""
             }
            },
            "type": "scatterpolargl"
           }
          ],
          "scatterternary": [
           {
            "marker": {
             "colorbar": {
              "outlinewidth": 0,
              "ticks": ""
             }
            },
            "type": "scatterternary"
           }
          ],
          "surface": [
           {
            "colorbar": {
             "outlinewidth": 0,
             "ticks": ""
            },
            "colorscale": [
             [
              0,
              "#0d0887"
             ],
             [
              0.1111111111111111,
              "#46039f"
             ],
             [
              0.2222222222222222,
              "#7201a8"
             ],
             [
              0.3333333333333333,
              "#9c179e"
             ],
             [
              0.4444444444444444,
              "#bd3786"
             ],
             [
              0.5555555555555556,
              "#d8576b"
             ],
             [
              0.6666666666666666,
              "#ed7953"
             ],
             [
              0.7777777777777778,
              "#fb9f3a"
             ],
             [
              0.8888888888888888,
              "#fdca26"
             ],
             [
              1,
              "#f0f921"
             ]
            ],
            "type": "surface"
           }
          ],
          "table": [
           {
            "cells": {
             "fill": {
              "color": "#EBF0F8"
             },
             "line": {
              "color": "white"
             }
            },
            "header": {
             "fill": {
              "color": "#C8D4E3"
             },
             "line": {
              "color": "white"
             }
            },
            "type": "table"
           }
          ]
         },
         "layout": {
          "annotationdefaults": {
           "arrowcolor": "#2a3f5f",
           "arrowhead": 0,
           "arrowwidth": 1
          },
          "autotypenumbers": "strict",
          "coloraxis": {
           "colorbar": {
            "outlinewidth": 0,
            "ticks": ""
           }
          },
          "colorscale": {
           "diverging": [
            [
             0,
             "#8e0152"
            ],
            [
             0.1,
             "#c51b7d"
            ],
            [
             0.2,
             "#de77ae"
            ],
            [
             0.3,
             "#f1b6da"
            ],
            [
             0.4,
             "#fde0ef"
            ],
            [
             0.5,
             "#f7f7f7"
            ],
            [
             0.6,
             "#e6f5d0"
            ],
            [
             0.7,
             "#b8e186"
            ],
            [
             0.8,
             "#7fbc41"
            ],
            [
             0.9,
             "#4d9221"
            ],
            [
             1,
             "#276419"
            ]
           ],
           "sequential": [
            [
             0,
             "#0d0887"
            ],
            [
             0.1111111111111111,
             "#46039f"
            ],
            [
             0.2222222222222222,
             "#7201a8"
            ],
            [
             0.3333333333333333,
             "#9c179e"
            ],
            [
             0.4444444444444444,
             "#bd3786"
            ],
            [
             0.5555555555555556,
             "#d8576b"
            ],
            [
             0.6666666666666666,
             "#ed7953"
            ],
            [
             0.7777777777777778,
             "#fb9f3a"
            ],
            [
             0.8888888888888888,
             "#fdca26"
            ],
            [
             1,
             "#f0f921"
            ]
           ],
           "sequentialminus": [
            [
             0,
             "#0d0887"
            ],
            [
             0.1111111111111111,
             "#46039f"
            ],
            [
             0.2222222222222222,
             "#7201a8"
            ],
            [
             0.3333333333333333,
             "#9c179e"
            ],
            [
             0.4444444444444444,
             "#bd3786"
            ],
            [
             0.5555555555555556,
             "#d8576b"
            ],
            [
             0.6666666666666666,
             "#ed7953"
            ],
            [
             0.7777777777777778,
             "#fb9f3a"
            ],
            [
             0.8888888888888888,
             "#fdca26"
            ],
            [
             1,
             "#f0f921"
            ]
           ]
          },
          "colorway": [
           "#636efa",
           "#EF553B",
           "#00cc96",
           "#ab63fa",
           "#FFA15A",
           "#19d3f3",
           "#FF6692",
           "#B6E880",
           "#FF97FF",
           "#FECB52"
          ],
          "font": {
           "color": "#2a3f5f"
          },
          "geo": {
           "bgcolor": "white",
           "lakecolor": "white",
           "landcolor": "#E5ECF6",
           "showlakes": true,
           "showland": true,
           "subunitcolor": "white"
          },
          "hoverlabel": {
           "align": "left"
          },
          "hovermode": "closest",
          "mapbox": {
           "style": "light"
          },
          "paper_bgcolor": "white",
          "plot_bgcolor": "#E5ECF6",
          "polar": {
           "angularaxis": {
            "gridcolor": "white",
            "linecolor": "white",
            "ticks": ""
           },
           "bgcolor": "#E5ECF6",
           "radialaxis": {
            "gridcolor": "white",
            "linecolor": "white",
            "ticks": ""
           }
          },
          "scene": {
           "xaxis": {
            "backgroundcolor": "#E5ECF6",
            "gridcolor": "white",
            "gridwidth": 2,
            "linecolor": "white",
            "showbackground": true,
            "ticks": "",
            "zerolinecolor": "white"
           },
           "yaxis": {
            "backgroundcolor": "#E5ECF6",
            "gridcolor": "white",
            "gridwidth": 2,
            "linecolor": "white",
            "showbackground": true,
            "ticks": "",
            "zerolinecolor": "white"
           },
           "zaxis": {
            "backgroundcolor": "#E5ECF6",
            "gridcolor": "white",
            "gridwidth": 2,
            "linecolor": "white",
            "showbackground": true,
            "ticks": "",
            "zerolinecolor": "white"
           }
          },
          "shapedefaults": {
           "line": {
            "color": "#2a3f5f"
           }
          },
          "ternary": {
           "aaxis": {
            "gridcolor": "white",
            "linecolor": "white",
            "ticks": ""
           },
           "baxis": {
            "gridcolor": "white",
            "linecolor": "white",
            "ticks": ""
           },
           "bgcolor": "#E5ECF6",
           "caxis": {
            "gridcolor": "white",
            "linecolor": "white",
            "ticks": ""
           }
          },
          "title": {
           "x": 0.05
          },
          "xaxis": {
           "automargin": true,
           "gridcolor": "white",
           "linecolor": "white",
           "ticks": "",
           "title": {
            "standoff": 15
           },
           "zerolinecolor": "white",
           "zerolinewidth": 2
          },
          "yaxis": {
           "automargin": true,
           "gridcolor": "white",
           "linecolor": "white",
           "ticks": "",
           "title": {
            "standoff": 15
           },
           "zerolinecolor": "white",
           "zerolinewidth": 2
          }
         }
        },
        "title": {
         "text": "AQI of Delhi in January"
        },
        "xaxis": {
         "anchor": "y",
         "autorange": true,
         "domain": [
          0,
          1
         ],
         "range": [
          "2022-12-31 23:30",
          "2023-01-24 08:30"
         ],
         "title": {
          "text": "Date"
         },
         "type": "date"
        },
        "yaxis": {
         "anchor": "x",
         "autorange": true,
         "domain": [
          0,
          1
         ],
         "range": [
          0,
          1578.9473684210527
         ],
         "title": {
          "text": "AQI"
         },
         "type": "linear"
        }
       }
      },
      "image/png": "[encoded data removed]",
      "text/html": [
       "<div>                            <div id=\"243a96ba-81c5-45c4-bc13-5e06393d9aca\" class=\"plotly-graph-div\" style=\"height:525px; width:100%;\"></div>            <script type=\"text/javascript\">                require([\"plotly\"], function(Plotly) {                    window.PLOTLYENV=window.PLOTLYENV || {};                                    if (document.getElementById(\"243a96ba-81c5-45c4-bc13-5e06393d9aca\")) {                    Plotly.newPlot(                        \"243a96ba-81c5-45c4-bc13-5e06393d9aca\",                        [{\"alignmentgroup\":\"True\",\"hovertemplate\":\"variable=PM2.5_AQI\\u003cbr\\u003edate=%{x}\\u003cbr\\u003evalue=%{y}\\u003cextra\\u003e\\u003c\\u002fextra\\u003e\",\"legendgroup\":\"PM2.5_AQI\",\"marker\":{\"color\":\"#636efa\",\"pattern\":{\"shape\":\"\"}},\"name\":\"PM2.5_AQI\",\"offsetgroup\":\"PM2.5_AQI\",\"orientation\":\"v\",\"showlegend\":true,\"textposition\":\"auto\",\"x\":[\"2023-01-01 00:00:00\",\"2023-01-01 01:00:00\",\"2023-01-01 02:00:00\",\"2023-01-01 03:00:00\",\"2023-01-01 04:00:00\",\"2023-01-01 05:00:00\",\"2023-01-01 06:00:00\",\"2023-01-01 07:00:00\",\"2023-01-01 08:00:00\",\"2023-01-01 09:00:00\",\"2023-01-01 10:00:00\",\"2023-01-01 11:00:00\",\"2023-01-01 12:00:00\",\"2023-01-01 13:00:00\",\"2023-01-01 14:00:00\",\"2023-01-01 15:00:00\",\"2023-01-01 16:00:00\",\"2023-01-01 17:00:00\",\"2023-01-01 18:00:00\",\"2023-01-01 19:00:00\",\"2023-01-01 20:00:00\",\"2023-01-01 21:00:00\",\"2023-01-01 22:00:00\",\"2023-01-01 23:00:00\",\"2023-01-02 00:00:00\",\"2023-01-02 01:00:00\",\"2023-01-02 02:00:00\",\"2023-01-02 03:00:00\",\"2023-01-02 04:00:00\",\"2023-01-02 05:00:00\",\"2023-01-02 06:00:00\",\"2023-01-02 07:00:00\",\"2023-01-02 08:00:00\",\"2023-01-02 09:00:00\",\"2023-01-02 10:00:00\",\"2023-01-02 11:00:00\",\"2023-01-02 12:00:00\",\"2023-01-02 13:00:00\",\"2023-01-02 14:00:00\",\"2023-01-02 15:00:00\",\"2023-01-02 16:00:00\",\"2023-01-02 17:00:00\",\"2023-01-02 18:00:00\",\"2023-01-02 19:00:00\",\"2023-01-02 20:00:00\",\"2023-01-02 21:00:00\",\"2023-01-02 22:00:00\",\"2023-01-02 23:00:00\",\"2023-01-03 00:00:00\",\"2023-01-03 01:00:00\",\"2023-01-03 02:00:00\",\"2023-01-03 03:00:00\",\"2023-01-03 04:00:00\",\"2023-01-03 05:00:00\",\"2023-01-03 06:00:00\",\"2023-01-03 07:00:00\",\"2023-01-03 08:00:00\",\"2023-01-03 09:00:00\",\"2023-01-03 10:00:00\",\"2023-01-03 11:00:00\",\"2023-01-03 12:00:00\",\"2023-01-03 13:00:00\",\"2023-01-03 14:00:00\",\"2023-01-03 15:00:00\",\"2023-01-03 16:00:00\",\"2023-01-03 17:00:00\",\"2023-01-03 18:00:00\",\"2023-01-03 19:00:00\",\"2023-01-03 20:00:00\",\"2023-01-03 21:00:00\",\"2023-01-03 22:00:00\",\"2023-01-03 23:00:00\",\"2023-01-04 00:00:00\",\"2023-01-04 01:00:00\",\"2023-01-04 02:00:00\",\"2023-01-04 03:00:00\",\"2023-01-04 04:00:00\",\"2023-01-04 05:00:00\",\"2023-01-04 06:00:00\",\"2023-01-04 07:00:00\",\"2023-01-04 08:00:00\",\"2023-01-04 09:00:00\",\"2023-01-04 10:00:00\",\"2023-01-04 11:00:00\",\"2023-01-04 12:00:00\",\"2023-01-04 13:00:00\",\"2023-01-04 14:00:00\",\"2023-01-04 15:00:00\",\"2023-01-04 16:00:00\",\"2023-01-04 17:00:00\",\"2023-01-04 18:00:00\",\"2023-01-04 19:00:00\",\"2023-01-04 20:00:00\",\"2023-01-04 21:00:00\",\"2023-01-04 22:00:00\",\"2023-01-04 23:00:00\",\"2023-01-05 00:00:00\",\"2023-01-05 01:00:00\",\"2023-01-05 02:00:00\",\"2023-01-05 03:00:00\",\"2023-01-05 04:00:00\",\"2023-01-05 05:00:00\",\"2023-01-05 06:00:00\",\"2023-01-05 07:00:00\",\"2023-01-05 08:00:00\",\"2023-01-05 09:00:00\",\"2023-01-05 10:00:00\",\"2023-01-05 11:00:00\",\"2023-01-05 12:00:00\",\"2023-01-05 13:00:00\",\"2023-01-05 14:00:00\",\"2023-01-05 15:00:00\",\"2023-01-05 16:00:00\",\"2023-01-05 17:00:00\",\"2023-01-05 18:00:00\",\"2023-01-05 19:00:00\",\"2023-01-05 20:00:00\",\"2023-01-05 21:00:00\",\"2023-01-05 22:00:00\",\"2023-01-05 23:00:00\",\"2023-01-06 00:00:00\",\"2023-01-06 01:00:00\",\"2023-01-06 02:00:00\",\"2023-01-06 03:00:00\",\"2023-01-06 04:00:00\",\"2023-01-06 05:00:00\",\"2023-01-06 06:00:00\",\"2023-01-06 07:00:00\",\"2023-01-06 08:00:00\",\"2023-01-06 09:00:00\",\"2023-01-06 10:00:00\",\"2023-01-06 11:00:00\",\"2023-01-06 12:00:00\",\"2023-01-06 13:00:00\",\"2023-01-06 14:00:00\",\"2023-01-06 15:00:00\",\"2023-01-06 16:00:00\",\"2023-01-06 17:00:00\",\"2023-01-06 18:00:00\",\"2023-01-06 19:00:00\",\"2023-01-06 20:00:00\",\"2023-01-06 21:00:00\",\"2023-01-06 22:00:00\",\"2023-01-06 23:00:00\",\"2023-01-07 00:00:00\",\"2023-01-07 01:00:00\",\"2023-01-07 02:00:00\",\"2023-01-07 03:00:00\",\"2023-01-07 04:00:00\",\"2023-01-07 05:00:00\",\"2023-01-07 06:00:00\",\"2023-01-07 07:00:00\",\"2023-01-07 08:00:00\",\"2023-01-07 09:00:00\",\"2023-01-07 10:00:00\",\"2023-01-07 11:00:00\",\"2023-01-07 12:00:00\",\"2023-01-07 13:00:00\",\"2023-01-07 14:00:00\",\"2023-01-07 15:00:00\",\"2023-01-07 16:00:00\",\"2023-01-07 17:00:00\",\"2023-01-07 18:00:00\",\"2023-01-07 19:00:00\",\"2023-01-07 20:00:00\",\"2023-01-07 21:00:00\",\"2023-01-07 22:00:00\",\"2023-01-07 23:00:00\",\"2023-01-08 00:00:00\",\"2023-01-08 01:00:00\",\"2023-01-08 02:00:00\",\"2023-01-08 03:00:00\",\"2023-01-08 04:00:00\",\"2023-01-08 05:00:00\",\"2023-01-08 06:00:00\",\"2023-01-08 07:00:00\",\"2023-01-08 08:00:00\",\"2023-01-08 09:00:00\",\"2023-01-08 10:00:00\",\"2023-01-08 11:00:00\",\"2023-01-08 12:00:00\",\"2023-01-08 13:00:00\",\"2023-01-08 14:00:00\",\"2023-01-08 15:00:00\",\"2023-01-08 16:00:00\",\"2023-01-08 17:00:00\",\"2023-01-08 18:00:00\",\"2023-01-08 19:00:00\",\"2023-01-08 20:00:00\",\"2023-01-08 21:00:00\",\"2023-01-08 22:00:00\",\"2023-01-08 23:00:00\",\"2023-01-09 00:00:00\",\"2023-01-09 01:00:00\",\"2023-01-09 02:00:00\",\"2023-01-09 03:00:00\",\"2023-01-09 04:00:00\",\"2023-01-09 05:00:00\",\"2023-01-09 06:00:00\",\"2023-01-09 07:00:00\",\"2023-01-09 08:00:00\",\"2023-01-09 09:00:00\",\"2023-01-09 10:00:00\",\"2023-01-09 11:00:00\",\"2023-01-09 12:00:00\",\"2023-01-09 13:00:00\",\"2023-01-09 14:00:00\",\"2023-01-09 15:00:00\",\"2023-01-09 16:00:00\",\"2023-01-09 17:00:00\",\"2023-01-09 18:00:00\",\"2023-01-09 19:00:00\",\"2023-01-09 20:00:00\",\"2023-01-09 21:00:00\",\"2023-01-09 22:00:00\",\"2023-01-09 23:00:00\",\"2023-01-10 00:00:00\",\"2023-01-10 01:00:00\",\"2023-01-10 02:00:00\",\"2023-01-10 03:00:00\",\"2023-01-10 04:00:00\",\"2023-01-10 05:00:00\",\"2023-01-10 06:00:00\",\"2023-01-10 07:00:00\",\"2023-01-10 08:00:00\",\"2023-01-10 09:00:00\",\"2023-01-10 10:00:00\",\"2023-01-10 11:00:00\",\"2023-01-10 12:00:00\",\"2023-01-10 13:00:00\",\"2023-01-10 14:00:00\",\"2023-01-10 15:00:00\",\"2023-01-10 16:00:00\",\"2023-01-10 17:00:00\",\"2023-01-10 18:00:00\",\"2023-01-10 19:00:00\",\"2023-01-10 20:00:00\",\"2023-01-10 21:00:00\",\"2023-01-10 22:00:00\",\"2023-01-10 23:00:00\",\"2023-01-11 00:00:00\",\"2023-01-11 01:00:00\",\"2023-01-11 02:00:00\",\"2023-01-11 03:00:00\",\"2023-01-11 04:00:00\",\"2023-01-11 05:00:00\",\"2023-01-11 06:00:00\",\"2023-01-11 07:00:00\",\"2023-01-11 08:00:00\",\"2023-01-11 09:00:00\",\"2023-01-11 10:00:00\",\"2023-01-11 11:00:00\",\"2023-01-11 12:00:00\",\"2023-01-11 13:00:00\",\"2023-01-11 14:00:00\",\"2023-01-11 15:00:00\",\"2023-01-11 16:00:00\",\"2023-01-11 17:00:00\",\"2023-01-11 18:00:00\",\"2023-01-11 19:00:00\",\"2023-01-11 20:00:00\",\"2023-01-11 21:00:00\",\"2023-01-11 22:00:00\",\"2023-01-11 23:00:00\",\"2023-01-12 00:00:00\",\"2023-01-12 01:00:00\",\"2023-01-12 02:00:00\",\"2023-01-12 03:00:00\",\"2023-01-12 04:00:00\",\"2023-01-12 05:00:00\",\"2023-01-12 06:00:00\",\"2023-01-12 07:00:00\",\"2023-01-12 08:00:00\",\"2023-01-12 09:00:00\",\"2023-01-12 10:00:00\",\"2023-01-12 11:00:00\",\"2023-01-12 12:00:00\",\"2023-01-12 13:00:00\",\"2023-01-12 14:00:00\",\"2023-01-12 15:00:00\",\"2023-01-12 16:00:00\",\"2023-01-12 17:00:00\",\"2023-01-12 18:00:00\",\"2023-01-12 19:00:00\",\"2023-01-12 20:00:00\",\"2023-01-12 21:00:00\",\"2023-01-12 22:00:00\",\"2023-01-12 23:00:00\",\"2023-01-13 00:00:00\",\"2023-01-13 01:00:00\",\"2023-01-13 02:00:00\",\"2023-01-13 03:00:00\",\"2023-01-13 04:00:00\",\"2023-01-13 05:00:00\",\"2023-01-13 06:00:00\",\"2023-01-13 07:00:00\",\"2023-01-13 08:00:00\",\"2023-01-13 09:00:00\",\"2023-01-13 10:00:00\",\"2023-01-13 11:00:00\",\"2023-01-13 12:00:00\",\"2023-01-13 13:00:00\",\"2023-01-13 14:00:00\",\"2023-01-13 15:00:00\",\"2023-01-13 16:00:00\",\"2023-01-13 17:00:00\",\"2023-01-13 18:00:00\",\"2023-01-13 19:00:00\",\"2023-01-13 20:00:00\",\"2023-01-13 21:00:00\",\"2023-01-13 22:00:00\",\"2023-01-13 23:00:00\",\"2023-01-14 00:00:00\",\"2023-01-14 01:00:00\",\"2023-01-14 02:00:00\",\"2023-01-14 03:00:00\",\"2023-01-14 04:00:00\",\"2023-01-14 05:00:00\",\"2023-01-14 06:00:00\",\"2023-01-14 07:00:00\",\"2023-01-14 08:00:00\",\"2023-01-14 09:00:00\",\"2023-01-14 10:00:00\",\"2023-01-14 11:00:00\",\"2023-01-14 12:00:00\",\"2023-01-14 13:00:00\",\"2023-01-14 14:00:00\",\"2023-01-14 15:00:00\",\"2023-01-14 16:00:00\",\"2023-01-14 17:00:00\",\"2023-01-14 18:00:00\",\"2023-01-14 19:00:00\",\"2023-01-14 20:00:00\",\"2023-01-14 21:00:00\",\"2023-01-14 22:00:00\",\"2023-01-14 23:00:00\",\"2023-01-15 00:00:00\",\"2023-01-15 01:00:00\",\"2023-01-15 02:00:00\",\"2023-01-15 03:00:00\",\"2023-01-15 04:00:00\",\"2023-01-15 05:00:00\",\"2023-01-15 06:00:00\",\"2023-01-15 07:00:00\",\"2023-01-15 08:00:00\",\"2023-01-15 09:00:00\",\"2023-01-15 10:00:00\",\"2023-01-15 11:00:00\",\"2023-01-15 12:00:00\",\"2023-01-15 13:00:00\",\"2023-01-15 14:00:00\",\"2023-01-15 15:00:00\",\"2023-01-15 16:00:00\",\"2023-01-15 17:00:00\",\"2023-01-15 18:00:00\",\"2023-01-15 19:00:00\",\"2023-01-15 20:00:00\",\"2023-01-15 21:00:00\",\"2023-01-15 22:00:00\",\"2023-01-15 23:00:00\",\"2023-01-16 00:00:00\",\"2023-01-16 01:00:00\",\"2023-01-16 02:00:00\",\"2023-01-16 03:00:00\",\"2023-01-16 04:00:00\",\"2023-01-16 05:00:00\",\"2023-01-16 06:00:00\",\"2023-01-16 07:00:00\",\"2023-01-16 08:00:00\",\"2023-01-16 09:00:00\",\"2023-01-16 10:00:00\",\"2023-01-16 11:00:00\",\"2023-01-16 12:00:00\",\"2023-01-16 13:00:00\",\"2023-01-16 14:00:00\",\"2023-01-16 15:00:00\",\"2023-01-16 16:00:00\",\"2023-01-16 17:00:00\",\"2023-01-16 18:00:00\",\"2023-01-16 19:00:00\",\"2023-01-16 20:00:00\",\"2023-01-16 21:00:00\",\"2023-01-16 22:00:00\",\"2023-01-16 23:00:00\",\"2023-01-17 00:00:00\",\"2023-01-17 01:00:00\",\"2023-01-17 02:00:00\",\"2023-01-17 03:00:00\",\"2023-01-17 04:00:00\",\"2023-01-17 05:00:00\",\"2023-01-17 06:00:00\",\"2023-01-17 07:00:00\",\"2023-01-17 08:00:00\",\"2023-01-17 09:00:00\",\"2023-01-17 10:00:00\",\"2023-01-17 11:00:00\",\"2023-01-17 12:00:00\",\"2023-01-17 13:00:00\",\"2023-01-17 14:00:00\",\"2023-01-17 15:00:00\",\"2023-01-17 16:00:00\",\"2023-01-17 17:00:00\",\"2023-01-17 18:00:00\",\"2023-01-17 19:00:00\",\"2023-01-17 20:00:00\",\"2023-01-17 21:00:00\",\"2023-01-17 22:00:00\",\"2023-01-17 23:00:00\",\"2023-01-18 00:00:00\",\"2023-01-18 01:00:00\",\"2023-01-18 02:00:00\",\"2023-01-18 03:00:00\",\"2023-01-18 04:00:00\",\"2023-01-18 05:00:00\",\"2023-01-18 06:00:00\",\"2023-01-18 07:00:00\",\"2023-01-18 08:00:00\",\"2023-01-18 09:00:00\",\"2023-01-18 10:00:00\",\"2023-01-18 11:00:00\",\"2023-01-18 12:00:00\",\"2023-01-18 13:00:00\",\"2023-01-18 14:00:00\",\"2023-01-18 15:00:00\",\"2023-01-18 16:00:00\",\"2023-01-18 17:00:00\",\"2023-01-18 18:00:00\",\"2023-01-18 19:00:00\",\"2023-01-18 20:00:00\",\"2023-01-18 21:00:00\",\"2023-01-18 22:00:00\",\"2023-01-18 23:00:00\",\"2023-01-19 00:00:00\",\"2023-01-19 01:00:00\",\"2023-01-19 02:00:00\",\"2023-01-19 03:00:00\",\"2023-01-19 04:00:00\",\"2023-01-19 05:00:00\",\"2023-01-19 06:00:00\",\"2023-01-19 07:00:00\",\"2023-01-19 08:00:00\",\"2023-01-19 09:00:00\",\"2023-01-19 10:00:00\",\"2023-01-19 11:00:00\",\"2023-01-19 12:00:00\",\"2023-01-19 13:00:00\",\"2023-01-19 14:00:00\",\"2023-01-19 15:00:00\",\"2023-01-19 16:00:00\",\"2023-01-19 17:00:00\",\"2023-01-19 18:00:00\",\"2023-01-19 19:00:00\",\"2023-01-19 20:00:00\",\"2023-01-19 21:00:00\",\"2023-01-19 22:00:00\",\"2023-01-19 23:00:00\",\"2023-01-20 00:00:00\",\"2023-01-20 01:00:00\",\"2023-01-20 02:00:00\",\"2023-01-20 03:00:00\",\"2023-01-20 04:00:00\",\"2023-01-20 05:00:00\",\"2023-01-20 06:00:00\",\"2023-01-20 07:00:00\",\"2023-01-20 08:00:00\",\"2023-01-20 09:00:00\",\"2023-01-20 10:00:00\",\"2023-01-20 11:00:00\",\"2023-01-20 12:00:00\",\"2023-01-20 13:00:00\",\"2023-01-20 14:00:00\",\"2023-01-20 15:00:00\",\"2023-01-20 16:00:00\",\"2023-01-20 17:00:00\",\"2023-01-20 18:00:00\",\"2023-01-20 19:00:00\",\"2023-01-20 20:00:00\",\"2023-01-20 21:00:00\",\"2023-01-20 22:00:00\",\"2023-01-20 23:00:00\",\"2023-01-21 00:00:00\",\"2023-01-21 01:00:00\",\"2023-01-21 02:00:00\",\"2023-01-21 03:00:00\",\"2023-01-21 04:00:00\",\"2023-01-21 05:00:00\",\"2023-01-21 06:00:00\",\"2023-01-21 07:00:00\",\"2023-01-21 08:00:00\",\"2023-01-21 09:00:00\",\"2023-01-21 10:00:00\",\"2023-01-21 11:00:00\",\"2023-01-21 12:00:00\",\"2023-01-21 13:00:00\",\"2023-01-21 14:00:00\",\"2023-01-21 15:00:00\",\"2023-01-21 16:00:00\",\"2023-01-21 17:00:00\",\"2023-01-21 18:00:00\",\"2023-01-21 19:00:00\",\"2023-01-21 20:00:00\",\"2023-01-21 21:00:00\",\"2023-01-21 22:00:00\",\"2023-01-21 23:00:00\",\"2023-01-22 00:00:00\",\"2023-01-22 01:00:00\",\"2023-01-22 02:00:00\",\"2023-01-22 03:00:00\",\"2023-01-22 04:00:00\",\"2023-01-22 05:00:00\",\"2023-01-22 06:00:00\",\"2023-01-22 07:00:00\",\"2023-01-22 08:00:00\",\"2023-01-22 09:00:00\",\"2023-01-22 10:00:00\",\"2023-01-22 11:00:00\",\"2023-01-22 12:00:00\",\"2023-01-22 13:00:00\",\"2023-01-22 14:00:00\",\"2023-01-22 15:00:00\",\"2023-01-22 16:00:00\",\"2023-01-22 17:00:00\",\"2023-01-22 18:00:00\",\"2023-01-22 19:00:00\",\"2023-01-22 20:00:00\",\"2023-01-22 21:00:00\",\"2023-01-22 22:00:00\",\"2023-01-22 23:00:00\",\"2023-01-23 00:00:00\",\"2023-01-23 01:00:00\",\"2023-01-23 02:00:00\",\"2023-01-23 03:00:00\",\"2023-01-23 04:00:00\",\"2023-01-23 05:00:00\",\"2023-01-23 06:00:00\",\"2023-01-23 07:00:00\",\"2023-01-23 08:00:00\",\"2023-01-23 09:00:00\",\"2023-01-23 10:00:00\",\"2023-01-23 11:00:00\",\"2023-01-23 12:00:00\",\"2023-01-23 13:00:00\",\"2023-01-23 14:00:00\",\"2023-01-23 15:00:00\",\"2023-01-23 16:00:00\",\"2023-01-23 17:00:00\",\"2023-01-23 18:00:00\",\"2023-01-23 19:00:00\",\"2023-01-23 20:00:00\",\"2023-01-23 21:00:00\",\"2023-01-23 22:00:00\",\"2023-01-23 23:00:00\",\"2023-01-24 00:00:00\",\"2023-01-24 01:00:00\",\"2023-01-24 02:00:00\",\"2023-01-24 03:00:00\",\"2023-01-24 04:00:00\",\"2023-01-24 05:00:00\",\"2023-01-24 06:00:00\",\"2023-01-24 07:00:00\",\"2023-01-24 08:00:00\"],\"xaxis\":\"x\",\"y\":[219,232,270,302,316,326,345,208,192,191,247,348,423,495,500,500,500,500,500,500,500,500,500,500,500,500,500,500,500,500,500,353,287,303,412,500,500,500,500,500,500,500,500,500,500,500,500,500,500,500,500,500,500,500,500,330,250,232,245,279,314,357,392,396,371,347,310,273,258,253,248,246,250,268,308,342,362,374,374,315,276,270,295,339,364,384,407,415,421,430,418,384,364,360,360,362,365,380,414,429,426,421,403,309,281,264,308,403,459,500,500,500,500,500,500,486,437,413,399,397,408,425,450,442,312,268,248,227,221,228,324,450,500,500,500,500,500,500,500,500,443,394,332,305,294,293,306,298,239,228,226,222,228,242,287,356,405,435,455,442,411,391,346,298,276,270,273,281,299,324,353,361,348,336,321,317,335,346,358,375,377,413,477,500,500,500,500,426,388,366,353,339,329,325,374,419,451,482,498,465,456,444,490,500,500,500,500,500,500,500,500,500,476,425,379,356,349,361,404,425,439,448,443,408,388,373,353,348,346,358,375,386,390,392,384,371,374,385,391,394,397,408,434,454,453,452,450,367,326,331,421,500,500,500,500,500,496,481,494,489,449,397,352,342,335,338,369,394,394,384,379,301,300,306,315,332,337,345,352,352,347,353,351,338,346,372,384,375,365,360,364,367,355,322,288,255,247,239,302,404,470,500,500,500,500,500,500,500,500,500,500,426,363,346,359,361,333,322,318,285,278,283,283,274,244,221,212,207,203,203,201,204,219,231,227,215,208,208,213,212,203,195,187,157,152,153,158,168,176,187,202,216,217,214,197,183,182,185,188,191,197,220,276,310,317,332,338,178,162,160,172,192,213,244,266,270,265,261,235,198,191,190,191,193,197,217,265,296,306,321,320,199,187,184,192,219,244,288,355,405,434,463,455,409,371,355,346,338,334,351,413,440,438,448,466,235,207,202,269,378,435,483,500,500,500,500,500,442,387,332,273,258,257,270,315,358,383,405,423,232,213,254,397,500,500,500,500,500,500,500,500,476,372,348,373,406,429,465,500,500,475,456,418,289,216,184,172,175,175,183,208,244,288,339,351,315,280,255,239,237,249,245,264,278,286,284,287,198,202,234,289,357,402,407,397,363,328,299,275,271,288,302,291,273,254,237,230,227,225,218,210,188,190,195,212,232,239,241,239,230,211,204,198,196,197,197,193,190,189,189,194,198,202,206,209,183,181,181,197,293,451,500,500,500,500,500,500,500,500,500,494,458,429,373,341,320,281,275,292,215,186],\"yaxis\":\"y\",\"type\":\"bar\"},{\"alignmentgroup\":\"True\",\"hovertemplate\":\"variable=PM10_AQI\\u003cbr\\u003edate=%{x}\\u003cbr\\u003evalue=%{y}\\u003cextra\\u003e\\u003c\\u002fextra\\u003e\",\"legendgroup\":\"PM10_AQI\",\"marker\":{\"color\":\"#EF553B\",\"pattern\":{\"shape\":\"\"}},\"name\":\"PM10_AQI\",\"offsetgroup\":\"PM10_AQI\",\"orientation\":\"v\",\"showlegend\":true,\"textposition\":\"auto\",\"x\":[\"2023-01-01 00:00:00\",\"2023-01-01 01:00:00\",\"2023-01-01 02:00:00\",\"2023-01-01 03:00:00\",\"2023-01-01 04:00:00\",\"2023-01-01 05:00:00\",\"2023-01-01 06:00:00\",\"2023-01-01 07:00:00\",\"2023-01-01 08:00:00\",\"2023-01-01 09:00:00\",\"2023-01-01 10:00:00\",\"2023-01-01 11:00:00\",\"2023-01-01 12:00:00\",\"2023-01-01 13:00:00\",\"2023-01-01 14:00:00\",\"2023-01-01 15:00:00\",\"2023-01-01 16:00:00\",\"2023-01-01 17:00:00\",\"2023-01-01 18:00:00\",\"2023-01-01 19:00:00\",\"2023-01-01 20:00:00\",\"2023-01-01 21:00:00\",\"2023-01-01 22:00:00\",\"2023-01-01 23:00:00\",\"2023-01-02 00:00:00\",\"2023-01-02 01:00:00\",\"2023-01-02 02:00:00\",\"2023-01-02 03:00:00\",\"2023-01-02 04:00:00\",\"2023-01-02 05:00:00\",\"2023-01-02 06:00:00\",\"2023-01-02 07:00:00\",\"2023-01-02 08:00:00\",\"2023-01-02 09:00:00\",\"2023-01-02 10:00:00\",\"2023-01-02 11:00:00\",\"2023-01-02 12:00:00\",\"2023-01-02 13:00:00\",\"2023-01-02 14:00:00\",\"2023-01-02 15:00:00\",\"2023-01-02 16:00:00\",\"2023-01-02 17:00:00\",\"2023-01-02 18:00:00\",\"2023-01-02 19:00:00\",\"2023-01-02 20:00:00\",\"2023-01-02 21:00:00\",\"2023-01-02 22:00:00\",\"2023-01-02 23:00:00\",\"2023-01-03 00:00:00\",\"2023-01-03 01:00:00\",\"2023-01-03 02:00:00\",\"2023-01-03 03:00:00\",\"2023-01-03 04:00:00\",\"2023-01-03 05:00:00\",\"2023-01-03 06:00:00\",\"2023-01-03 07:00:00\",\"2023-01-03 08:00:00\",\"2023-01-03 09:00:00\",\"2023-01-03 10:00:00\",\"2023-01-03 11:00:00\",\"2023-01-03 12:00:00\",\"2023-01-03 13:00:00\",\"2023-01-03 14:00:00\",\"2023-01-03 15:00:00\",\"2023-01-03 16:00:00\",\"2023-01-03 17:00:00\",\"2023-01-03 18:00:00\",\"2023-01-03 19:00:00\",\"2023-01-03 20:00:00\",\"2023-01-03 21:00:00\",\"2023-01-03 22:00:00\",\"2023-01-03 23:00:00\",\"2023-01-04 00:00:00\",\"2023-01-04 01:00:00\",\"2023-01-04 02:00:00\",\"2023-01-04 03:00:00\",\"2023-01-04 04:00:00\",\"2023-01-04 05:00:00\",\"2023-01-04 06:00:00\",\"2023-01-04 07:00:00\",\"2023-01-04 08:00:00\",\"2023-01-04 09:00:00\",\"2023-01-04 10:00:00\",\"2023-01-04 11:00:00\",\"2023-01-04 12:00:00\",\"2023-01-04 13:00:00\",\"2023-01-04 14:00:00\",\"2023-01-04 15:00:00\",\"2023-01-04 16:00:00\",\"2023-01-04 17:00:00\",\"2023-01-04 18:00:00\",\"2023-01-04 19:00:00\",\"2023-01-04 20:00:00\",\"2023-01-04 21:00:00\",\"2023-01-04 22:00:00\",\"2023-01-04 23:00:00\",\"2023-01-05 00:00:00\",\"2023-01-05 01:00:00\",\"2023-01-05 02:00:00\",\"2023-01-05 03:00:00\",\"2023-01-05 04:00:00\",\"2023-01-05 05:00:00\",\"2023-01-05 06:00:00\",\"2023-01-05 07:00:00\",\"2023-01-05 08:00:00\",\"2023-01-05 09:00:00\",\"2023-01-05 10:00:00\",\"2023-01-05 11:00:00\",\"2023-01-05 12:00:00\",\"2023-01-05 13:00:00\",\"2023-01-05 14:00:00\",\"2023-01-05 15:00:00\",\"2023-01-05 16:00:00\",\"2023-01-05 17:00:00\",\"2023-01-05 18:00:00\",\"2023-01-05 19:00:00\",\"2023-01-05 20:00:00\",\"2023-01-05 21:00:00\",\"2023-01-05 22:00:00\",\"2023-01-05 23:00:00\",\"2023-01-06 00:00:00\",\"2023-01-06 01:00:00\",\"2023-01-06 02:00:00\",\"2023-01-06 03:00:00\",\"2023-01-06 04:00:00\",\"2023-01-06 05:00:00\",\"2023-01-06 06:00:00\",\"2023-01-06 07:00:00\",\"2023-01-06 08:00:00\",\"2023-01-06 09:00:00\",\"2023-01-06 10:00:00\",\"2023-01-06 11:00:00\",\"2023-01-06 12:00:00\",\"2023-01-06 13:00:00\",\"2023-01-06 14:00:00\",\"2023-01-06 15:00:00\",\"2023-01-06 16:00:00\",\"2023-01-06 17:00:00\",\"2023-01-06 18:00:00\",\"2023-01-06 19:00:00\",\"2023-01-06 20:00:00\",\"2023-01-06 21:00:00\",\"2023-01-06 22:00:00\",\"2023-01-06 23:00:00\",\"2023-01-07 00:00:00\",\"2023-01-07 01:00:00\",\"2023-01-07 02:00:00\",\"2023-01-07 03:00:00\",\"2023-01-07 04:00:00\",\"2023-01-07 05:00:00\",\"2023-01-07 06:00:00\",\"2023-01-07 07:00:00\",\"2023-01-07 08:00:00\",\"2023-01-07 09:00:00\",\"2023-01-07 10:00:00\",\"2023-01-07 11:00:00\",\"2023-01-07 12:00:00\",\"2023-01-07 13:00:00\",\"2023-01-07 14:00:00\",\"2023-01-07 15:00:00\",\"2023-01-07 16:00:00\",\"2023-01-07 17:00:00\",\"2023-01-07 18:00:00\",\"2023-01-07 19:00:00\",\"2023-01-07 20:00:00\",\"2023-01-07 21:00:00\",\"2023-01-07 22:00:00\",\"2023-01-07 23:00:00\",\"2023-01-08 00:00:00\",\"2023-01-08 01:00:00\",\"2023-01-08 02:00:00\",\"2023-01-08 03:00:00\",\"2023-01-08 04:00:00\",\"2023-01-08 05:00:00\",\"2023-01-08 06:00:00\",\"2023-01-08 07:00:00\",\"2023-01-08 08:00:00\",\"2023-01-08 09:00:00\",\"2023-01-08 10:00:00\",\"2023-01-08 11:00:00\",\"2023-01-08 12:00:00\",\"2023-01-08 13:00:00\",\"2023-01-08 14:00:00\",\"2023-01-08 15:00:00\",\"2023-01-08 16:00:00\",\"2023-01-08 17:00:00\",\"2023-01-08 18:00:00\",\"2023-01-08 19:00:00\",\"2023-01-08 20:00:00\",\"2023-01-08 21:00:00\",\"2023-01-08 22:00:00\",\"2023-01-08 23:00:00\",\"2023-01-09 00:00:00\",\"2023-01-09 01:00:00\",\"2023-01-09 02:00:00\",\"2023-01-09 03:00:00\",\"2023-01-09 04:00:00\",\"2023-01-09 05:00:00\",\"2023-01-09 06:00:00\",\"2023-01-09 07:00:00\",\"2023-01-09 08:00:00\",\"2023-01-09 09:00:00\",\"2023-01-09 10:00:00\",\"2023-01-09 11:00:00\",\"2023-01-09 12:00:00\",\"2023-01-09 13:00:00\",\"2023-01-09 14:00:00\",\"2023-01-09 15:00:00\",\"2023-01-09 16:00:00\",\"2023-01-09 17:00:00\",\"2023-01-09 18:00:00\",\"2023-01-09 19:00:00\",\"2023-01-09 20:00:00\",\"2023-01-09 21:00:00\",\"2023-01-09 22:00:00\",\"2023-01-09 23:00:00\",\"2023-01-10 00:00:00\",\"2023-01-10 01:00:00\",\"2023-01-10 02:00:00\",\"2023-01-10 03:00:00\",\"2023-01-10 04:00:00\",\"2023-01-10 05:00:00\",\"2023-01-10 06:00:00\",\"2023-01-10 07:00:00\",\"2023-01-10 08:00:00\",\"2023-01-10 09:00:00\",\"2023-01-10 10:00:00\",\"2023-01-10 11:00:00\",\"2023-01-10 12:00:00\",\"2023-01-10 13:00:00\",\"2023-01-10 14:00:00\",\"2023-01-10 15:00:00\",\"2023-01-10 16:00:00\",\"2023-01-10 17:00:00\",\"2023-01-10 18:00:00\",\"2023-01-10 19:00:00\",\"2023-01-10 20:00:00\",\"2023-01-10 21:00:00\",\"2023-01-10 22:00:00\",\"2023-01-10 23:00:00\",\"2023-01-11 00:00:00\",\"2023-01-11 01:00:00\",\"2023-01-11 02:00:00\",\"2023-01-11 03:00:00\",\"2023-01-11 04:00:00\",\"2023-01-11 05:00:00\",\"2023-01-11 06:00:00\",\"2023-01-11 07:00:00\",\"2023-01-11 08:00:00\",\"2023-01-11 09:00:00\",\"2023-01-11 10:00:00\",\"2023-01-11 11:00:00\",\"2023-01-11 12:00:00\",\"2023-01-11 13:00:00\",\"2023-01-11 14:00:00\",\"2023-01-11 15:00:00\",\"2023-01-11 16:00:00\",\"2023-01-11 17:00:00\",\"2023-01-11 18:00:00\",\"2023-01-11 19:00:00\",\"2023-01-11 20:00:00\",\"2023-01-11 21:00:00\",\"2023-01-11 22:00:00\",\"2023-01-11 23:00:00\",\"2023-01-12 00:00:00\",\"2023-01-12 01:00:00\",\"2023-01-12 02:00:00\",\"2023-01-12 03:00:00\",\"2023-01-12 04:00:00\",\"2023-01-12 05:00:00\",\"2023-01-12 06:00:00\",\"2023-01-12 07:00:00\",\"2023-01-12 08:00:00\",\"2023-01-12 09:00:00\",\"2023-01-12 10:00:00\",\"2023-01-12 11:00:00\",\"2023-01-12 12:00:00\",\"2023-01-12 13:00:00\",\"2023-01-12 14:00:00\",\"2023-01-12 15:00:00\",\"2023-01-12 16:00:00\",\"2023-01-12 17:00:00\",\"2023-01-12 18:00:00\",\"2023-01-12 19:00:00\",\"2023-01-12 20:00:00\",\"2023-01-12 21:00:00\",\"2023-01-12 22:00:00\",\"2023-01-12 23:00:00\",\"2023-01-13 00:00:00\",\"2023-01-13 01:00:00\",\"2023-01-13 02:00:00\",\"2023-01-13 03:00:00\",\"2023-01-13 04:00:00\",\"2023-01-13 05:00:00\",\"2023-01-13 06:00:00\",\"2023-01-13 07:00:00\",\"2023-01-13 08:00:00\",\"2023-01-13 09:00:00\",\"2023-01-13 10:00:00\",\"2023-01-13 11:00:00\",\"2023-01-13 12:00:00\",\"2023-01-13 13:00:00\",\"2023-01-13 14:00:00\",\"2023-01-13 15:00:00\",\"2023-01-13 16:00:00\",\"2023-01-13 17:00:00\",\"2023-01-13 18:00:00\",\"2023-01-13 19:00:00\",\"2023-01-13 20:00:00\",\"2023-01-13 21:00:00\",\"2023-01-13 22:00:00\",\"2023-01-13 23:00:00\",\"2023-01-14 00:00:00\",\"2023-01-14 01:00:00\",\"2023-01-14 02:00:00\",\"2023-01-14 03:00:00\",\"2023-01-14 04:00:00\",\"2023-01-14 05:00:00\",\"2023-01-14 06:00:00\",\"2023-01-14 07:00:00\",\"2023-01-14 08:00:00\",\"2023-01-14 09:00:00\",\"2023-01-14 10:00:00\",\"2023-01-14 11:00:00\",\"2023-01-14 12:00:00\",\"2023-01-14 13:00:00\",\"2023-01-14 14:00:00\",\"2023-01-14 15:00:00\",\"2023-01-14 16:00:00\",\"2023-01-14 17:00:00\",\"2023-01-14 18:00:00\",\"2023-01-14 19:00:00\",\"2023-01-14 20:00:00\",\"2023-01-14 21:00:00\",\"2023-01-14 22:00:00\",\"2023-01-14 23:00:00\",\"2023-01-15 00:00:00\",\"2023-01-15 01:00:00\",\"2023-01-15 02:00:00\",\"2023-01-15 03:00:00\",\"2023-01-15 04:00:00\",\"2023-01-15 05:00:00\",\"2023-01-15 06:00:00\",\"2023-01-15 07:00:00\",\"2023-01-15 08:00:00\",\"2023-01-15 09:00:00\",\"2023-01-15 10:00:00\",\"2023-01-15 11:00:00\",\"2023-01-15 12:00:00\",\"2023-01-15 13:00:00\",\"2023-01-15 14:00:00\",\"2023-01-15 15:00:00\",\"2023-01-15 16:00:00\",\"2023-01-15 17:00:00\",\"2023-01-15 18:00:00\",\"2023-01-15 19:00:00\",\"2023-01-15 20:00:00\",\"2023-01-15 21:00:00\",\"2023-01-15 22:00:00\",\"2023-01-15 23:00:00\",\"2023-01-16 00:00:00\",\"2023-01-16 01:00:00\",\"2023-01-16 02:00:00\",\"2023-01-16 03:00:00\",\"2023-01-16 04:00:00\",\"2023-01-16 05:00:00\",\"2023-01-16 06:00:00\",\"2023-01-16 07:00:00\",\"2023-01-16 08:00:00\",\"2023-01-16 09:00:00\",\"2023-01-16 10:00:00\",\"2023-01-16 11:00:00\",\"2023-01-16 12:00:00\",\"2023-01-16 13:00:00\",\"2023-01-16 14:00:00\",\"2023-01-16 15:00:00\",\"2023-01-16 16:00:00\",\"2023-01-16 17:00:00\",\"2023-01-16 18:00:00\",\"2023-01-16 19:00:00\",\"2023-01-16 20:00:00\",\"2023-01-16 21:00:00\",\"2023-01-16 22:00:00\",\"2023-01-16 23:00:00\",\"2023-01-17 00:00:00\",\"2023-01-17 01:00:00\",\"2023-01-17 02:00:00\",\"2023-01-17 03:00:00\",\"2023-01-17 04:00:00\",\"2023-01-17 05:00:00\",\"2023-01-17 06:00:00\",\"2023-01-17 07:00:00\",\"2023-01-17 08:00:00\",\"2023-01-17 09:00:00\",\"2023-01-17 10:00:00\",\"2023-01-17 11:00:00\",\"2023-01-17 12:00:00\",\"2023-01-17 13:00:00\",\"2023-01-17 14:00:00\",\"2023-01-17 15:00:00\",\"2023-01-17 16:00:00\",\"2023-01-17 17:00:00\",\"2023-01-17 18:00:00\",\"2023-01-17 19:00:00\",\"2023-01-17 20:00:00\",\"2023-01-17 21:00:00\",\"2023-01-17 22:00:00\",\"2023-01-17 23:00:00\",\"2023-01-18 00:00:00\",\"2023-01-18 01:00:00\",\"2023-01-18 02:00:00\",\"2023-01-18 03:00:00\",\"2023-01-18 04:00:00\",\"2023-01-18 05:00:00\",\"2023-01-18 06:00:00\",\"2023-01-18 07:00:00\",\"2023-01-18 08:00:00\",\"2023-01-18 09:00:00\",\"2023-01-18 10:00:00\",\"2023-01-18 11:00:00\",\"2023-01-18 12:00:00\",\"2023-01-18 13:00:00\",\"2023-01-18 14:00:00\",\"2023-01-18 15:00:00\",\"2023-01-18 16:00:00\",\"2023-01-18 17:00:00\",\"2023-01-18 18:00:00\",\"2023-01-18 19:00:00\",\"2023-01-18 20:00:00\",\"2023-01-18 21:00:00\",\"2023-01-18 22:00:00\",\"2023-01-18 23:00:00\",\"2023-01-19 00:00:00\",\"2023-01-19 01:00:00\",\"2023-01-19 02:00:00\",\"2023-01-19 03:00:00\",\"2023-01-19 04:00:00\",\"2023-01-19 05:00:00\",\"2023-01-19 06:00:00\",\"2023-01-19 07:00:00\",\"2023-01-19 08:00:00\",\"2023-01-19 09:00:00\",\"2023-01-19 10:00:00\",\"2023-01-19 11:00:00\",\"2023-01-19 12:00:00\",\"2023-01-19 13:00:00\",\"2023-01-19 14:00:00\",\"2023-01-19 15:00:00\",\"2023-01-19 16:00:00\",\"2023-01-19 17:00:00\",\"2023-01-19 18:00:00\",\"2023-01-19 19:00:00\",\"2023-01-19 20:00:00\",\"2023-01-19 21:00:00\",\"2023-01-19 22:00:00\",\"2023-01-19 23:00:00\",\"2023-01-20 00:00:00\",\"2023-01-20 01:00:00\",\"2023-01-20 02:00:00\",\"2023-01-20 03:00:00\",\"2023-01-20 04:00:00\",\"2023-01-20 05:00:00\",\"2023-01-20 06:00:00\",\"2023-01-20 07:00:00\",\"2023-01-20 08:00:00\",\"2023-01-20 09:00:00\",\"2023-01-20 10:00:00\",\"2023-01-20 11:00:00\",\"2023-01-20 12:00:00\",\"2023-01-20 13:00:00\",\"2023-01-20 14:00:00\",\"2023-01-20 15:00:00\",\"2023-01-20 16:00:00\",\"2023-01-20 17:00:00\",\"2023-01-20 18:00:00\",\"2023-01-20 19:00:00\",\"2023-01-20 20:00:00\",\"2023-01-20 21:00:00\",\"2023-01-20 22:00:00\",\"2023-01-20 23:00:00\",\"2023-01-21 00:00:00\",\"2023-01-21 01:00:00\",\"2023-01-21 02:00:00\",\"2023-01-21 03:00:00\",\"2023-01-21 04:00:00\",\"2023-01-21 05:00:00\",\"2023-01-21 06:00:00\",\"2023-01-21 07:00:00\",\"2023-01-21 08:00:00\",\"2023-01-21 09:00:00\",\"2023-01-21 10:00:00\",\"2023-01-21 11:00:00\",\"2023-01-21 12:00:00\",\"2023-01-21 13:00:00\",\"2023-01-21 14:00:00\",\"2023-01-21 15:00:00\",\"2023-01-21 16:00:00\",\"2023-01-21 17:00:00\",\"2023-01-21 18:00:00\",\"2023-01-21 19:00:00\",\"2023-01-21 20:00:00\",\"2023-01-21 21:00:00\",\"2023-01-21 22:00:00\",\"2023-01-21 23:00:00\",\"2023-01-22 00:00:00\",\"2023-01-22 01:00:00\",\"2023-01-22 02:00:00\",\"2023-01-22 03:00:00\",\"2023-01-22 04:00:00\",\"2023-01-22 05:00:00\",\"2023-01-22 06:00:00\",\"2023-01-22 07:00:00\",\"2023-01-22 08:00:00\",\"2023-01-22 09:00:00\",\"2023-01-22 10:00:00\",\"2023-01-22 11:00:00\",\"2023-01-22 12:00:00\",\"2023-01-22 13:00:00\",\"2023-01-22 14:00:00\",\"2023-01-22 15:00:00\",\"2023-01-22 16:00:00\",\"2023-01-22 17:00:00\",\"2023-01-22 18:00:00\",\"2023-01-22 19:00:00\",\"2023-01-22 20:00:00\",\"2023-01-22 21:00:00\",\"2023-01-22 22:00:00\",\"2023-01-22 23:00:00\",\"2023-01-23 00:00:00\",\"2023-01-23 01:00:00\",\"2023-01-23 02:00:00\",\"2023-01-23 03:00:00\",\"2023-01-23 04:00:00\",\"2023-01-23 05:00:00\",\"2023-01-23 06:00:00\",\"2023-01-23 07:00:00\",\"2023-01-23 08:00:00\",\"2023-01-23 09:00:00\",\"2023-01-23 10:00:00\",\"2023-01-23 11:00:00\",\"2023-01-23 12:00:00\",\"2023-01-23 13:00:00\",\"2023-01-23 14:00:00\",\"2023-01-23 15:00:00\",\"2023-01-23 16:00:00\",\"2023-01-23 17:00:00\",\"2023-01-23 18:00:00\",\"2023-01-23 19:00:00\",\"2023-01-23 20:00:00\",\"2023-01-23 21:00:00\",\"2023-01-23 22:00:00\",\"2023-01-23 23:00:00\",\"2023-01-24 00:00:00\",\"2023-01-24 01:00:00\",\"2023-01-24 02:00:00\",\"2023-01-24 03:00:00\",\"2023-01-24 04:00:00\",\"2023-01-24 05:00:00\",\"2023-01-24 06:00:00\",\"2023-01-24 07:00:00\",\"2023-01-24 08:00:00\"],\"xaxis\":\"x\",\"y\":[120,129,153,175,184,191,204,114,100,99,141,218,363,500,500,500,500,500,500,500,500,500,500,500,500,500,500,500,500,500,500,194,158,167,310,500,500,500,500,500,500,500,500,500,500,500,500,500,500,500,500,500,500,500,500,180,136,126,136,159,181,219,276,275,228,196,173,149,138,134,132,130,132,142,167,188,203,227,226,172,150,146,162,190,218,258,307,328,341,364,335,260,215,199,197,195,194,203,275,316,312,309,269,168,153,145,175,304,430,500,500,500,500,500,500,468,349,274,232,225,246,291,357,342,167,147,137,125,122,126,187,414,500,500,500,500,500,500,500,500,375,230,172,157,152,153,163,159,126,123,122,118,121,129,156,197,279,349,390,353,276,237,187,159,145,142,142,145,153,166,183,188,182,177,170,166,175,181,189,205,217,301,443,500,500,500,496,325,243,206,193,181,173,171,205,300,373,437,468,399,378,352,452,500,500,500,500,500,500,500,500,500,434,322,218,190,183,190,252,309,340,369,361,257,212,195,187,186,188,197,227,248,252,253,231,200,200,212,219,217,216,241,309,356,359,364,361,200,177,179,310,500,500,500,500,500,470,440,450,425,341,228,184,176,171,174,193,228,231,214,201,156,156,159,165,176,180,187,195,197,194,196,192,181,182,194,201,195,190,187,192,198,193,175,154,132,128,123,166,296,447,500,500,500,500,500,500,500,500,500,500,273,187,180,190,194,179,172,169,151,147,150,152,148,133,122,119,117,115,114,111,110,116,121,119,112,109,110,115,115,111,105,96,63,58,58,65,78,89,103,120,130,130,127,114,96,94,97,101,104,110,127,163,186,191,202,210,89,71,69,83,109,129,149,164,167,163,160,143,117,106,103,104,105,108,122,153,172,178,186,183,108,95,91,102,126,144,174,252,346,408,461,440,333,253,218,199,193,190,201,324,388,382,404,430,132,115,111,154,266,390,482,500,500,500,500,500,417,293,194,153,140,137,145,174,209,263,307,344,130,119,142,281,500,500,500,500,500,500,500,500,434,220,187,196,242,300,383,486,490,412,381,304,160,120,94,84,88,90,103,133,159,187,252,269,198,170,148,135,132,139,137,154,169,179,183,186,115,115,132,171,261,353,384,388,351,297,246,191,169,166,166,156,146,136,130,132,137,142,141,137,103,102,106,123,143,156,165,169,165,146,139,130,118,115,111,104,100,99,102,114,125,134,141,143,104,98,97,124,193,460,500,500,500,500,500,500,500,500,500,464,398,342,245,216,195,168,163,171,119,93],\"yaxis\":\"y\",\"type\":\"bar\"},{\"alignmentgroup\":\"True\",\"hovertemplate\":\"variable=Overall_AQI\\u003cbr\\u003edate=%{x}\\u003cbr\\u003evalue=%{y}\\u003cextra\\u003e\\u003c\\u002fextra\\u003e\",\"legendgroup\":\"Overall_AQI\",\"marker\":{\"color\":\"#00cc96\",\"pattern\":{\"shape\":\"\"}},\"name\":\"Overall_AQI\",\"offsetgroup\":\"Overall_AQI\",\"orientation\":\"v\",\"showlegend\":true,\"textposition\":\"auto\",\"x\":[\"2023-01-01 00:00:00\",\"2023-01-01 01:00:00\",\"2023-01-01 02:00:00\",\"2023-01-01 03:00:00\",\"2023-01-01 04:00:00\",\"2023-01-01 05:00:00\",\"2023-01-01 06:00:00\",\"2023-01-01 07:00:00\",\"2023-01-01 08:00:00\",\"2023-01-01 09:00:00\",\"2023-01-01 10:00:00\",\"2023-01-01 11:00:00\",\"2023-01-01 12:00:00\",\"2023-01-01 13:00:00\",\"2023-01-01 14:00:00\",\"2023-01-01 15:00:00\",\"2023-01-01 16:00:00\",\"2023-01-01 17:00:00\",\"2023-01-01 18:00:00\",\"2023-01-01 19:00:00\",\"2023-01-01 20:00:00\",\"2023-01-01 21:00:00\",\"2023-01-01 22:00:00\",\"2023-01-01 23:00:00\",\"2023-01-02 00:00:00\",\"2023-01-02 01:00:00\",\"2023-01-02 02:00:00\",\"2023-01-02 03:00:00\",\"2023-01-02 04:00:00\",\"2023-01-02 05:00:00\",\"2023-01-02 06:00:00\",\"2023-01-02 07:00:00\",\"2023-01-02 08:00:00\",\"2023-01-02 09:00:00\",\"2023-01-02 10:00:00\",\"2023-01-02 11:00:00\",\"2023-01-02 12:00:00\",\"2023-01-02 13:00:00\",\"2023-01-02 14:00:00\",\"2023-01-02 15:00:00\",\"2023-01-02 16:00:00\",\"2023-01-02 17:00:00\",\"2023-01-02 18:00:00\",\"2023-01-02 19:00:00\",\"2023-01-02 20:00:00\",\"2023-01-02 21:00:00\",\"2023-01-02 22:00:00\",\"2023-01-02 23:00:00\",\"2023-01-03 00:00:00\",\"2023-01-03 01:00:00\",\"2023-01-03 02:00:00\",\"2023-01-03 03:00:00\",\"2023-01-03 04:00:00\",\"2023-01-03 05:00:00\",\"2023-01-03 06:00:00\",\"2023-01-03 07:00:00\",\"2023-01-03 08:00:00\",\"2023-01-03 09:00:00\",\"2023-01-03 10:00:00\",\"2023-01-03 11:00:00\",\"2023-01-03 12:00:00\",\"2023-01-03 13:00:00\",\"2023-01-03 14:00:00\",\"2023-01-03 15:00:00\",\"2023-01-03 16:00:00\",\"2023-01-03 17:00:00\",\"2023-01-03 18:00:00\",\"2023-01-03 19:00:00\",\"2023-01-03 20:00:00\",\"2023-01-03 21:00:00\",\"2023-01-03 22:00:00\",\"2023-01-03 23:00:00\",\"2023-01-04 00:00:00\",\"2023-01-04 01:00:00\",\"2023-01-04 02:00:00\",\"2023-01-04 03:00:00\",\"2023-01-04 04:00:00\",\"2023-01-04 05:00:00\",\"2023-01-04 06:00:00\",\"2023-01-04 07:00:00\",\"2023-01-04 08:00:00\",\"2023-01-04 09:00:00\",\"2023-01-04 10:00:00\",\"2023-01-04 11:00:00\",\"2023-01-04 12:00:00\",\"2023-01-04 13:00:00\",\"2023-01-04 14:00:00\",\"2023-01-04 15:00:00\",\"2023-01-04 16:00:00\",\"2023-01-04 17:00:00\",\"2023-01-04 18:00:00\",\"2023-01-04 19:00:00\",\"2023-01-04 20:00:00\",\"2023-01-04 21:00:00\",\"2023-01-04 22:00:00\",\"2023-01-04 23:00:00\",\"2023-01-05 00:00:00\",\"2023-01-05 01:00:00\",\"2023-01-05 02:00:00\",\"2023-01-05 03:00:00\",\"2023-01-05 04:00:00\",\"2023-01-05 05:00:00\",\"2023-01-05 06:00:00\",\"2023-01-05 07:00:00\",\"2023-01-05 08:00:00\",\"2023-01-05 09:00:00\",\"2023-01-05 10:00:00\",\"2023-01-05 11:00:00\",\"2023-01-05 12:00:00\",\"2023-01-05 13:00:00\",\"2023-01-05 14:00:00\",\"2023-01-05 15:00:00\",\"2023-01-05 16:00:00\",\"2023-01-05 17:00:00\",\"2023-01-05 18:00:00\",\"2023-01-05 19:00:00\",\"2023-01-05 20:00:00\",\"2023-01-05 21:00:00\",\"2023-01-05 22:00:00\",\"2023-01-05 23:00:00\",\"2023-01-06 00:00:00\",\"2023-01-06 01:00:00\",\"2023-01-06 02:00:00\",\"2023-01-06 03:00:00\",\"2023-01-06 04:00:00\",\"2023-01-06 05:00:00\",\"2023-01-06 06:00:00\",\"2023-01-06 07:00:00\",\"2023-01-06 08:00:00\",\"2023-01-06 09:00:00\",\"2023-01-06 10:00:00\",\"2023-01-06 11:00:00\",\"2023-01-06 12:00:00\",\"2023-01-06 13:00:00\",\"2023-01-06 14:00:00\",\"2023-01-06 15:00:00\",\"2023-01-06 16:00:00\",\"2023-01-06 17:00:00\",\"2023-01-06 18:00:00\",\"2023-01-06 19:00:00\",\"2023-01-06 20:00:00\",\"2023-01-06 21:00:00\",\"2023-01-06 22:00:00\",\"2023-01-06 23:00:00\",\"2023-01-07 00:00:00\",\"2023-01-07 01:00:00\",\"2023-01-07 02:00:00\",\"2023-01-07 03:00:00\",\"2023-01-07 04:00:00\",\"2023-01-07 05:00:00\",\"2023-01-07 06:00:00\",\"2023-01-07 07:00:00\",\"2023-01-07 08:00:00\",\"2023-01-07 09:00:00\",\"2023-01-07 10:00:00\",\"2023-01-07 11:00:00\",\"2023-01-07 12:00:00\",\"2023-01-07 13:00:00\",\"2023-01-07 14:00:00\",\"2023-01-07 15:00:00\",\"2023-01-07 16:00:00\",\"2023-01-07 17:00:00\",\"2023-01-07 18:00:00\",\"2023-01-07 19:00:00\",\"2023-01-07 20:00:00\",\"2023-01-07 21:00:00\",\"2023-01-07 22:00:00\",\"2023-01-07 23:00:00\",\"2023-01-08 00:00:00\",\"2023-01-08 01:00:00\",\"2023-01-08 02:00:00\",\"2023-01-08 03:00:00\",\"2023-01-08 04:00:00\",\"2023-01-08 05:00:00\",\"2023-01-08 06:00:00\",\"2023-01-08 07:00:00\",\"2023-01-08 08:00:00\",\"2023-01-08 09:00:00\",\"2023-01-08 10:00:00\",\"2023-01-08 11:00:00\",\"2023-01-08 12:00:00\",\"2023-01-08 13:00:00\",\"2023-01-08 14:00:00\",\"2023-01-08 15:00:00\",\"2023-01-08 16:00:00\",\"2023-01-08 17:00:00\",\"2023-01-08 18:00:00\",\"2023-01-08 19:00:00\",\"2023-01-08 20:00:00\",\"2023-01-08 21:00:00\",\"2023-01-08 22:00:00\",\"2023-01-08 23:00:00\",\"2023-01-09 00:00:00\",\"2023-01-09 01:00:00\",\"2023-01-09 02:00:00\",\"2023-01-09 03:00:00\",\"2023-01-09 04:00:00\",\"2023-01-09 05:00:00\",\"2023-01-09 06:00:00\",\"2023-01-09 07:00:00\",\"2023-01-09 08:00:00\",\"2023-01-09 09:00:00\",\"2023-01-09 10:00:00\",\"2023-01-09 11:00:00\",\"2023-01-09 12:00:00\",\"2023-01-09 13:00:00\",\"2023-01-09 14:00:00\",\"2023-01-09 15:00:00\",\"2023-01-09 16:00:00\",\"2023-01-09 17:00:00\",\"2023-01-09 18:00:00\",\"2023-01-09 19:00:00\",\"2023-01-09 20:00:00\",\"2023-01-09 21:00:00\",\"2023-01-09 22:00:00\",\"2023-01-09 23:00:00\",\"2023-01-10 00:00:00\",\"2023-01-10 01:00:00\",\"2023-01-10 02:00:00\",\"2023-01-10 03:00:00\",\"2023-01-10 04:00:00\",\"2023-01-10 05:00:00\",\"2023-01-10 06:00:00\",\"2023-01-10 07:00:00\",\"2023-01-10 08:00:00\",\"2023-01-10 09:00:00\",\"2023-01-10 10:00:00\",\"2023-01-10 11:00:00\",\"2023-01-10 12:00:00\",\"2023-01-10 13:00:00\",\"2023-01-10 14:00:00\",\"2023-01-10 15:00:00\",\"2023-01-10 16:00:00\",\"2023-01-10 17:00:00\",\"2023-01-10 18:00:00\",\"2023-01-10 19:00:00\",\"2023-01-10 20:00:00\",\"2023-01-10 21:00:00\",\"2023-01-10 22:00:00\",\"2023-01-10 23:00:00\",\"2023-01-11 00:00:00\",\"2023-01-11 01:00:00\",\"2023-01-11 02:00:00\",\"2023-01-11 03:00:00\",\"2023-01-11 04:00:00\",\"2023-01-11 05:00:00\",\"2023-01-11 06:00:00\",\"2023-01-11 07:00:00\",\"2023-01-11 08:00:00\",\"2023-01-11 09:00:00\",\"2023-01-11 10:00:00\",\"2023-01-11 11:00:00\",\"2023-01-11 12:00:00\",\"2023-01-11 13:00:00\",\"2023-01-11 14:00:00\",\"2023-01-11 15:00:00\",\"2023-01-11 16:00:00\",\"2023-01-11 17:00:00\",\"2023-01-11 18:00:00\",\"2023-01-11 19:00:00\",\"2023-01-11 20:00:00\",\"2023-01-11 21:00:00\",\"2023-01-11 22:00:00\",\"2023-01-11 23:00:00\",\"2023-01-12 00:00:00\",\"2023-01-12 01:00:00\",\"2023-01-12 02:00:00\",\"2023-01-12 03:00:00\",\"2023-01-12 04:00:00\",\"2023-01-12 05:00:00\",\"2023-01-12 06:00:00\",\"2023-01-12 07:00:00\",\"2023-01-12 08:00:00\",\"2023-01-12 09:00:00\",\"2023-01-12 10:00:00\",\"2023-01-12 11:00:00\",\"2023-01-12 12:00:00\",\"2023-01-12 13:00:00\",\"2023-01-12 14:00:00\",\"2023-01-12 15:00:00\",\"2023-01-12 16:00:00\",\"2023-01-12 17:00:00\",\"2023-01-12 18:00:00\",\"2023-01-12 19:00:00\",\"2023-01-12 20:00:00\",\"2023-01-12 21:00:00\",\"2023-01-12 22:00:00\",\"2023-01-12 23:00:00\",\"2023-01-13 00:00:00\",\"2023-01-13 01:00:00\",\"2023-01-13 02:00:00\",\"2023-01-13 03:00:00\",\"2023-01-13 04:00:00\",\"2023-01-13 05:00:00\",\"2023-01-13 06:00:00\",\"2023-01-13 07:00:00\",\"2023-01-13 08:00:00\",\"2023-01-13 09:00:00\",\"2023-01-13 10:00:00\",\"2023-01-13 11:00:00\",\"2023-01-13 12:00:00\",\"2023-01-13 13:00:00\",\"2023-01-13 14:00:00\",\"2023-01-13 15:00:00\",\"2023-01-13 16:00:00\",\"2023-01-13 17:00:00\",\"2023-01-13 18:00:00\",\"2023-01-13 19:00:00\",\"2023-01-13 20:00:00\",\"2023-01-13 21:00:00\",\"2023-01-13 22:00:00\",\"2023-01-13 23:00:00\",\"2023-01-14 00:00:00\",\"2023-01-14 01:00:00\",\"2023-01-14 02:00:00\",\"2023-01-14 03:00:00\",\"2023-01-14 04:00:00\",\"2023-01-14 05:00:00\",\"2023-01-14 06:00:00\",\"2023-01-14 07:00:00\",\"2023-01-14 08:00:00\",\"2023-01-14 09:00:00\",\"2023-01-14 10:00:00\",\"2023-01-14 11:00:00\",\"2023-01-14 12:00:00\",\"2023-01-14 13:00:00\",\"2023-01-14 14:00:00\",\"2023-01-14 15:00:00\",\"2023-01-14 16:00:00\",\"2023-01-14 17:00:00\",\"2023-01-14 18:00:00\",\"2023-01-14 19:00:00\",\"2023-01-14 20:00:00\",\"2023-01-14 21:00:00\",\"2023-01-14 22:00:00\",\"2023-01-14 23:00:00\",\"2023-01-15 00:00:00\",\"2023-01-15 01:00:00\",\"2023-01-15 02:00:00\",\"2023-01-15 03:00:00\",\"2023-01-15 04:00:00\",\"2023-01-15 05:00:00\",\"2023-01-15 06:00:00\",\"2023-01-15 07:00:00\",\"2023-01-15 08:00:00\",\"2023-01-15 09:00:00\",\"2023-01-15 10:00:00\",\"2023-01-15 11:00:00\",\"2023-01-15 12:00:00\",\"2023-01-15 13:00:00\",\"2023-01-15 14:00:00\",\"2023-01-15 15:00:00\",\"2023-01-15 16:00:00\",\"2023-01-15 17:00:00\",\"2023-01-15 18:00:00\",\"2023-01-15 19:00:00\",\"2023-01-15 20:00:00\",\"2023-01-15 21:00:00\",\"2023-01-15 22:00:00\",\"2023-01-15 23:00:00\",\"2023-01-16 00:00:00\",\"2023-01-16 01:00:00\",\"2023-01-16 02:00:00\",\"2023-01-16 03:00:00\",\"2023-01-16 04:00:00\",\"2023-01-16 05:00:00\",\"2023-01-16 06:00:00\",\"2023-01-16 07:00:00\",\"2023-01-16 08:00:00\",\"2023-01-16 09:00:00\",\"2023-01-16 10:00:00\",\"2023-01-16 11:00:00\",\"2023-01-16 12:00:00\",\"2023-01-16 13:00:00\",\"2023-01-16 14:00:00\",\"2023-01-16 15:00:00\",\"2023-01-16 16:00:00\",\"2023-01-16 17:00:00\",\"2023-01-16 18:00:00\",\"2023-01-16 19:00:00\",\"2023-01-16 20:00:00\",\"2023-01-16 21:00:00\",\"2023-01-16 22:00:00\",\"2023-01-16 23:00:00\",\"2023-01-17 00:00:00\",\"2023-01-17 01:00:00\",\"2023-01-17 02:00:00\",\"2023-01-17 03:00:00\",\"2023-01-17 04:00:00\",\"2023-01-17 05:00:00\",\"2023-01-17 06:00:00\",\"2023-01-17 07:00:00\",\"2023-01-17 08:00:00\",\"2023-01-17 09:00:00\",\"2023-01-17 10:00:00\",\"2023-01-17 11:00:00\",\"2023-01-17 12:00:00\",\"2023-01-17 13:00:00\",\"2023-01-17 14:00:00\",\"2023-01-17 15:00:00\",\"2023-01-17 16:00:00\",\"2023-01-17 17:00:00\",\"2023-01-17 18:00:00\",\"2023-01-17 19:00:00\",\"2023-01-17 20:00:00\",\"2023-01-17 21:00:00\",\"2023-01-17 22:00:00\",\"2023-01-17 23:00:00\",\"2023-01-18 00:00:00\",\"2023-01-18 01:00:00\",\"2023-01-18 02:00:00\",\"2023-01-18 03:00:00\",\"2023-01-18 04:00:00\",\"2023-01-18 05:00:00\",\"2023-01-18 06:00:00\",\"2023-01-18 07:00:00\",\"2023-01-18 08:00:00\",\"2023-01-18 09:00:00\",\"2023-01-18 10:00:00\",\"2023-01-18 11:00:00\",\"2023-01-18 12:00:00\",\"2023-01-18 13:00:00\",\"2023-01-18 14:00:00\",\"2023-01-18 15:00:00\",\"2023-01-18 16:00:00\",\"2023-01-18 17:00:00\",\"2023-01-18 18:00:00\",\"2023-01-18 19:00:00\",\"2023-01-18 20:00:00\",\"2023-01-18 21:00:00\",\"2023-01-18 22:00:00\",\"2023-01-18 23:00:00\",\"2023-01-19 00:00:00\",\"2023-01-19 01:00:00\",\"2023-01-19 02:00:00\",\"2023-01-19 03:00:00\",\"2023-01-19 04:00:00\",\"2023-01-19 05:00:00\",\"2023-01-19 06:00:00\",\"2023-01-19 07:00:00\",\"2023-01-19 08:00:00\",\"2023-01-19 09:00:00\",\"2023-01-19 10:00:00\",\"2023-01-19 11:00:00\",\"2023-01-19 12:00:00\",\"2023-01-19 13:00:00\",\"2023-01-19 14:00:00\",\"2023-01-19 15:00:00\",\"2023-01-19 16:00:00\",\"2023-01-19 17:00:00\",\"2023-01-19 18:00:00\",\"2023-01-19 19:00:00\",\"2023-01-19 20:00:00\",\"2023-01-19 21:00:00\",\"2023-01-19 22:00:00\",\"2023-01-19 23:00:00\",\"2023-01-20 00:00:00\",\"2023-01-20 01:00:00\",\"2023-01-20 02:00:00\",\"2023-01-20 03:00:00\",\"2023-01-20 04:00:00\",\"2023-01-20 05:00:00\",\"2023-01-20 06:00:00\",\"2023-01-20 07:00:00\",\"2023-01-20 08:00:00\",\"2023-01-20 09:00:00\",\"2023-01-20 10:00:00\",\"2023-01-20 11:00:00\",\"2023-01-20 12:00:00\",\"2023-01-20 13:00:00\",\"2023-01-20 14:00:00\",\"2023-01-20 15:00:00\",\"2023-01-20 16:00:00\",\"2023-01-20 17:00:00\",\"2023-01-20 18:00:00\",\"2023-01-20 19:00:00\",\"2023-01-20 20:00:00\",\"2023-01-20 21:00:00\",\"2023-01-20 22:00:00\",\"2023-01-20 23:00:00\",\"2023-01-21 00:00:00\",\"2023-01-21 01:00:00\",\"2023-01-21 02:00:00\",\"2023-01-21 03:00:00\",\"2023-01-21 04:00:00\",\"2023-01-21 05:00:00\",\"2023-01-21 06:00:00\",\"2023-01-21 07:00:00\",\"2023-01-21 08:00:00\",\"2023-01-21 09:00:00\",\"2023-01-21 10:00:00\",\"2023-01-21 11:00:00\",\"2023-01-21 12:00:00\",\"2023-01-21 13:00:00\",\"2023-01-21 14:00:00\",\"2023-01-21 15:00:00\",\"2023-01-21 16:00:00\",\"2023-01-21 17:00:00\",\"2023-01-21 18:00:00\",\"2023-01-21 19:00:00\",\"2023-01-21 20:00:00\",\"2023-01-21 21:00:00\",\"2023-01-21 22:00:00\",\"2023-01-21 23:00:00\",\"2023-01-22 00:00:00\",\"2023-01-22 01:00:00\",\"2023-01-22 02:00:00\",\"2023-01-22 03:00:00\",\"2023-01-22 04:00:00\",\"2023-01-22 05:00:00\",\"2023-01-22 06:00:00\",\"2023-01-22 07:00:00\",\"2023-01-22 08:00:00\",\"2023-01-22 09:00:00\",\"2023-01-22 10:00:00\",\"2023-01-22 11:00:00\",\"2023-01-22 12:00:00\",\"2023-01-22 13:00:00\",\"2023-01-22 14:00:00\",\"2023-01-22 15:00:00\",\"2023-01-22 16:00:00\",\"2023-01-22 17:00:00\",\"2023-01-22 18:00:00\",\"2023-01-22 19:00:00\",\"2023-01-22 20:00:00\",\"2023-01-22 21:00:00\",\"2023-01-22 22:00:00\",\"2023-01-22 23:00:00\",\"2023-01-23 00:00:00\",\"2023-01-23 01:00:00\",\"2023-01-23 02:00:00\",\"2023-01-23 03:00:00\",\"2023-01-23 04:00:00\",\"2023-01-23 05:00:00\",\"2023-01-23 06:00:00\",\"2023-01-23 07:00:00\",\"2023-01-23 08:00:00\",\"2023-01-23 09:00:00\",\"2023-01-23 10:00:00\",\"2023-01-23 11:00:00\",\"2023-01-23 12:00:00\",\"2023-01-23 13:00:00\",\"2023-01-23 14:00:00\",\"2023-01-23 15:00:00\",\"2023-01-23 16:00:00\",\"2023-01-23 17:00:00\",\"2023-01-23 18:00:00\",\"2023-01-23 19:00:00\",\"2023-01-23 20:00:00\",\"2023-01-23 21:00:00\",\"2023-01-23 22:00:00\",\"2023-01-23 23:00:00\",\"2023-01-24 00:00:00\",\"2023-01-24 01:00:00\",\"2023-01-24 02:00:00\",\"2023-01-24 03:00:00\",\"2023-01-24 04:00:00\",\"2023-01-24 05:00:00\",\"2023-01-24 06:00:00\",\"2023-01-24 07:00:00\",\"2023-01-24 08:00:00\"],\"xaxis\":\"x\",\"y\":[219,232,270,302,316,326,345,208,192,191,247,348,423,500,500,500,500,500,500,500,500,500,500,500,500,500,500,500,500,500,500,353,287,303,412,500,500,500,500,500,500,500,500,500,500,500,500,500,500,500,500,500,500,500,500,330,250,232,245,279,314,357,392,396,371,347,310,273,258,253,248,246,250,268,308,342,362,374,374,315,276,270,295,339,364,384,407,415,421,430,418,384,364,360,360,362,365,380,414,429,426,421,403,309,281,264,308,403,459,500,500,500,500,500,500,486,437,413,399,397,408,425,450,442,312,268,248,227,221,228,324,450,500,500,500,500,500,500,500,500,443,394,332,305,294,293,306,298,239,228,226,222,228,242,287,356,405,435,455,442,411,391,346,298,276,270,273,281,299,324,353,361,348,336,321,317,335,346,358,375,377,413,477,500,500,500,500,426,388,366,353,339,329,325,374,419,451,482,498,465,456,444,490,500,500,500,500,500,500,500,500,500,476,425,379,356,349,361,404,425,439,448,443,408,388,373,353,348,346,358,375,386,390,392,384,371,374,385,391,394,397,408,434,454,453,452,450,367,326,331,421,500,500,500,500,500,496,481,494,489,449,397,352,342,335,338,369,394,394,384,379,301,300,306,315,332,337,345,352,352,347,353,351,338,346,372,384,375,365,360,364,367,355,322,288,255,247,239,302,404,470,500,500,500,500,500,500,500,500,500,500,426,363,346,359,361,333,322,318,285,278,283,283,274,244,221,212,207,203,203,201,204,219,231,227,215,208,208,213,212,203,195,187,157,152,153,158,168,176,187,202,216,217,214,197,183,182,185,188,191,197,220,276,310,317,332,338,178,162,160,172,192,213,244,266,270,265,261,235,198,191,190,191,193,197,217,265,296,306,321,320,199,187,184,192,219,244,288,355,405,434,463,455,409,371,355,346,338,334,351,413,440,438,448,466,235,207,202,269,378,435,483,500,500,500,500,500,442,387,332,273,258,257,270,315,358,383,405,423,232,213,254,397,500,500,500,500,500,500,500,500,476,372,348,373,406,429,465,500,500,475,456,418,289,216,184,172,175,175,183,208,244,288,339,351,315,280,255,239,237,249,245,264,278,286,284,287,198,202,234,289,357,402,407,397,363,328,299,275,271,288,302,291,273,254,237,230,227,225,218,210,188,190,195,212,232,239,241,239,230,211,204,198,196,197,197,193,190,189,189,194,198,202,206,209,183,181,181,197,293,460,500,500,500,500,500,500,500,500,500,494,458,429,373,341,320,281,275,292,215,186],\"yaxis\":\"y\",\"type\":\"bar\"}],                        {\"template\":{\"data\":{\"histogram2dcontour\":[{\"type\":\"histogram2dcontour\",\"colorbar\":{\"outlinewidth\":0,\"ticks\":\"\"},\"colorscale\":[[0.0,\"#0d0887\"],[0.1111111111111111,\"#46039f\"],[0.2222222222222222,\"#7201a8\"],[0.3333333333333333,\"#9c179e\"],[0.4444444444444444,\"#bd3786\"],[0.5555555555555556,\"#d8576b\"],[0.6666666666666666,\"#ed7953\"],[0.7777777777777778,\"#fb9f3a\"],[0.8888888888888888,\"#fdca26\"],[1.0,\"#f0f921\"]]}],\"choropleth\":[{\"type\":\"choropleth\",\"colorbar\":{\"outlinewidth\":0,\"ticks\":\"\"}}],\"histogram2d\":[{\"type\":\"histogram2d\",\"colorbar\":{\"outlinewidth\":0,\"ticks\":\"\"},\"colorscale\":[[0.0,\"#0d0887\"],[0.1111111111111111,\"#46039f\"],[0.2222222222222222,\"#7201a8\"],[0.3333333333333333,\"#9c179e\"],[0.4444444444444444,\"#bd3786\"],[0.5555555555555556,\"#d8576b\"],[0.6666666666666666,\"#ed7953\"],[0.7777777777777778,\"#fb9f3a\"],[0.8888888888888888,\"#fdca26\"],[1.0,\"#f0f921\"]]}],\"heatmap\":[{\"type\":\"heatmap\",\"colorbar\":{\"outlinewidth\":0,\"ticks\":\"\"},\"colorscale\":[[0.0,\"#0d0887\"],[0.1111111111111111,\"#46039f\"],[0.2222222222222222,\"#7201a8\"],[0.3333333333333333,\"#9c179e\"],[0.4444444444444444,\"#bd3786\"],[0.5555555555555556,\"#d8576b\"],[0.6666666666666666,\"#ed7953\"],[0.7777777777777778,\"#fb9f3a\"],[0.8888888888888888,\"#fdca26\"],[1.0,\"#f0f921\"]]}],\"heatmapgl\":[{\"type\":\"heatmapgl\",\"colorbar\":{\"outlinewidth\":0,\"ticks\":\"\"},\"colorscale\":[[0.0,\"#0d0887\"],[0.1111111111111111,\"#46039f\"],[0.2222222222222222,\"#7201a8\"],[0.3333333333333333,\"#9c179e\"],[0.4444444444444444,\"#bd3786\"],[0.5555555555555556,\"#d8576b\"],[0.6666666666666666,\"#ed7953\"],[0.7777777777777778,\"#fb9f3a\"],[0.8888888888888888,\"#fdca26\"],[1.0,\"#f0f921\"]]}],\"contourcarpet\":[{\"type\":\"contourcarpet\",\"colorbar\":{\"outlinewidth\":0,\"ticks\":\"\"}}],\"contour\":[{\"type\":\"contour\",\"colorbar\":{\"outlinewidth\":0,\"ticks\":\"\"},\"colorscale\":[[0.0,\"#0d0887\"],[0.1111111111111111,\"#46039f\"],[0.2222222222222222,\"#7201a8\"],[0.3333333333333333,\"#9c179e\"],[0.4444444444444444,\"#bd3786\"],[0.5555555555555556,\"#d8576b\"],[0.6666666666666666,\"#ed7953\"],[0.7777777777777778,\"#fb9f3a\"],[0.8888888888888888,\"#fdca26\"],[1.0,\"#f0f921\"]]}],\"surface\":[{\"type\":\"surface\",\"colorbar\":{\"outlinewidth\":0,\"ticks\":\"\"},\"colorscale\":[[0.0,\"#0d0887\"],[0.1111111111111111,\"#46039f\"],[0.2222222222222222,\"#7201a8\"],[0.3333333333333333,\"#9c179e\"],[0.4444444444444444,\"#bd3786\"],[0.5555555555555556,\"#d8576b\"],[0.6666666666666666,\"#ed7953\"],[0.7777777777777778,\"#fb9f3a\"],[0.8888888888888888,\"#fdca26\"],[1.0,\"#f0f921\"]]}],\"mesh3d\":[{\"type\":\"mesh3d\",\"colorbar\":{\"outlinewidth\":0,\"ticks\":\"\"}}],\"scatter\":[{\"fillpattern\":{\"fillmode\":\"overlay\",\"size\":10,\"solidity\":0.2},\"type\":\"scatter\"}],\"parcoords\":[{\"type\":\"parcoords\",\"line\":{\"colorbar\":{\"outlinewidth\":0,\"ticks\":\"\"}}}],\"scatterpolargl\":[{\"type\":\"scatterpolargl\",\"marker\":{\"colorbar\":{\"outlinewidth\":0,\"ticks\":\"\"}}}],\"bar\":[{\"error_x\":{\"color\":\"#2a3f5f\"},\"error_y\":{\"color\":\"#2a3f5f\"},\"marker\":{\"line\":{\"color\":\"#E5ECF6\",\"width\":0.5},\"pattern\":{\"fillmode\":\"overlay\",\"size\":10,\"solidity\":0.2}},\"type\":\"bar\"}],\"scattergeo\":[{\"type\":\"scattergeo\",\"marker\":{\"colorbar\":{\"outlinewidth\":0,\"ticks\":\"\"}}}],\"scatterpolar\":[{\"type\":\"scatterpolar\",\"marker\":{\"colorbar\":{\"outlinewidth\":0,\"ticks\":\"\"}}}],\"histogram\":[{\"marker\":{\"pattern\":{\"fillmode\":\"overlay\",\"size\":10,\"solidity\":0.2}},\"type\":\"histogram\"}],\"scattergl\":[{\"type\":\"scattergl\",\"marker\":{\"colorbar\":{\"outlinewidth\":0,\"ticks\":\"\"}}}],\"scatter3d\":[{\"type\":\"scatter3d\",\"line\":{\"colorbar\":{\"outlinewidth\":0,\"ticks\":\"\"}},\"marker\":{\"colorbar\":{\"outlinewidth\":0,\"ticks\":\"\"}}}],\"scattermapbox\":[{\"type\":\"scattermapbox\",\"marker\":{\"colorbar\":{\"outlinewidth\":0,\"ticks\":\"\"}}}],\"scatterternary\":[{\"type\":\"scatterternary\",\"marker\":{\"colorbar\":{\"outlinewidth\":0,\"ticks\":\"\"}}}],\"scattercarpet\":[{\"type\":\"scattercarpet\",\"marker\":{\"colorbar\":{\"outlinewidth\":0,\"ticks\":\"\"}}}],\"carpet\":[{\"aaxis\":{\"endlinecolor\":\"#2a3f5f\",\"gridcolor\":\"white\",\"linecolor\":\"white\",\"minorgridcolor\":\"white\",\"startlinecolor\":\"#2a3f5f\"},\"baxis\":{\"endlinecolor\":\"#2a3f5f\",\"gridcolor\":\"white\",\"linecolor\":\"white\",\"minorgridcolor\":\"white\",\"startlinecolor\":\"#2a3f5f\"},\"type\":\"carpet\"}],\"table\":[{\"cells\":{\"fill\":{\"color\":\"#EBF0F8\"},\"line\":{\"color\":\"white\"}},\"header\":{\"fill\":{\"color\":\"#C8D4E3\"},\"line\":{\"color\":\"white\"}},\"type\":\"table\"}],\"barpolar\":[{\"marker\":{\"line\":{\"color\":\"#E5ECF6\",\"width\":0.5},\"pattern\":{\"fillmode\":\"overlay\",\"size\":10,\"solidity\":0.2}},\"type\":\"barpolar\"}],\"pie\":[{\"automargin\":true,\"type\":\"pie\"}]},\"layout\":{\"autotypenumbers\":\"strict\",\"colorway\":[\"#636efa\",\"#EF553B\",\"#00cc96\",\"#ab63fa\",\"#FFA15A\",\"#19d3f3\",\"#FF6692\",\"#B6E880\",\"#FF97FF\",\"#FECB52\"],\"font\":{\"color\":\"#2a3f5f\"},\"hovermode\":\"closest\",\"hoverlabel\":{\"align\":\"left\"},\"paper_bgcolor\":\"white\",\"plot_bgcolor\":\"#E5ECF6\",\"polar\":{\"bgcolor\":\"#E5ECF6\",\"angularaxis\":{\"gridcolor\":\"white\",\"linecolor\":\"white\",\"ticks\":\"\"},\"radialaxis\":{\"gridcolor\":\"white\",\"linecolor\":\"white\",\"ticks\":\"\"}},\"ternary\":{\"bgcolor\":\"#E5ECF6\",\"aaxis\":{\"gridcolor\":\"white\",\"linecolor\":\"white\",\"ticks\":\"\"},\"baxis\":{\"gridcolor\":\"white\",\"linecolor\":\"white\",\"ticks\":\"\"},\"caxis\":{\"gridcolor\":\"white\",\"linecolor\":\"white\",\"ticks\":\"\"}},\"coloraxis\":{\"colorbar\":{\"outlinewidth\":0,\"ticks\":\"\"}},\"colorscale\":{\"sequential\":[[0.0,\"#0d0887\"],[0.1111111111111111,\"#46039f\"],[0.2222222222222222,\"#7201a8\"],[0.3333333333333333,\"#9c179e\"],[0.4444444444444444,\"#bd3786\"],[0.5555555555555556,\"#d8576b\"],[0.6666666666666666,\"#ed7953\"],[0.7777777777777778,\"#fb9f3a\"],[0.8888888888888888,\"#fdca26\"],[1.0,\"#f0f921\"]],\"sequentialminus\":[[0.0,\"#0d0887\"],[0.1111111111111111,\"#46039f\"],[0.2222222222222222,\"#7201a8\"],[0.3333333333333333,\"#9c179e\"],[0.4444444444444444,\"#bd3786\"],[0.5555555555555556,\"#d8576b\"],[0.6666666666666666,\"#ed7953\"],[0.7777777777777778,\"#fb9f3a\"],[0.8888888888888888,\"#fdca26\"],[1.0,\"#f0f921\"]],\"diverging\":[[0,\"#8e0152\"],[0.1,\"#c51b7d\"],[0.2,\"#de77ae\"],[0.3,\"#f1b6da\"],[0.4,\"#fde0ef\"],[0.5,\"#f7f7f7\"],[0.6,\"#e6f5d0\"],[0.7,\"#b8e186\"],[0.8,\"#7fbc41\"],[0.9,\"#4d9221\"],[1,\"#276419\"]]},\"xaxis\":{\"gridcolor\":\"white\",\"linecolor\":\"white\",\"ticks\":\"\",\"title\":{\"standoff\":15},\"zerolinecolor\":\"white\",\"automargin\":true,\"zerolinewidth\":2},\"yaxis\":{\"gridcolor\":\"white\",\"linecolor\":\"white\",\"ticks\":\"\",\"title\":{\"standoff\":15},\"zerolinecolor\":\"white\",\"automargin\":true,\"zerolinewidth\":2},\"scene\":{\"xaxis\":{\"backgroundcolor\":\"#E5ECF6\",\"gridcolor\":\"white\",\"linecolor\":\"white\",\"showbackground\":true,\"ticks\":\"\",\"zerolinecolor\":\"white\",\"gridwidth\":2},\"yaxis\":{\"backgroundcolor\":\"#E5ECF6\",\"gridcolor\":\"white\",\"linecolor\":\"white\",\"showbackground\":true,\"ticks\":\"\",\"zerolinecolor\":\"white\",\"gridwidth\":2},\"zaxis\":{\"backgroundcolor\":\"#E5ECF6\",\"gridcolor\":\"white\",\"linecolor\":\"white\",\"showbackground\":true,\"ticks\":\"\",\"zerolinecolor\":\"white\",\"gridwidth\":2}},\"shapedefaults\":{\"line\":{\"color\":\"#2a3f5f\"}},\"annotationdefaults\":{\"arrowcolor\":\"#2a3f5f\",\"arrowhead\":0,\"arrowwidth\":1},\"geo\":{\"bgcolor\":\"white\",\"landcolor\":\"#E5ECF6\",\"subunitcolor\":\"white\",\"showland\":true,\"showlakes\":true,\"lakecolor\":\"white\"},\"title\":{\"x\":0.05},\"mapbox\":{\"style\":\"light\"}}},\"xaxis\":{\"anchor\":\"y\",\"domain\":[0.0,1.0],\"title\":{\"text\":\"Date\"}},\"yaxis\":{\"anchor\":\"x\",\"domain\":[0.0,1.0],\"title\":{\"text\":\"AQI\"}},\"legend\":{\"title\":{\"text\":\"variable\"},\"tracegroupgap\":0},\"title\":{\"text\":\"AQI of Delhi in January\"},\"barmode\":\"relative\"},                        {\"responsive\": true}                    ).then(function(){\n",
       "                            \n",
       "var gd = document.getElementById('243a96ba-81c5-45c4-bc13-5e06393d9aca');\n",
       "var x = new MutationObserver(function (mutations, observer) {{\n",
       "        var display = window.getComputedStyle(gd).display;\n",
       "        if (!display || display === 'none') {{\n",
       "            console.log([gd, 'removed!']);\n",
       "            Plotly.purge(gd);\n",
       "            observer.disconnect();\n",
       "        }}\n",
       "}});\n",
       "\n",
       "// Listen for the removal of the full notebook cells\n",
       "var notebookContainer = gd.closest('#notebook-container');\n",
       "if (notebookContainer) {{\n",
       "    x.observe(notebookContainer, {childList: true});\n",
       "}}\n",
       "\n",
       "// Listen for the clearing of the current output cell\n",
       "var outputEl = gd.closest('.output');\n",
       "if (outputEl) {{\n",
       "    x.observe(outputEl, {childList: true});\n",
       "}}\n",
       "\n",
       "                        })                };                });            </script>        </div>"
      ]
     },
     "metadata": {},
     "output_type": "display_data"
    }
   ],
   "source": [
    "# AQI of Delhi in January\n",
    "fig = px.bar(df, x=\"date\", y=['PM2.5_AQI', 'PM10_AQI', 'Overall_AQI'], \n",
    "             title=\"AQI of Delhi in January\")\n",
    "fig.update_xaxes(title=\"Date\")\n",
    "fig.update_yaxes(title=\"AQI\")\n",
    "fig.show()"
   ]
  },
  {
   "cell_type": "code",
   "execution_count": 22,
   "id": "343e4821-3c2d-4e1c-b892-dc5a4be08ef9",
   "metadata": {},
   "outputs": [
    {
     "data": {
      "image/png": "[encoded data removed]",
      "text/plain": [
       "<Figure size 1400x800 with 1 Axes>"
      ]
     },
     "metadata": {},
     "output_type": "display_data"
    }
   ],
   "source": [
    "# Line charts for individual pollutants over time\n",
    "pollutants = ['pm2_5', 'pm10', 'co', 'no2', 'so2', 'o3', 'nh3']\n",
    "\n",
    "plt.figure(figsize=(14, 8))\n",
    "for pollutant in pollutants:\n",
    "    plt.plot(df['date'], df[pollutant], label=pollutant)\n",
    "\n",
    "plt.title('Concentration of Individual Pollutants Over Time')\n",
    "plt.xlabel('Date')\n",
    "plt.ylabel('Concentration')\n",
    "plt.legend()\n",
    "plt.grid(True)\n",
    "plt.show()\n"
   ]
  },
  {
   "cell_type": "code",
   "execution_count": 31,
   "id": "a1839d19-3de9-435c-b67c-93ca0f56c802",
   "metadata": {},
   "outputs": [
    {
     "data": {
      "application/vnd.plotly.v1+json": {
       "config": {
        "plotlyServerURL": "https://plot.ly"
       },
       "data": [
        {
         "domain": {
          "x": [
           0,
           1
          ],
          "y": [
           0,
           1
          ]
         },
         "hole": 0.4,
         "hovertemplate": "Pollutant=%{label}<br>Concentration=%{value}<extra></extra>",
         "labels": [
          "co",
          "no",
          "no2",
          "o3",
          "so2",
          "pm2_5",
          "pm10",
          "nh3"
         ],
         "legendgroup": "",
         "name": "",
         "showlegend": true,
         "textinfo": "percent+label",
         "type": "pie",
         "values": [
          2140182.58,
          28713.09,
          42239.09,
          16909.63,
          36271.98,
          200981.82,
          236174.5,
          14824.46
         ]
        }
       ],
       "layout": {
        "autosize": true,
        "legend": {
         "title": {
          "text": "Pollutant"
         },
         "tracegroupgap": 0
        },
        "piecolorway": [
         "#636EFA",
         "#EF553B",
         "#00CC96",
         "#AB63FA",
         "#FFA15A",
         "#19D3F3",
         "#FF6692",
         "#B6E880",
         "#FF97FF",
         "#FECB52"
        ],
        "template": {
         "data": {
          "bar": [
           {
            "error_x": {
             "color": "#2a3f5f"
            },
            "error_y": {
             "color": "#2a3f5f"
            },
            "marker": {
             "line": {
              "color": "white",
              "width": 0.5
             },
             "pattern": {
              "fillmode": "overlay",
              "size": 10,
              "solidity": 0.2
             }
            },
            "type": "bar"
           }
          ],
          "barpolar": [
           {
            "marker": {
             "line": {
              "color": "white",
              "width": 0.5
             },
             "pattern": {
              "fillmode": "overlay",
              "size": 10,
              "solidity": 0.2
             }
            },
            "type": "barpolar"
           }
          ],
          "carpet": [
           {
            "aaxis": {
             "endlinecolor": "#2a3f5f",
             "gridcolor": "#C8D4E3",
             "linecolor": "#C8D4E3",
             "minorgridcolor": "#C8D4E3",
             "startlinecolor": "#2a3f5f"
            },
            "baxis": {
             "endlinecolor": "#2a3f5f",
             "gridcolor": "#C8D4E3",
             "linecolor": "#C8D4E3",
             "minorgridcolor": "#C8D4E3",
             "startlinecolor": "#2a3f5f"
            },
            "type": "carpet"
           }
          ],
          "choropleth": [
           {
            "colorbar": {
             "outlinewidth": 0,
             "ticks": ""
            },
            "type": "choropleth"
           }
          ],
          "contour": [
           {
            "colorbar": {
             "outlinewidth": 0,
             "ticks": ""
            },
            "colorscale": [
             [
              0,
              "#0d0887"
             ],
             [
              0.1111111111111111,
              "#46039f"
             ],
             [
              0.2222222222222222,
              "#7201a8"
             ],
             [
              0.3333333333333333,
              "#9c179e"
             ],
             [
              0.4444444444444444,
              "#bd3786"
             ],
             [
              0.5555555555555556,
              "#d8576b"
             ],
             [
              0.6666666666666666,
              "#ed7953"
             ],
             [
              0.7777777777777778,
              "#fb9f3a"
             ],
             [
              0.8888888888888888,
              "#fdca26"
             ],
             [
              1,
              "#f0f921"
             ]
            ],
            "type": "contour"
           }
          ],
          "contourcarpet": [
           {
            "colorbar": {
             "outlinewidth": 0,
             "ticks": ""
            },
            "type": "contourcarpet"
           }
          ],
          "heatmap": [
           {
            "colorbar": {
             "outlinewidth": 0,
             "ticks": ""
            },
            "colorscale": [
             [
              0,
              "#0d0887"
             ],
             [
              0.1111111111111111,
              "#46039f"
             ],
             [
              0.2222222222222222,
              "#7201a8"
             ],
             [
              0.3333333333333333,
              "#9c179e"
             ],
             [
              0.4444444444444444,
              "#bd3786"
             ],
             [
              0.5555555555555556,
              "#d8576b"
             ],
             [
              0.6666666666666666,
              "#ed7953"
             ],
             [
              0.7777777777777778,
              "#fb9f3a"
             ],
             [
              0.8888888888888888,
              "#fdca26"
             ],
             [
              1,
              "#f0f921"
             ]
            ],
            "type": "heatmap"
           }
          ],
          "heatmapgl": [
           {
            "colorbar": {
             "outlinewidth": 0,
             "ticks": ""
            },
            "colorscale": [
             [
              0,
              "#0d0887"
             ],
             [
              0.1111111111111111,
              "#46039f"
             ],
             [
              0.2222222222222222,
              "#7201a8"
             ],
             [
              0.3333333333333333,
              "#9c179e"
             ],
             [
              0.4444444444444444,
              "#bd3786"
             ],
             [
              0.5555555555555556,
              "#d8576b"
             ],
             [
              0.6666666666666666,
              "#ed7953"
             ],
             [
              0.7777777777777778,
              "#fb9f3a"
             ],
             [
              0.8888888888888888,
              "#fdca26"
             ],
             [
              1,
              "#f0f921"
             ]
            ],
            "type": "heatmapgl"
           }
          ],
          "histogram": [
           {
            "marker": {
             "pattern": {
              "fillmode": "overlay",
              "size": 10,
              "solidity": 0.2
             }
            },
            "type": "histogram"
           }
          ],
          "histogram2d": [
           {
            "colorbar": {
             "outlinewidth": 0,
             "ticks": ""
            },
            "colorscale": [
             [
              0,
              "#0d0887"
             ],
             [
              0.1111111111111111,
              "#46039f"
             ],
             [
              0.2222222222222222,
              "#7201a8"
             ],
             [
              0.3333333333333333,
              "#9c179e"
             ],
             [
              0.4444444444444444,
              "#bd3786"
             ],
             [
              0.5555555555555556,
              "#d8576b"
             ],
             [
              0.6666666666666666,
              "#ed7953"
             ],
             [
              0.7777777777777778,
              "#fb9f3a"
             ],
             [
              0.8888888888888888,
              "#fdca26"
             ],
             [
              1,
              "#f0f921"
             ]
            ],
            "type": "histogram2d"
           }
          ],
          "histogram2dcontour": [
           {
            "colorbar": {
             "outlinewidth": 0,
             "ticks": ""
            },
            "colorscale": [
             [
              0,
              "#0d0887"
             ],
             [
              0.1111111111111111,
              "#46039f"
             ],
             [
              0.2222222222222222,
              "#7201a8"
             ],
             [
              0.3333333333333333,
              "#9c179e"
             ],
             [
              0.4444444444444444,
              "#bd3786"
             ],
             [
              0.5555555555555556,
              "#d8576b"
             ],
             [
              0.6666666666666666,
              "#ed7953"
             ],
             [
              0.7777777777777778,
              "#fb9f3a"
             ],
             [
              0.8888888888888888,
              "#fdca26"
             ],
             [
              1,
              "#f0f921"
             ]
            ],
            "type": "histogram2dcontour"
           }
          ],
          "mesh3d": [
           {
            "colorbar": {
             "outlinewidth": 0,
             "ticks": ""
            },
            "type": "mesh3d"
           }
          ],
          "parcoords": [
           {
            "line": {
             "colorbar": {
              "outlinewidth": 0,
              "ticks": ""
             }
            },
            "type": "parcoords"
           }
          ],
          "pie": [
           {
            "automargin": true,
            "type": "pie"
           }
          ],
          "scatter": [
           {
            "fillpattern": {
             "fillmode": "overlay",
             "size": 10,
             "solidity": 0.2
            },
            "type": "scatter"
           }
          ],
          "scatter3d": [
           {
            "line": {
             "colorbar": {
              "outlinewidth": 0,
              "ticks": ""
             }
            },
            "marker": {
             "colorbar": {
              "outlinewidth": 0,
              "ticks": ""
             }
            },
            "type": "scatter3d"
           }
          ],
          "scattercarpet": [
           {
            "marker": {
             "colorbar": {
              "outlinewidth": 0,
              "ticks": ""
             }
            },
            "type": "scattercarpet"
           }
          ],
          "scattergeo": [
           {
            "marker": {
             "colorbar": {
              "outlinewidth": 0,
              "ticks": ""
             }
            },
            "type": "scattergeo"
           }
          ],
          "scattergl": [
           {
            "marker": {
             "colorbar": {
              "outlinewidth": 0,
              "ticks": ""
             }
            },
            "type": "scattergl"
           }
          ],
          "scattermapbox": [
           {
            "marker": {
             "colorbar": {
              "outlinewidth": 0,
              "ticks": ""
             }
            },
            "type": "scattermapbox"
           }
          ],
          "scatterpolar": [
           {
            "marker": {
             "colorbar": {
              "outlinewidth": 0,
              "ticks": ""
             }
            },
            "type": "scatterpolar"
           }
          ],
          "scatterpolargl": [
           {
            "marker": {
             "colorbar": {
              "outlinewidth": 0,
              "ticks": ""
             }
            },
            "type": "scatterpolargl"
           }
          ],
          "scatterternary": [
           {
            "marker": {
             "colorbar": {
              "outlinewidth": 0,
              "ticks": ""
             }
            },
            "type": "scatterternary"
           }
          ],
          "surface": [
           {
            "colorbar": {
             "outlinewidth": 0,
             "ticks": ""
            },
            "colorscale": [
             [
              0,
              "#0d0887"
             ],
             [
              0.1111111111111111,
              "#46039f"
             ],
             [
              0.2222222222222222,
              "#7201a8"
             ],
             [
              0.3333333333333333,
              "#9c179e"
             ],
             [
              0.4444444444444444,
              "#bd3786"
             ],
             [
              0.5555555555555556,
              "#d8576b"
             ],
             [
              0.6666666666666666,
              "#ed7953"
             ],
             [
              0.7777777777777778,
              "#fb9f3a"
             ],
             [
              0.8888888888888888,
              "#fdca26"
             ],
             [
              1,
              "#f0f921"
             ]
            ],
            "type": "surface"
           }
          ],
          "table": [
           {
            "cells": {
             "fill": {
              "color": "#EBF0F8"
             },
             "line": {
              "color": "white"
             }
            },
            "header": {
             "fill": {
              "color": "#C8D4E3"
             },
             "line": {
              "color": "white"
             }
            },
            "type": "table"
           }
          ]
         },
         "layout": {
          "annotationdefaults": {
           "arrowcolor": "#2a3f5f",
           "arrowhead": 0,
           "arrowwidth": 1
          },
          "autotypenumbers": "strict",
          "coloraxis": {
           "colorbar": {
            "outlinewidth": 0,
            "ticks": ""
           }
          },
          "colorscale": {
           "diverging": [
            [
             0,
             "#8e0152"
            ],
            [
             0.1,
             "#c51b7d"
            ],
            [
             0.2,
             "#de77ae"
            ],
            [
             0.3,
             "#f1b6da"
            ],
            [
             0.4,
             "#fde0ef"
            ],
            [
             0.5,
             "#f7f7f7"
            ],
            [
             0.6,
             "#e6f5d0"
            ],
            [
             0.7,
             "#b8e186"
            ],
            [
             0.8,
             "#7fbc41"
            ],
            [
             0.9,
             "#4d9221"
            ],
            [
             1,
             "#276419"
            ]
           ],
           "sequential": [
            [
             0,
             "#0d0887"
            ],
            [
             0.1111111111111111,
             "#46039f"
            ],
            [
             0.2222222222222222,
             "#7201a8"
            ],
            [
             0.3333333333333333,
             "#9c179e"
            ],
            [
             0.4444444444444444,
             "#bd3786"
            ],
            [
             0.5555555555555556,
             "#d8576b"
            ],
            [
             0.6666666666666666,
             "#ed7953"
            ],
            [
             0.7777777777777778,
             "#fb9f3a"
            ],
            [
             0.8888888888888888,
             "#fdca26"
            ],
            [
             1,
             "#f0f921"
            ]
           ],
           "sequentialminus": [
            [
             0,
             "#0d0887"
            ],
            [
             0.1111111111111111,
             "#46039f"
            ],
            [
             0.2222222222222222,
             "#7201a8"
            ],
            [
             0.3333333333333333,
             "#9c179e"
            ],
            [
             0.4444444444444444,
             "#bd3786"
            ],
            [
             0.5555555555555556,
             "#d8576b"
            ],
            [
             0.6666666666666666,
             "#ed7953"
            ],
            [
             0.7777777777777778,
             "#fb9f3a"
            ],
            [
             0.8888888888888888,
             "#fdca26"
            ],
            [
             1,
             "#f0f921"
            ]
           ]
          },
          "colorway": [
           "#636efa",
           "#EF553B",
           "#00cc96",
           "#ab63fa",
           "#FFA15A",
           "#19d3f3",
           "#FF6692",
           "#B6E880",
           "#FF97FF",
           "#FECB52"
          ],
          "font": {
           "color": "#2a3f5f"
          },
          "geo": {
           "bgcolor": "white",
           "lakecolor": "white",
           "landcolor": "white",
           "showlakes": true,
           "showland": true,
           "subunitcolor": "#C8D4E3"
          },
          "hoverlabel": {
           "align": "left"
          },
          "hovermode": "closest",
          "mapbox": {
           "style": "light"
          },
          "paper_bgcolor": "white",
          "plot_bgcolor": "white",
          "polar": {
           "angularaxis": {
            "gridcolor": "#EBF0F8",
            "linecolor": "#EBF0F8",
            "ticks": ""
           },
           "bgcolor": "white",
           "radialaxis": {
            "gridcolor": "#EBF0F8",
            "linecolor": "#EBF0F8",
            "ticks": ""
           }
          },
          "scene": {
           "xaxis": {
            "backgroundcolor": "white",
            "gridcolor": "#DFE8F3",
            "gridwidth": 2,
            "linecolor": "#EBF0F8",
            "showbackground": true,
            "ticks": "",
            "zerolinecolor": "#EBF0F8"
           },
           "yaxis": {
            "backgroundcolor": "white",
            "gridcolor": "#DFE8F3",
            "gridwidth": 2,
            "linecolor": "#EBF0F8",
            "showbackground": true,
            "ticks": "",
            "zerolinecolor": "#EBF0F8"
           },
           "zaxis": {
            "backgroundcolor": "white",
            "gridcolor": "#DFE8F3",
            "gridwidth": 2,
            "linecolor": "#EBF0F8",
            "showbackground": true,
            "ticks": "",
            "zerolinecolor": "#EBF0F8"
           }
          },
          "shapedefaults": {
           "line": {
            "color": "#2a3f5f"
           }
          },
          "ternary": {
           "aaxis": {
            "gridcolor": "#DFE8F3",
            "linecolor": "#A2B1C6",
            "ticks": ""
           },
           "baxis": {
            "gridcolor": "#DFE8F3",
            "linecolor": "#A2B1C6",
            "ticks": ""
           },
           "bgcolor": "white",
           "caxis": {
            "gridcolor": "#DFE8F3",
            "linecolor": "#A2B1C6",
            "ticks": ""
           }
          },
          "title": {
           "x": 0.05
          },
          "xaxis": {
           "automargin": true,
           "gridcolor": "#EBF0F8",
           "linecolor": "#EBF0F8",
           "ticks": "",
           "title": {
            "standoff": 15
           },
           "zerolinecolor": "#EBF0F8",
           "zerolinewidth": 2
          },
          "yaxis": {
           "automargin": true,
           "gridcolor": "#EBF0F8",
           "linecolor": "#EBF0F8",
           "ticks": "",
           "title": {
            "standoff": 15
           },
           "zerolinecolor": "#EBF0F8",
           "zerolinewidth": 2
          }
         }
        },
        "title": {
         "text": "Pollutant Concentrations in Delhi"
        }
       }
      },
      "image/png": "[encoded data removed]",
      "text/html": [
       "<div>                            <div id=\"9b8959a5-b0db-4f54-bb79-8bb1257675f7\" class=\"plotly-graph-div\" style=\"height:525px; width:100%;\"></div>            <script type=\"text/javascript\">                require([\"plotly\"], function(Plotly) {                    window.PLOTLYENV=window.PLOTLYENV || {};                                    if (document.getElementById(\"9b8959a5-b0db-4f54-bb79-8bb1257675f7\")) {                    Plotly.newPlot(                        \"9b8959a5-b0db-4f54-bb79-8bb1257675f7\",                        [{\"domain\":{\"x\":[0.0,1.0],\"y\":[0.0,1.0]},\"hole\":0.4,\"hovertemplate\":\"Pollutant=%{label}\\u003cbr\\u003eConcentration=%{value}\\u003cextra\\u003e\\u003c\\u002fextra\\u003e\",\"labels\":[\"co\",\"no\",\"no2\",\"o3\",\"so2\",\"pm2_5\",\"pm10\",\"nh3\"],\"legendgroup\":\"\",\"name\":\"\",\"showlegend\":true,\"values\":[2140182.58,28713.09,42239.09,16909.63,36271.98,200981.82,236174.5,14824.46],\"type\":\"pie\",\"textinfo\":\"percent+label\"}],                        {\"template\":{\"data\":{\"histogram2dcontour\":[{\"type\":\"histogram2dcontour\",\"colorbar\":{\"outlinewidth\":0,\"ticks\":\"\"},\"colorscale\":[[0.0,\"#0d0887\"],[0.1111111111111111,\"#46039f\"],[0.2222222222222222,\"#7201a8\"],[0.3333333333333333,\"#9c179e\"],[0.4444444444444444,\"#bd3786\"],[0.5555555555555556,\"#d8576b\"],[0.6666666666666666,\"#ed7953\"],[0.7777777777777778,\"#fb9f3a\"],[0.8888888888888888,\"#fdca26\"],[1.0,\"#f0f921\"]]}],\"choropleth\":[{\"type\":\"choropleth\",\"colorbar\":{\"outlinewidth\":0,\"ticks\":\"\"}}],\"histogram2d\":[{\"type\":\"histogram2d\",\"colorbar\":{\"outlinewidth\":0,\"ticks\":\"\"},\"colorscale\":[[0.0,\"#0d0887\"],[0.1111111111111111,\"#46039f\"],[0.2222222222222222,\"#7201a8\"],[0.3333333333333333,\"#9c179e\"],[0.4444444444444444,\"#bd3786\"],[0.5555555555555556,\"#d8576b\"],[0.6666666666666666,\"#ed7953\"],[0.7777777777777778,\"#fb9f3a\"],[0.8888888888888888,\"#fdca26\"],[1.0,\"#f0f921\"]]}],\"heatmap\":[{\"type\":\"heatmap\",\"colorbar\":{\"outlinewidth\":0,\"ticks\":\"\"},\"colorscale\":[[0.0,\"#0d0887\"],[0.1111111111111111,\"#46039f\"],[0.2222222222222222,\"#7201a8\"],[0.3333333333333333,\"#9c179e\"],[0.4444444444444444,\"#bd3786\"],[0.5555555555555556,\"#d8576b\"],[0.6666666666666666,\"#ed7953\"],[0.7777777777777778,\"#fb9f3a\"],[0.8888888888888888,\"#fdca26\"],[1.0,\"#f0f921\"]]}],\"heatmapgl\":[{\"type\":\"heatmapgl\",\"colorbar\":{\"outlinewidth\":0,\"ticks\":\"\"},\"colorscale\":[[0.0,\"#0d0887\"],[0.1111111111111111,\"#46039f\"],[0.2222222222222222,\"#7201a8\"],[0.3333333333333333,\"#9c179e\"],[0.4444444444444444,\"#bd3786\"],[0.5555555555555556,\"#d8576b\"],[0.6666666666666666,\"#ed7953\"],[0.7777777777777778,\"#fb9f3a\"],[0.8888888888888888,\"#fdca26\"],[1.0,\"#f0f921\"]]}],\"contourcarpet\":[{\"type\":\"contourcarpet\",\"colorbar\":{\"outlinewidth\":0,\"ticks\":\"\"}}],\"contour\":[{\"type\":\"contour\",\"colorbar\":{\"outlinewidth\":0,\"ticks\":\"\"},\"colorscale\":[[0.0,\"#0d0887\"],[0.1111111111111111,\"#46039f\"],[0.2222222222222222,\"#7201a8\"],[0.3333333333333333,\"#9c179e\"],[0.4444444444444444,\"#bd3786\"],[0.5555555555555556,\"#d8576b\"],[0.6666666666666666,\"#ed7953\"],[0.7777777777777778,\"#fb9f3a\"],[0.8888888888888888,\"#fdca26\"],[1.0,\"#f0f921\"]]}],\"surface\":[{\"type\":\"surface\",\"colorbar\":{\"outlinewidth\":0,\"ticks\":\"\"},\"colorscale\":[[0.0,\"#0d0887\"],[0.1111111111111111,\"#46039f\"],[0.2222222222222222,\"#7201a8\"],[0.3333333333333333,\"#9c179e\"],[0.4444444444444444,\"#bd3786\"],[0.5555555555555556,\"#d8576b\"],[0.6666666666666666,\"#ed7953\"],[0.7777777777777778,\"#fb9f3a\"],[0.8888888888888888,\"#fdca26\"],[1.0,\"#f0f921\"]]}],\"mesh3d\":[{\"type\":\"mesh3d\",\"colorbar\":{\"outlinewidth\":0,\"ticks\":\"\"}}],\"scatter\":[{\"fillpattern\":{\"fillmode\":\"overlay\",\"size\":10,\"solidity\":0.2},\"type\":\"scatter\"}],\"parcoords\":[{\"type\":\"parcoords\",\"line\":{\"colorbar\":{\"outlinewidth\":0,\"ticks\":\"\"}}}],\"scatterpolargl\":[{\"type\":\"scatterpolargl\",\"marker\":{\"colorbar\":{\"outlinewidth\":0,\"ticks\":\"\"}}}],\"bar\":[{\"error_x\":{\"color\":\"#2a3f5f\"},\"error_y\":{\"color\":\"#2a3f5f\"},\"marker\":{\"line\":{\"color\":\"white\",\"width\":0.5},\"pattern\":{\"fillmode\":\"overlay\",\"size\":10,\"solidity\":0.2}},\"type\":\"bar\"}],\"scattergeo\":[{\"type\":\"scattergeo\",\"marker\":{\"colorbar\":{\"outlinewidth\":0,\"ticks\":\"\"}}}],\"scatterpolar\":[{\"type\":\"scatterpolar\",\"marker\":{\"colorbar\":{\"outlinewidth\":0,\"ticks\":\"\"}}}],\"histogram\":[{\"marker\":{\"pattern\":{\"fillmode\":\"overlay\",\"size\":10,\"solidity\":0.2}},\"type\":\"histogram\"}],\"scattergl\":[{\"type\":\"scattergl\",\"marker\":{\"colorbar\":{\"outlinewidth\":0,\"ticks\":\"\"}}}],\"scatter3d\":[{\"type\":\"scatter3d\",\"line\":{\"colorbar\":{\"outlinewidth\":0,\"ticks\":\"\"}},\"marker\":{\"colorbar\":{\"outlinewidth\":0,\"ticks\":\"\"}}}],\"scattermapbox\":[{\"type\":\"scattermapbox\",\"marker\":{\"colorbar\":{\"outlinewidth\":0,\"ticks\":\"\"}}}],\"scatterternary\":[{\"type\":\"scatterternary\",\"marker\":{\"colorbar\":{\"outlinewidth\":0,\"ticks\":\"\"}}}],\"scattercarpet\":[{\"type\":\"scattercarpet\",\"marker\":{\"colorbar\":{\"outlinewidth\":0,\"ticks\":\"\"}}}],\"carpet\":[{\"aaxis\":{\"endlinecolor\":\"#2a3f5f\",\"gridcolor\":\"#C8D4E3\",\"linecolor\":\"#C8D4E3\",\"minorgridcolor\":\"#C8D4E3\",\"startlinecolor\":\"#2a3f5f\"},\"baxis\":{\"endlinecolor\":\"#2a3f5f\",\"gridcolor\":\"#C8D4E3\",\"linecolor\":\"#C8D4E3\",\"minorgridcolor\":\"#C8D4E3\",\"startlinecolor\":\"#2a3f5f\"},\"type\":\"carpet\"}],\"table\":[{\"cells\":{\"fill\":{\"color\":\"#EBF0F8\"},\"line\":{\"color\":\"white\"}},\"header\":{\"fill\":{\"color\":\"#C8D4E3\"},\"line\":{\"color\":\"white\"}},\"type\":\"table\"}],\"barpolar\":[{\"marker\":{\"line\":{\"color\":\"white\",\"width\":0.5},\"pattern\":{\"fillmode\":\"overlay\",\"size\":10,\"solidity\":0.2}},\"type\":\"barpolar\"}],\"pie\":[{\"automargin\":true,\"type\":\"pie\"}]},\"layout\":{\"autotypenumbers\":\"strict\",\"colorway\":[\"#636efa\",\"#EF553B\",\"#00cc96\",\"#ab63fa\",\"#FFA15A\",\"#19d3f3\",\"#FF6692\",\"#B6E880\",\"#FF97FF\",\"#FECB52\"],\"font\":{\"color\":\"#2a3f5f\"},\"hovermode\":\"closest\",\"hoverlabel\":{\"align\":\"left\"},\"paper_bgcolor\":\"white\",\"plot_bgcolor\":\"white\",\"polar\":{\"bgcolor\":\"white\",\"angularaxis\":{\"gridcolor\":\"#EBF0F8\",\"linecolor\":\"#EBF0F8\",\"ticks\":\"\"},\"radialaxis\":{\"gridcolor\":\"#EBF0F8\",\"linecolor\":\"#EBF0F8\",\"ticks\":\"\"}},\"ternary\":{\"bgcolor\":\"white\",\"aaxis\":{\"gridcolor\":\"#DFE8F3\",\"linecolor\":\"#A2B1C6\",\"ticks\":\"\"},\"baxis\":{\"gridcolor\":\"#DFE8F3\",\"linecolor\":\"#A2B1C6\",\"ticks\":\"\"},\"caxis\":{\"gridcolor\":\"#DFE8F3\",\"linecolor\":\"#A2B1C6\",\"ticks\":\"\"}},\"coloraxis\":{\"colorbar\":{\"outlinewidth\":0,\"ticks\":\"\"}},\"colorscale\":{\"sequential\":[[0.0,\"#0d0887\"],[0.1111111111111111,\"#46039f\"],[0.2222222222222222,\"#7201a8\"],[0.3333333333333333,\"#9c179e\"],[0.4444444444444444,\"#bd3786\"],[0.5555555555555556,\"#d8576b\"],[0.6666666666666666,\"#ed7953\"],[0.7777777777777778,\"#fb9f3a\"],[0.8888888888888888,\"#fdca26\"],[1.0,\"#f0f921\"]],\"sequentialminus\":[[0.0,\"#0d0887\"],[0.1111111111111111,\"#46039f\"],[0.2222222222222222,\"#7201a8\"],[0.3333333333333333,\"#9c179e\"],[0.4444444444444444,\"#bd3786\"],[0.5555555555555556,\"#d8576b\"],[0.6666666666666666,\"#ed7953\"],[0.7777777777777778,\"#fb9f3a\"],[0.8888888888888888,\"#fdca26\"],[1.0,\"#f0f921\"]],\"diverging\":[[0,\"#8e0152\"],[0.1,\"#c51b7d\"],[0.2,\"#de77ae\"],[0.3,\"#f1b6da\"],[0.4,\"#fde0ef\"],[0.5,\"#f7f7f7\"],[0.6,\"#e6f5d0\"],[0.7,\"#b8e186\"],[0.8,\"#7fbc41\"],[0.9,\"#4d9221\"],[1,\"#276419\"]]},\"xaxis\":{\"gridcolor\":\"#EBF0F8\",\"linecolor\":\"#EBF0F8\",\"ticks\":\"\",\"title\":{\"standoff\":15},\"zerolinecolor\":\"#EBF0F8\",\"automargin\":true,\"zerolinewidth\":2},\"yaxis\":{\"gridcolor\":\"#EBF0F8\",\"linecolor\":\"#EBF0F8\",\"ticks\":\"\",\"title\":{\"standoff\":15},\"zerolinecolor\":\"#EBF0F8\",\"automargin\":true,\"zerolinewidth\":2},\"scene\":{\"xaxis\":{\"backgroundcolor\":\"white\",\"gridcolor\":\"#DFE8F3\",\"linecolor\":\"#EBF0F8\",\"showbackground\":true,\"ticks\":\"\",\"zerolinecolor\":\"#EBF0F8\",\"gridwidth\":2},\"yaxis\":{\"backgroundcolor\":\"white\",\"gridcolor\":\"#DFE8F3\",\"linecolor\":\"#EBF0F8\",\"showbackground\":true,\"ticks\":\"\",\"zerolinecolor\":\"#EBF0F8\",\"gridwidth\":2},\"zaxis\":{\"backgroundcolor\":\"white\",\"gridcolor\":\"#DFE8F3\",\"linecolor\":\"#EBF0F8\",\"showbackground\":true,\"ticks\":\"\",\"zerolinecolor\":\"#EBF0F8\",\"gridwidth\":2}},\"shapedefaults\":{\"line\":{\"color\":\"#2a3f5f\"}},\"annotationdefaults\":{\"arrowcolor\":\"#2a3f5f\",\"arrowhead\":0,\"arrowwidth\":1},\"geo\":{\"bgcolor\":\"white\",\"landcolor\":\"white\",\"subunitcolor\":\"#C8D4E3\",\"showland\":true,\"showlakes\":true,\"lakecolor\":\"white\"},\"title\":{\"x\":0.05},\"mapbox\":{\"style\":\"light\"}}},\"legend\":{\"tracegroupgap\":0,\"title\":{\"text\":\"Pollutant\"}},\"title\":{\"text\":\"Pollutant Concentrations in Delhi\"},\"piecolorway\":[\"#636EFA\",\"#EF553B\",\"#00CC96\",\"#AB63FA\",\"#FFA15A\",\"#19D3F3\",\"#FF6692\",\"#B6E880\",\"#FF97FF\",\"#FECB52\"]},                        {\"responsive\": true}                    ).then(function(){\n",
       "                            \n",
       "var gd = document.getElementById('9b8959a5-b0db-4f54-bb79-8bb1257675f7');\n",
       "var x = new MutationObserver(function (mutations, observer) {{\n",
       "        var display = window.getComputedStyle(gd).display;\n",
       "        if (!display || display === 'none') {{\n",
       "            console.log([gd, 'removed!']);\n",
       "            Plotly.purge(gd);\n",
       "            observer.disconnect();\n",
       "        }}\n",
       "}});\n",
       "\n",
       "// Listen for the removal of the full notebook cells\n",
       "var notebookContainer = gd.closest('#notebook-container');\n",
       "if (notebookContainer) {{\n",
       "    x.observe(notebookContainer, {childList: true});\n",
       "}}\n",
       "\n",
       "// Listen for the clearing of the current output cell\n",
       "var outputEl = gd.closest('.output');\n",
       "if (outputEl) {{\n",
       "    x.observe(outputEl, {childList: true});\n",
       "}}\n",
       "\n",
       "                        })                };                });            </script>        </div>"
      ]
     },
     "metadata": {},
     "output_type": "display_data"
    }
   ],
   "source": [
    "# Define pollutants and their colors\n",
    "pollutants = [\"co\", \"no\", \"no2\", \"o3\", \"so2\", \"pm2_5\", \"pm10\", \"nh3\"]\n",
    "pollutant_colors = px.colors.qualitative.Plotly\n",
    "\n",
    "# Calculate the sum of pollutant concentrations\n",
    "total_concentrations = df[pollutants].sum()\n",
    "\n",
    "# Create a DataFrame for the concentrations\n",
    "concentration_df = pd.DataFrame({\n",
    "    \"Pollutant\": pollutants,\n",
    "    \"Concentration\": total_concentrations\n",
    "})\n",
    "\n",
    "# Create a donut plot for pollutant concentrations\n",
    "fig = px.pie(concentration_df, names=\"Pollutant\", values=\"Concentration\",\n",
    "             title=\"Pollutant Concentrations in Delhi\",\n",
    "             hole=0.4, color_discrete_sequence=pollutant_colors)\n",
    "\n",
    "# Update layout for the donut plot\n",
    "fig.update_traces(textinfo=\"percent+label\")\n",
    "fig.update_layout(legend_title=\"Pollutant\")\n",
    "\n",
    "# Show the donut plot\n",
    "fig.show()"
   ]
  },
  {
   "cell_type": "code",
   "execution_count": 32,
   "id": "82620913-d1aa-4f0d-938d-13b985934ceb",
   "metadata": {},
   "outputs": [
    {
     "data": {
      "application/vnd.plotly.v1+json": {
       "config": {
        "plotlyServerURL": "https://plot.ly"
       },
       "data": [
        {
         "coloraxis": "coloraxis",
         "hovertemplate": "x: %{x}<br>y: %{y}<br>color: %{z}<extra></extra>",
         "name": "0",
         "type": "heatmap",
         "x": [
          "co",
          "no",
          "no2",
          "o3",
          "so2",
          "pm2_5",
          "pm10",
          "nh3"
         ],
         "xaxis": "x",
         "y": [
          "co",
          "no",
          "no2",
          "o3",
          "so2",
          "pm2_5",
          "pm10",
          "nh3"
         ],
         "yaxis": "y",
         "z": [
          [
           1,
           0.9697401487964834,
           0.7764024239177607,
           -0.46308209648102294,
           0.7168310223069085,
           0.9530831234785508,
           0.9668005448099961,
           0.8262991868229215
          ],
          [
           0.9697401487964834,
           1,
           0.7022013092965564,
           -0.3778131953053945,
           0.7345030685524397,
           0.8888095304047393,
           0.9033387229851302,
           0.8236380353360471
          ],
          [
           0.7764024239177607,
           0.7022013092965564,
           1,
           -0.4071770485588064,
           0.734961358558339,
           0.6986956657744213,
           0.7200497727014439,
           0.7002541910957111
          ],
          [
           -0.46308209648102294,
           -0.3778131953053945,
           -0.4071770485588064,
           1,
           -0.04915781771667561,
           -0.45045750977766263,
           -0.4684772945596823,
           -0.29966339848008566
          ],
          [
           0.7168310223069085,
           0.7345030685524397,
           0.734961358558339,
           -0.04915781771667561,
           1,
           0.6489957009955721,
           0.6583250004181388,
           0.8436353609630068
          ],
          [
           0.9530831234785508,
           0.8888095304047393,
           0.6986956657744213,
           -0.45045750977766263,
           0.6489957009955721,
           1,
           0.9940882831710577,
           0.7203030642767517
          ],
          [
           0.9668005448099961,
           0.9033387229851302,
           0.7200497727014439,
           -0.4684772945596823,
           0.6583250004181388,
           0.9940882831710577,
           1,
           0.7544684621475819
          ],
          [
           0.8262991868229215,
           0.8236380353360471,
           0.7002541910957111,
           -0.29966339848008566,
           0.8436353609630068,
           0.7203030642767517,
           0.7544684621475819,
           1
          ]
         ]
        }
       ],
       "layout": {
        "autosize": true,
        "coloraxis": {
         "colorscale": [
          [
           0,
           "#0d0887"
          ],
          [
           0.1111111111111111,
           "#46039f"
          ],
          [
           0.2222222222222222,
           "#7201a8"
          ],
          [
           0.3333333333333333,
           "#9c179e"
          ],
          [
           0.4444444444444444,
           "#bd3786"
          ],
          [
           0.5555555555555556,
           "#d8576b"
          ],
          [
           0.6666666666666666,
           "#ed7953"
          ],
          [
           0.7777777777777778,
           "#fb9f3a"
          ],
          [
           0.8888888888888888,
           "#fdca26"
          ],
          [
           1,
           "#f0f921"
          ]
         ]
        },
        "template": {
         "data": {
          "bar": [
           {
            "error_x": {
             "color": "#2a3f5f"
            },
            "error_y": {
             "color": "#2a3f5f"
            },
            "marker": {
             "line": {
              "color": "white",
              "width": 0.5
             },
             "pattern": {
              "fillmode": "overlay",
              "size": 10,
              "solidity": 0.2
             }
            },
            "type": "bar"
           }
          ],
          "barpolar": [
           {
            "marker": {
             "line": {
              "color": "white",
              "width": 0.5
             },
             "pattern": {
              "fillmode": "overlay",
              "size": 10,
              "solidity": 0.2
             }
            },
            "type": "barpolar"
           }
          ],
          "carpet": [
           {
            "aaxis": {
             "endlinecolor": "#2a3f5f",
             "gridcolor": "#C8D4E3",
             "linecolor": "#C8D4E3",
             "minorgridcolor": "#C8D4E3",
             "startlinecolor": "#2a3f5f"
            },
            "baxis": {
             "endlinecolor": "#2a3f5f",
             "gridcolor": "#C8D4E3",
             "linecolor": "#C8D4E3",
             "minorgridcolor": "#C8D4E3",
             "startlinecolor": "#2a3f5f"
            },
            "type": "carpet"
           }
          ],
          "choropleth": [
           {
            "colorbar": {
             "outlinewidth": 0,
             "ticks": ""
            },
            "type": "choropleth"
           }
          ],
          "contour": [
           {
            "colorbar": {
             "outlinewidth": 0,
             "ticks": ""
            },
            "colorscale": [
             [
              0,
              "#0d0887"
             ],
             [
              0.1111111111111111,
              "#46039f"
             ],
             [
              0.2222222222222222,
              "#7201a8"
             ],
             [
              0.3333333333333333,
              "#9c179e"
             ],
             [
              0.4444444444444444,
              "#bd3786"
             ],
             [
              0.5555555555555556,
              "#d8576b"
             ],
             [
              0.6666666666666666,
              "#ed7953"
             ],
             [
              0.7777777777777778,
              "#fb9f3a"
             ],
             [
              0.8888888888888888,
              "#fdca26"
             ],
             [
              1,
              "#f0f921"
             ]
            ],
            "type": "contour"
           }
          ],
          "contourcarpet": [
           {
            "colorbar": {
             "outlinewidth": 0,
             "ticks": ""
            },
            "type": "contourcarpet"
           }
          ],
          "heatmap": [
           {
            "colorbar": {
             "outlinewidth": 0,
             "ticks": ""
            },
            "colorscale": [
             [
              0,
              "#0d0887"
             ],
             [
              0.1111111111111111,
              "#46039f"
             ],
             [
              0.2222222222222222,
              "#7201a8"
             ],
             [
              0.3333333333333333,
              "#9c179e"
             ],
             [
              0.4444444444444444,
              "#bd3786"
             ],
             [
              0.5555555555555556,
              "#d8576b"
             ],
             [
              0.6666666666666666,
              "#ed7953"
             ],
             [
              0.7777777777777778,
              "#fb9f3a"
             ],
             [
              0.8888888888888888,
              "#fdca26"
             ],
             [
              1,
              "#f0f921"
             ]
            ],
            "type": "heatmap"
           }
          ],
          "heatmapgl": [
           {
            "colorbar": {
             "outlinewidth": 0,
             "ticks": ""
            },
            "colorscale": [
             [
              0,
              "#0d0887"
             ],
             [
              0.1111111111111111,
              "#46039f"
             ],
             [
              0.2222222222222222,
              "#7201a8"
             ],
             [
              0.3333333333333333,
              "#9c179e"
             ],
             [
              0.4444444444444444,
              "#bd3786"
             ],
             [
              0.5555555555555556,
              "#d8576b"
             ],
             [
              0.6666666666666666,
              "#ed7953"
             ],
             [
              0.7777777777777778,
              "#fb9f3a"
             ],
             [
              0.8888888888888888,
              "#fdca26"
             ],
             [
              1,
              "#f0f921"
             ]
            ],
            "type": "heatmapgl"
           }
          ],
          "histogram": [
           {
            "marker": {
             "pattern": {
              "fillmode": "overlay",
              "size": 10,
              "solidity": 0.2
             }
            },
            "type": "histogram"
           }
          ],
          "histogram2d": [
           {
            "colorbar": {
             "outlinewidth": 0,
             "ticks": ""
            },
            "colorscale": [
             [
              0,
              "#0d0887"
             ],
             [
              0.1111111111111111,
              "#46039f"
             ],
             [
              0.2222222222222222,
              "#7201a8"
             ],
             [
              0.3333333333333333,
              "#9c179e"
             ],
             [
              0.4444444444444444,
              "#bd3786"
             ],
             [
              0.5555555555555556,
              "#d8576b"
             ],
             [
              0.6666666666666666,
              "#ed7953"
             ],
             [
              0.7777777777777778,
              "#fb9f3a"
             ],
             [
              0.8888888888888888,
              "#fdca26"
             ],
             [
              1,
              "#f0f921"
             ]
            ],
            "type": "histogram2d"
           }
          ],
          "histogram2dcontour": [
           {
            "colorbar": {
             "outlinewidth": 0,
             "ticks": ""
            },
            "colorscale": [
             [
              0,
              "#0d0887"
             ],
             [
              0.1111111111111111,
              "#46039f"
             ],
             [
              0.2222222222222222,
              "#7201a8"
             ],
             [
              0.3333333333333333,
              "#9c179e"
             ],
             [
              0.4444444444444444,
              "#bd3786"
             ],
             [
              0.5555555555555556,
              "#d8576b"
             ],
             [
              0.6666666666666666,
              "#ed7953"
             ],
             [
              0.7777777777777778,
              "#fb9f3a"
             ],
             [
              0.8888888888888888,
              "#fdca26"
             ],
             [
              1,
              "#f0f921"
             ]
            ],
            "type": "histogram2dcontour"
           }
          ],
          "mesh3d": [
           {
            "colorbar": {
             "outlinewidth": 0,
             "ticks": ""
            },
            "type": "mesh3d"
           }
          ],
          "parcoords": [
           {
            "line": {
             "colorbar": {
              "outlinewidth": 0,
              "ticks": ""
             }
            },
            "type": "parcoords"
           }
          ],
          "pie": [
           {
            "automargin": true,
            "type": "pie"
           }
          ],
          "scatter": [
           {
            "fillpattern": {
             "fillmode": "overlay",
             "size": 10,
             "solidity": 0.2
            },
            "type": "scatter"
           }
          ],
          "scatter3d": [
           {
            "line": {
             "colorbar": {
              "outlinewidth": 0,
              "ticks": ""
             }
            },
            "marker": {
             "colorbar": {
              "outlinewidth": 0,
              "ticks": ""
             }
            },
            "type": "scatter3d"
           }
          ],
          "scattercarpet": [
           {
            "marker": {
             "colorbar": {
              "outlinewidth": 0,
              "ticks": ""
             }
            },
            "type": "scattercarpet"
           }
          ],
          "scattergeo": [
           {
            "marker": {
             "colorbar": {
              "outlinewidth": 0,
              "ticks": ""
             }
            },
            "type": "scattergeo"
           }
          ],
          "scattergl": [
           {
            "marker": {
             "colorbar": {
              "outlinewidth": 0,
              "ticks": ""
             }
            },
            "type": "scattergl"
           }
          ],
          "scattermapbox": [
           {
            "marker": {
             "colorbar": {
              "outlinewidth": 0,
              "ticks": ""
             }
            },
            "type": "scattermapbox"
           }
          ],
          "scatterpolar": [
           {
            "marker": {
             "colorbar": {
              "outlinewidth": 0,
              "ticks": ""
             }
            },
            "type": "scatterpolar"
           }
          ],
          "scatterpolargl": [
           {
            "marker": {
             "colorbar": {
              "outlinewidth": 0,
              "ticks": ""
             }
            },
            "type": "scatterpolargl"
           }
          ],
          "scatterternary": [
           {
            "marker": {
             "colorbar": {
              "outlinewidth": 0,
              "ticks": ""
             }
            },
            "type": "scatterternary"
           }
          ],
          "surface": [
           {
            "colorbar": {
             "outlinewidth": 0,
             "ticks": ""
            },
            "colorscale": [
             [
              0,
              "#0d0887"
             ],
             [
              0.1111111111111111,
              "#46039f"
             ],
             [
              0.2222222222222222,
              "#7201a8"
             ],
             [
              0.3333333333333333,
              "#9c179e"
             ],
             [
              0.4444444444444444,
              "#bd3786"
             ],
             [
              0.5555555555555556,
              "#d8576b"
             ],
             [
              0.6666666666666666,
              "#ed7953"
             ],
             [
              0.7777777777777778,
              "#fb9f3a"
             ],
             [
              0.8888888888888888,
              "#fdca26"
             ],
             [
              1,
              "#f0f921"
             ]
            ],
            "type": "surface"
           }
          ],
          "table": [
           {
            "cells": {
             "fill": {
              "color": "#EBF0F8"
             },
             "line": {
              "color": "white"
             }
            },
            "header": {
             "fill": {
              "color": "#C8D4E3"
             },
             "line": {
              "color": "white"
             }
            },
            "type": "table"
           }
          ]
         },
         "layout": {
          "annotationdefaults": {
           "arrowcolor": "#2a3f5f",
           "arrowhead": 0,
           "arrowwidth": 1
          },
          "autotypenumbers": "strict",
          "coloraxis": {
           "colorbar": {
            "outlinewidth": 0,
            "ticks": ""
           }
          },
          "colorscale": {
           "diverging": [
            [
             0,
             "#8e0152"
            ],
            [
             0.1,
             "#c51b7d"
            ],
            [
             0.2,
             "#de77ae"
            ],
            [
             0.3,
             "#f1b6da"
            ],
            [
             0.4,
             "#fde0ef"
            ],
            [
             0.5,
             "#f7f7f7"
            ],
            [
             0.6,
             "#e6f5d0"
            ],
            [
             0.7,
             "#b8e186"
            ],
            [
             0.8,
             "#7fbc41"
            ],
            [
             0.9,
             "#4d9221"
            ],
            [
             1,
             "#276419"
            ]
           ],
           "sequential": [
            [
             0,
             "#0d0887"
            ],
            [
             0.1111111111111111,
             "#46039f"
            ],
            [
             0.2222222222222222,
             "#7201a8"
            ],
            [
             0.3333333333333333,
             "#9c179e"
            ],
            [
             0.4444444444444444,
             "#bd3786"
            ],
            [
             0.5555555555555556,
             "#d8576b"
            ],
            [
             0.6666666666666666,
             "#ed7953"
            ],
            [
             0.7777777777777778,
             "#fb9f3a"
            ],
            [
             0.8888888888888888,
             "#fdca26"
            ],
            [
             1,
             "#f0f921"
            ]
           ],
           "sequentialminus": [
            [
             0,
             "#0d0887"
            ],
            [
             0.1111111111111111,
             "#46039f"
            ],
            [
             0.2222222222222222,
             "#7201a8"
            ],
            [
             0.3333333333333333,
             "#9c179e"
            ],
            [
             0.4444444444444444,
             "#bd3786"
            ],
            [
             0.5555555555555556,
             "#d8576b"
            ],
            [
             0.6666666666666666,
             "#ed7953"
            ],
            [
             0.7777777777777778,
             "#fb9f3a"
            ],
            [
             0.8888888888888888,
             "#fdca26"
            ],
            [
             1,
             "#f0f921"
            ]
           ]
          },
          "colorway": [
           "#636efa",
           "#EF553B",
           "#00cc96",
           "#ab63fa",
           "#FFA15A",
           "#19d3f3",
           "#FF6692",
           "#B6E880",
           "#FF97FF",
           "#FECB52"
          ],
          "font": {
           "color": "#2a3f5f"
          },
          "geo": {
           "bgcolor": "white",
           "lakecolor": "white",
           "landcolor": "white",
           "showlakes": true,
           "showland": true,
           "subunitcolor": "#C8D4E3"
          },
          "hoverlabel": {
           "align": "left"
          },
          "hovermode": "closest",
          "mapbox": {
           "style": "light"
          },
          "paper_bgcolor": "white",
          "plot_bgcolor": "white",
          "polar": {
           "angularaxis": {
            "gridcolor": "#EBF0F8",
            "linecolor": "#EBF0F8",
            "ticks": ""
           },
           "bgcolor": "white",
           "radialaxis": {
            "gridcolor": "#EBF0F8",
            "linecolor": "#EBF0F8",
            "ticks": ""
           }
          },
          "scene": {
           "xaxis": {
            "backgroundcolor": "white",
            "gridcolor": "#DFE8F3",
            "gridwidth": 2,
            "linecolor": "#EBF0F8",
            "showbackground": true,
            "ticks": "",
            "zerolinecolor": "#EBF0F8"
           },
           "yaxis": {
            "backgroundcolor": "white",
            "gridcolor": "#DFE8F3",
            "gridwidth": 2,
            "linecolor": "#EBF0F8",
            "showbackground": true,
            "ticks": "",
            "zerolinecolor": "#EBF0F8"
           },
           "zaxis": {
            "backgroundcolor": "white",
            "gridcolor": "#DFE8F3",
            "gridwidth": 2,
            "linecolor": "#EBF0F8",
            "showbackground": true,
            "ticks": "",
            "zerolinecolor": "#EBF0F8"
           }
          },
          "shapedefaults": {
           "line": {
            "color": "#2a3f5f"
           }
          },
          "ternary": {
           "aaxis": {
            "gridcolor": "#DFE8F3",
            "linecolor": "#A2B1C6",
            "ticks": ""
           },
           "baxis": {
            "gridcolor": "#DFE8F3",
            "linecolor": "#A2B1C6",
            "ticks": ""
           },
           "bgcolor": "white",
           "caxis": {
            "gridcolor": "#DFE8F3",
            "linecolor": "#A2B1C6",
            "ticks": ""
           }
          },
          "title": {
           "x": 0.05
          },
          "xaxis": {
           "automargin": true,
           "gridcolor": "#EBF0F8",
           "linecolor": "#EBF0F8",
           "ticks": "",
           "title": {
            "standoff": 15
           },
           "zerolinecolor": "#EBF0F8",
           "zerolinewidth": 2
          },
          "yaxis": {
           "automargin": true,
           "gridcolor": "#EBF0F8",
           "linecolor": "#EBF0F8",
           "ticks": "",
           "title": {
            "standoff": 15
           },
           "zerolinecolor": "#EBF0F8",
           "zerolinewidth": 2
          }
         }
        },
        "title": {
         "text": "Correlation Between Pollutants"
        },
        "xaxis": {
         "anchor": "y",
         "autorange": true,
         "constrain": "domain",
         "domain": [
          0.4017467248908297,
          0.5982532751091703
         ],
         "range": [
          -0.5,
          7.5
         ],
         "scaleanchor": "y",
         "type": "category"
        },
        "yaxis": {
         "anchor": "x",
         "autorange": true,
         "constrain": "domain",
         "domain": [
          0,
          1
         ],
         "range": [
          7.5,
          -0.5
         ],
         "type": "category"
        }
       }
      },
      "image/png": "[encoded data removed]",
      "text/html": [
       "<div>                            <div id=\"869ed14c-554f-4e58-94c5-6815af53addf\" class=\"plotly-graph-div\" style=\"height:525px; width:100%;\"></div>            <script type=\"text/javascript\">                require([\"plotly\"], function(Plotly) {                    window.PLOTLYENV=window.PLOTLYENV || {};                                    if (document.getElementById(\"869ed14c-554f-4e58-94c5-6815af53addf\")) {                    Plotly.newPlot(                        \"869ed14c-554f-4e58-94c5-6815af53addf\",                        [{\"coloraxis\":\"coloraxis\",\"name\":\"0\",\"x\":[\"co\",\"no\",\"no2\",\"o3\",\"so2\",\"pm2_5\",\"pm10\",\"nh3\"],\"y\":[\"co\",\"no\",\"no2\",\"o3\",\"so2\",\"pm2_5\",\"pm10\",\"nh3\"],\"z\":[[1.0,0.9697401487964834,0.7764024239177607,-0.46308209648102294,0.7168310223069085,0.9530831234785508,0.9668005448099961,0.8262991868229215],[0.9697401487964834,1.0,0.7022013092965564,-0.3778131953053945,0.7345030685524397,0.8888095304047393,0.9033387229851302,0.8236380353360471],[0.7764024239177607,0.7022013092965564,1.0,-0.4071770485588064,0.734961358558339,0.6986956657744213,0.7200497727014439,0.7002541910957111],[-0.46308209648102294,-0.3778131953053945,-0.4071770485588064,1.0,-0.04915781771667561,-0.45045750977766263,-0.4684772945596823,-0.29966339848008566],[0.7168310223069085,0.7345030685524397,0.734961358558339,-0.04915781771667561,1.0,0.6489957009955721,0.6583250004181388,0.8436353609630068],[0.9530831234785508,0.8888095304047393,0.6986956657744213,-0.45045750977766263,0.6489957009955721,1.0,0.9940882831710577,0.7203030642767517],[0.9668005448099961,0.9033387229851302,0.7200497727014439,-0.4684772945596823,0.6583250004181388,0.9940882831710577,1.0,0.7544684621475819],[0.8262991868229215,0.8236380353360471,0.7002541910957111,-0.29966339848008566,0.8436353609630068,0.7203030642767517,0.7544684621475819,1.0]],\"type\":\"heatmap\",\"xaxis\":\"x\",\"yaxis\":\"y\",\"hovertemplate\":\"x: %{x}\\u003cbr\\u003ey: %{y}\\u003cbr\\u003ecolor: %{z}\\u003cextra\\u003e\\u003c\\u002fextra\\u003e\"}],                        {\"template\":{\"data\":{\"histogram2dcontour\":[{\"type\":\"histogram2dcontour\",\"colorbar\":{\"outlinewidth\":0,\"ticks\":\"\"},\"colorscale\":[[0.0,\"#0d0887\"],[0.1111111111111111,\"#46039f\"],[0.2222222222222222,\"#7201a8\"],[0.3333333333333333,\"#9c179e\"],[0.4444444444444444,\"#bd3786\"],[0.5555555555555556,\"#d8576b\"],[0.6666666666666666,\"#ed7953\"],[0.7777777777777778,\"#fb9f3a\"],[0.8888888888888888,\"#fdca26\"],[1.0,\"#f0f921\"]]}],\"choropleth\":[{\"type\":\"choropleth\",\"colorbar\":{\"outlinewidth\":0,\"ticks\":\"\"}}],\"histogram2d\":[{\"type\":\"histogram2d\",\"colorbar\":{\"outlinewidth\":0,\"ticks\":\"\"},\"colorscale\":[[0.0,\"#0d0887\"],[0.1111111111111111,\"#46039f\"],[0.2222222222222222,\"#7201a8\"],[0.3333333333333333,\"#9c179e\"],[0.4444444444444444,\"#bd3786\"],[0.5555555555555556,\"#d8576b\"],[0.6666666666666666,\"#ed7953\"],[0.7777777777777778,\"#fb9f3a\"],[0.8888888888888888,\"#fdca26\"],[1.0,\"#f0f921\"]]}],\"heatmap\":[{\"type\":\"heatmap\",\"colorbar\":{\"outlinewidth\":0,\"ticks\":\"\"},\"colorscale\":[[0.0,\"#0d0887\"],[0.1111111111111111,\"#46039f\"],[0.2222222222222222,\"#7201a8\"],[0.3333333333333333,\"#9c179e\"],[0.4444444444444444,\"#bd3786\"],[0.5555555555555556,\"#d8576b\"],[0.6666666666666666,\"#ed7953\"],[0.7777777777777778,\"#fb9f3a\"],[0.8888888888888888,\"#fdca26\"],[1.0,\"#f0f921\"]]}],\"heatmapgl\":[{\"type\":\"heatmapgl\",\"colorbar\":{\"outlinewidth\":0,\"ticks\":\"\"},\"colorscale\":[[0.0,\"#0d0887\"],[0.1111111111111111,\"#46039f\"],[0.2222222222222222,\"#7201a8\"],[0.3333333333333333,\"#9c179e\"],[0.4444444444444444,\"#bd3786\"],[0.5555555555555556,\"#d8576b\"],[0.6666666666666666,\"#ed7953\"],[0.7777777777777778,\"#fb9f3a\"],[0.8888888888888888,\"#fdca26\"],[1.0,\"#f0f921\"]]}],\"contourcarpet\":[{\"type\":\"contourcarpet\",\"colorbar\":{\"outlinewidth\":0,\"ticks\":\"\"}}],\"contour\":[{\"type\":\"contour\",\"colorbar\":{\"outlinewidth\":0,\"ticks\":\"\"},\"colorscale\":[[0.0,\"#0d0887\"],[0.1111111111111111,\"#46039f\"],[0.2222222222222222,\"#7201a8\"],[0.3333333333333333,\"#9c179e\"],[0.4444444444444444,\"#bd3786\"],[0.5555555555555556,\"#d8576b\"],[0.6666666666666666,\"#ed7953\"],[0.7777777777777778,\"#fb9f3a\"],[0.8888888888888888,\"#fdca26\"],[1.0,\"#f0f921\"]]}],\"surface\":[{\"type\":\"surface\",\"colorbar\":{\"outlinewidth\":0,\"ticks\":\"\"},\"colorscale\":[[0.0,\"#0d0887\"],[0.1111111111111111,\"#46039f\"],[0.2222222222222222,\"#7201a8\"],[0.3333333333333333,\"#9c179e\"],[0.4444444444444444,\"#bd3786\"],[0.5555555555555556,\"#d8576b\"],[0.6666666666666666,\"#ed7953\"],[0.7777777777777778,\"#fb9f3a\"],[0.8888888888888888,\"#fdca26\"],[1.0,\"#f0f921\"]]}],\"mesh3d\":[{\"type\":\"mesh3d\",\"colorbar\":{\"outlinewidth\":0,\"ticks\":\"\"}}],\"scatter\":[{\"fillpattern\":{\"fillmode\":\"overlay\",\"size\":10,\"solidity\":0.2},\"type\":\"scatter\"}],\"parcoords\":[{\"type\":\"parcoords\",\"line\":{\"colorbar\":{\"outlinewidth\":0,\"ticks\":\"\"}}}],\"scatterpolargl\":[{\"type\":\"scatterpolargl\",\"marker\":{\"colorbar\":{\"outlinewidth\":0,\"ticks\":\"\"}}}],\"bar\":[{\"error_x\":{\"color\":\"#2a3f5f\"},\"error_y\":{\"color\":\"#2a3f5f\"},\"marker\":{\"line\":{\"color\":\"white\",\"width\":0.5},\"pattern\":{\"fillmode\":\"overlay\",\"size\":10,\"solidity\":0.2}},\"type\":\"bar\"}],\"scattergeo\":[{\"type\":\"scattergeo\",\"marker\":{\"colorbar\":{\"outlinewidth\":0,\"ticks\":\"\"}}}],\"scatterpolar\":[{\"type\":\"scatterpolar\",\"marker\":{\"colorbar\":{\"outlinewidth\":0,\"ticks\":\"\"}}}],\"histogram\":[{\"marker\":{\"pattern\":{\"fillmode\":\"overlay\",\"size\":10,\"solidity\":0.2}},\"type\":\"histogram\"}],\"scattergl\":[{\"type\":\"scattergl\",\"marker\":{\"colorbar\":{\"outlinewidth\":0,\"ticks\":\"\"}}}],\"scatter3d\":[{\"type\":\"scatter3d\",\"line\":{\"colorbar\":{\"outlinewidth\":0,\"ticks\":\"\"}},\"marker\":{\"colorbar\":{\"outlinewidth\":0,\"ticks\":\"\"}}}],\"scattermapbox\":[{\"type\":\"scattermapbox\",\"marker\":{\"colorbar\":{\"outlinewidth\":0,\"ticks\":\"\"}}}],\"scatterternary\":[{\"type\":\"scatterternary\",\"marker\":{\"colorbar\":{\"outlinewidth\":0,\"ticks\":\"\"}}}],\"scattercarpet\":[{\"type\":\"scattercarpet\",\"marker\":{\"colorbar\":{\"outlinewidth\":0,\"ticks\":\"\"}}}],\"carpet\":[{\"aaxis\":{\"endlinecolor\":\"#2a3f5f\",\"gridcolor\":\"#C8D4E3\",\"linecolor\":\"#C8D4E3\",\"minorgridcolor\":\"#C8D4E3\",\"startlinecolor\":\"#2a3f5f\"},\"baxis\":{\"endlinecolor\":\"#2a3f5f\",\"gridcolor\":\"#C8D4E3\",\"linecolor\":\"#C8D4E3\",\"minorgridcolor\":\"#C8D4E3\",\"startlinecolor\":\"#2a3f5f\"},\"type\":\"carpet\"}],\"table\":[{\"cells\":{\"fill\":{\"color\":\"#EBF0F8\"},\"line\":{\"color\":\"white\"}},\"header\":{\"fill\":{\"color\":\"#C8D4E3\"},\"line\":{\"color\":\"white\"}},\"type\":\"table\"}],\"barpolar\":[{\"marker\":{\"line\":{\"color\":\"white\",\"width\":0.5},\"pattern\":{\"fillmode\":\"overlay\",\"size\":10,\"solidity\":0.2}},\"type\":\"barpolar\"}],\"pie\":[{\"automargin\":true,\"type\":\"pie\"}]},\"layout\":{\"autotypenumbers\":\"strict\",\"colorway\":[\"#636efa\",\"#EF553B\",\"#00cc96\",\"#ab63fa\",\"#FFA15A\",\"#19d3f3\",\"#FF6692\",\"#B6E880\",\"#FF97FF\",\"#FECB52\"],\"font\":{\"color\":\"#2a3f5f\"},\"hovermode\":\"closest\",\"hoverlabel\":{\"align\":\"left\"},\"paper_bgcolor\":\"white\",\"plot_bgcolor\":\"white\",\"polar\":{\"bgcolor\":\"white\",\"angularaxis\":{\"gridcolor\":\"#EBF0F8\",\"linecolor\":\"#EBF0F8\",\"ticks\":\"\"},\"radialaxis\":{\"gridcolor\":\"#EBF0F8\",\"linecolor\":\"#EBF0F8\",\"ticks\":\"\"}},\"ternary\":{\"bgcolor\":\"white\",\"aaxis\":{\"gridcolor\":\"#DFE8F3\",\"linecolor\":\"#A2B1C6\",\"ticks\":\"\"},\"baxis\":{\"gridcolor\":\"#DFE8F3\",\"linecolor\":\"#A2B1C6\",\"ticks\":\"\"},\"caxis\":{\"gridcolor\":\"#DFE8F3\",\"linecolor\":\"#A2B1C6\",\"ticks\":\"\"}},\"coloraxis\":{\"colorbar\":{\"outlinewidth\":0,\"ticks\":\"\"}},\"colorscale\":{\"sequential\":[[0.0,\"#0d0887\"],[0.1111111111111111,\"#46039f\"],[0.2222222222222222,\"#7201a8\"],[0.3333333333333333,\"#9c179e\"],[0.4444444444444444,\"#bd3786\"],[0.5555555555555556,\"#d8576b\"],[0.6666666666666666,\"#ed7953\"],[0.7777777777777778,\"#fb9f3a\"],[0.8888888888888888,\"#fdca26\"],[1.0,\"#f0f921\"]],\"sequentialminus\":[[0.0,\"#0d0887\"],[0.1111111111111111,\"#46039f\"],[0.2222222222222222,\"#7201a8\"],[0.3333333333333333,\"#9c179e\"],[0.4444444444444444,\"#bd3786\"],[0.5555555555555556,\"#d8576b\"],[0.6666666666666666,\"#ed7953\"],[0.7777777777777778,\"#fb9f3a\"],[0.8888888888888888,\"#fdca26\"],[1.0,\"#f0f921\"]],\"diverging\":[[0,\"#8e0152\"],[0.1,\"#c51b7d\"],[0.2,\"#de77ae\"],[0.3,\"#f1b6da\"],[0.4,\"#fde0ef\"],[0.5,\"#f7f7f7\"],[0.6,\"#e6f5d0\"],[0.7,\"#b8e186\"],[0.8,\"#7fbc41\"],[0.9,\"#4d9221\"],[1,\"#276419\"]]},\"xaxis\":{\"gridcolor\":\"#EBF0F8\",\"linecolor\":\"#EBF0F8\",\"ticks\":\"\",\"title\":{\"standoff\":15},\"zerolinecolor\":\"#EBF0F8\",\"automargin\":true,\"zerolinewidth\":2},\"yaxis\":{\"gridcolor\":\"#EBF0F8\",\"linecolor\":\"#EBF0F8\",\"ticks\":\"\",\"title\":{\"standoff\":15},\"zerolinecolor\":\"#EBF0F8\",\"automargin\":true,\"zerolinewidth\":2},\"scene\":{\"xaxis\":{\"backgroundcolor\":\"white\",\"gridcolor\":\"#DFE8F3\",\"linecolor\":\"#EBF0F8\",\"showbackground\":true,\"ticks\":\"\",\"zerolinecolor\":\"#EBF0F8\",\"gridwidth\":2},\"yaxis\":{\"backgroundcolor\":\"white\",\"gridcolor\":\"#DFE8F3\",\"linecolor\":\"#EBF0F8\",\"showbackground\":true,\"ticks\":\"\",\"zerolinecolor\":\"#EBF0F8\",\"gridwidth\":2},\"zaxis\":{\"backgroundcolor\":\"white\",\"gridcolor\":\"#DFE8F3\",\"linecolor\":\"#EBF0F8\",\"showbackground\":true,\"ticks\":\"\",\"zerolinecolor\":\"#EBF0F8\",\"gridwidth\":2}},\"shapedefaults\":{\"line\":{\"color\":\"#2a3f5f\"}},\"annotationdefaults\":{\"arrowcolor\":\"#2a3f5f\",\"arrowhead\":0,\"arrowwidth\":1},\"geo\":{\"bgcolor\":\"white\",\"landcolor\":\"white\",\"subunitcolor\":\"#C8D4E3\",\"showland\":true,\"showlakes\":true,\"lakecolor\":\"white\"},\"title\":{\"x\":0.05},\"mapbox\":{\"style\":\"light\"}}},\"xaxis\":{\"anchor\":\"y\",\"domain\":[0.0,1.0],\"scaleanchor\":\"y\",\"constrain\":\"domain\"},\"yaxis\":{\"anchor\":\"x\",\"domain\":[0.0,1.0],\"autorange\":\"reversed\",\"constrain\":\"domain\"},\"coloraxis\":{\"colorscale\":[[0.0,\"#0d0887\"],[0.1111111111111111,\"#46039f\"],[0.2222222222222222,\"#7201a8\"],[0.3333333333333333,\"#9c179e\"],[0.4444444444444444,\"#bd3786\"],[0.5555555555555556,\"#d8576b\"],[0.6666666666666666,\"#ed7953\"],[0.7777777777777778,\"#fb9f3a\"],[0.8888888888888888,\"#fdca26\"],[1.0,\"#f0f921\"]]},\"title\":{\"text\":\"Correlation Between Pollutants\"}},                        {\"responsive\": true}                    ).then(function(){\n",
       "                            \n",
       "var gd = document.getElementById('869ed14c-554f-4e58-94c5-6815af53addf');\n",
       "var x = new MutationObserver(function (mutations, observer) {{\n",
       "        var display = window.getComputedStyle(gd).display;\n",
       "        if (!display || display === 'none') {{\n",
       "            console.log([gd, 'removed!']);\n",
       "            Plotly.purge(gd);\n",
       "            observer.disconnect();\n",
       "        }}\n",
       "}});\n",
       "\n",
       "// Listen for the removal of the full notebook cells\n",
       "var notebookContainer = gd.closest('#notebook-container');\n",
       "if (notebookContainer) {{\n",
       "    x.observe(notebookContainer, {childList: true});\n",
       "}}\n",
       "\n",
       "// Listen for the clearing of the current output cell\n",
       "var outputEl = gd.closest('.output');\n",
       "if (outputEl) {{\n",
       "    x.observe(outputEl, {childList: true});\n",
       "}}\n",
       "\n",
       "                        })                };                });            </script>        </div>"
      ]
     },
     "metadata": {},
     "output_type": "display_data"
    }
   ],
   "source": [
    "# Correlation Between Pollutants\n",
    "correlation_matrix = df[pollutants].corr()\n",
    "fig = px.imshow(correlation_matrix, x=pollutants, \n",
    "                 y=pollutants, title=\"Correlation Between Pollutants\")\n",
    "fig.show()"
   ]
  },
  {
   "cell_type": "code",
   "execution_count": 38,
   "id": "1d580aee-e01d-4b60-9235-6b98c623e09a",
   "metadata": {},
   "outputs": [],
   "source": [
    "# Define AQI breakpoints and corresponding AQI values\n",
    "aqi_breakpoints = [\n",
    "    (0, 12.0, 50), (12.1, 35.4, 100), (35.5, 55.4, 150),\n",
    "    (55.5, 150.4, 200), (150.5, 250.4, 300), (250.5, 350.4, 400),\n",
    "    (350.5, 500.4, 500)\n",
    "]\n",
    "\n",
    "def calculate_aqi(pollutant_name, concentration):\n",
    "    for low, high, aqi in aqi_breakpoints:\n",
    "        if low <= concentration <= high:\n",
    "            return aqi\n",
    "    return None\n",
    "\n",
    "def calculate_overall_aqi(row):\n",
    "    aqi_values = []\n",
    "    pollutants = ['co', 'no', 'no2', 'o3', 'so2', 'pm2_5', 'pm10', 'nh3']\n",
    "    for pollutant in pollutants:\n",
    "        aqi = calculate_aqi(pollutant, row[pollutant])\n",
    "        if aqi is not None:\n",
    "            aqi_values.append(aqi)\n",
    "    return max(aqi_values)\n",
    "\n",
    "# Calculate AQI for each row\n",
    "df['AQI'] = df.apply(calculate_overall_aqi, axis=1)\n",
    "\n",
    "# Define AQI categories\n",
    "aqi_categories = [\n",
    "    (0, 50, 'Good'), (51, 100, 'Moderate'), (101, 150, 'Unhealthy for Sensitive Groups'),\n",
    "    (151, 200, 'Unhealthy'), (201, 300, 'Very Unhealthy'), (301, 500, 'Hazardous')\n",
    "]\n",
    "\n",
    "def categorize_aqi(aqi_value):\n",
    "    for low, high, category in aqi_categories:\n",
    "        if low <= aqi_value <= high:\n",
    "            return category\n",
    "    return None"
   ]
  },
  {
   "cell_type": "code",
   "execution_count": 39,
   "id": "1e4cfe0c-63e1-4967-bc63-da9bc282b451",
   "metadata": {},
   "outputs": [
    {
     "data": {
      "application/vnd.plotly.v1+json": {
       "config": {
        "plotlyServerURL": "https://plot.ly"
       },
       "data": [
        {
         "hovertemplate": "Hour=%{x}<br>AQI=%{y}<extra></extra>",
         "legendgroup": "",
         "line": {
          "color": "#636efa",
          "dash": "solid"
         },
         "marker": {
          "symbol": "circle"
         },
         "mode": "lines",
         "name": "",
         "orientation": "v",
         "showlegend": false,
         "type": "scatter",
         "x": [
          0,
          1,
          2,
          3,
          4,
          5,
          6,
          7,
          8,
          9,
          10,
          11,
          12,
          13,
          14,
          15,
          16,
          17,
          18,
          19,
          20,
          21,
          22,
          23
         ],
         "xaxis": "x",
         "y": [
          362.5,
          370.8333333333333,
          400,
          408.3333333333333,
          412.5,
          408.3333333333333,
          408.3333333333333,
          350,
          329.1666666666667,
          317.39130434782606,
          369.5652173913044,
          378.2608695652174,
          391.30434782608694,
          404.3478260869565,
          404.3478260869565,
          386.95652173913044,
          378.2608695652174,
          369.5652173913044,
          356.5217391304348,
          378.2608695652174,
          395.6521739130435,
          382.60869565217394,
          369.5652173913044,
          365.2173913043478
         ],
         "yaxis": "y"
        }
       ],
       "layout": {
        "autosize": true,
        "legend": {
         "tracegroupgap": 0
        },
        "template": {
         "data": {
          "bar": [
           {
            "error_x": {
             "color": "#2a3f5f"
            },
            "error_y": {
             "color": "#2a3f5f"
            },
            "marker": {
             "line": {
              "color": "white",
              "width": 0.5
             },
             "pattern": {
              "fillmode": "overlay",
              "size": 10,
              "solidity": 0.2
             }
            },
            "type": "bar"
           }
          ],
          "barpolar": [
           {
            "marker": {
             "line": {
              "color": "white",
              "width": 0.5
             },
             "pattern": {
              "fillmode": "overlay",
              "size": 10,
              "solidity": 0.2
             }
            },
            "type": "barpolar"
           }
          ],
          "carpet": [
           {
            "aaxis": {
             "endlinecolor": "#2a3f5f",
             "gridcolor": "#C8D4E3",
             "linecolor": "#C8D4E3",
             "minorgridcolor": "#C8D4E3",
             "startlinecolor": "#2a3f5f"
            },
            "baxis": {
             "endlinecolor": "#2a3f5f",
             "gridcolor": "#C8D4E3",
             "linecolor": "#C8D4E3",
             "minorgridcolor": "#C8D4E3",
             "startlinecolor": "#2a3f5f"
            },
            "type": "carpet"
           }
          ],
          "choropleth": [
           {
            "colorbar": {
             "outlinewidth": 0,
             "ticks": ""
            },
            "type": "choropleth"
           }
          ],
          "contour": [
           {
            "colorbar": {
             "outlinewidth": 0,
             "ticks": ""
            },
            "colorscale": [
             [
              0,
              "#0d0887"
             ],
             [
              0.1111111111111111,
              "#46039f"
             ],
             [
              0.2222222222222222,
              "#7201a8"
             ],
             [
              0.3333333333333333,
              "#9c179e"
             ],
             [
              0.4444444444444444,
              "#bd3786"
             ],
             [
              0.5555555555555556,
              "#d8576b"
             ],
             [
              0.6666666666666666,
              "#ed7953"
             ],
             [
              0.7777777777777778,
              "#fb9f3a"
             ],
             [
              0.8888888888888888,
              "#fdca26"
             ],
             [
              1,
              "#f0f921"
             ]
            ],
            "type": "contour"
           }
          ],
          "contourcarpet": [
           {
            "colorbar": {
             "outlinewidth": 0,
             "ticks": ""
            },
            "type": "contourcarpet"
           }
          ],
          "heatmap": [
           {
            "colorbar": {
             "outlinewidth": 0,
             "ticks": ""
            },
            "colorscale": [
             [
              0,
              "#0d0887"
             ],
             [
              0.1111111111111111,
              "#46039f"
             ],
             [
              0.2222222222222222,
              "#7201a8"
             ],
             [
              0.3333333333333333,
              "#9c179e"
             ],
             [
              0.4444444444444444,
              "#bd3786"
             ],
             [
              0.5555555555555556,
              "#d8576b"
             ],
             [
              0.6666666666666666,
              "#ed7953"
             ],
             [
              0.7777777777777778,
              "#fb9f3a"
             ],
             [
              0.8888888888888888,
              "#fdca26"
             ],
             [
              1,
              "#f0f921"
             ]
            ],
            "type": "heatmap"
           }
          ],
          "heatmapgl": [
           {
            "colorbar": {
             "outlinewidth": 0,
             "ticks": ""
            },
            "colorscale": [
             [
              0,
              "#0d0887"
             ],
             [
              0.1111111111111111,
              "#46039f"
             ],
             [
              0.2222222222222222,
              "#7201a8"
             ],
             [
              0.3333333333333333,
              "#9c179e"
             ],
             [
              0.4444444444444444,
              "#bd3786"
             ],
             [
              0.5555555555555556,
              "#d8576b"
             ],
             [
              0.6666666666666666,
              "#ed7953"
             ],
             [
              0.7777777777777778,
              "#fb9f3a"
             ],
             [
              0.8888888888888888,
              "#fdca26"
             ],
             [
              1,
              "#f0f921"
             ]
            ],
            "type": "heatmapgl"
           }
          ],
          "histogram": [
           {
            "marker": {
             "pattern": {
              "fillmode": "overlay",
              "size": 10,
              "solidity": 0.2
             }
            },
            "type": "histogram"
           }
          ],
          "histogram2d": [
           {
            "colorbar": {
             "outlinewidth": 0,
             "ticks": ""
            },
            "colorscale": [
             [
              0,
              "#0d0887"
             ],
             [
              0.1111111111111111,
              "#46039f"
             ],
             [
              0.2222222222222222,
              "#7201a8"
             ],
             [
              0.3333333333333333,
              "#9c179e"
             ],
             [
              0.4444444444444444,
              "#bd3786"
             ],
             [
              0.5555555555555556,
              "#d8576b"
             ],
             [
              0.6666666666666666,
              "#ed7953"
             ],
             [
              0.7777777777777778,
              "#fb9f3a"
             ],
             [
              0.8888888888888888,
              "#fdca26"
             ],
             [
              1,
              "#f0f921"
             ]
            ],
            "type": "histogram2d"
           }
          ],
          "histogram2dcontour": [
           {
            "colorbar": {
             "outlinewidth": 0,
             "ticks": ""
            },
            "colorscale": [
             [
              0,
              "#0d0887"
             ],
             [
              0.1111111111111111,
              "#46039f"
             ],
             [
              0.2222222222222222,
              "#7201a8"
             ],
             [
              0.3333333333333333,
              "#9c179e"
             ],
             [
              0.4444444444444444,
              "#bd3786"
             ],
             [
              0.5555555555555556,
              "#d8576b"
             ],
             [
              0.6666666666666666,
              "#ed7953"
             ],
             [
              0.7777777777777778,
              "#fb9f3a"
             ],
             [
              0.8888888888888888,
              "#fdca26"
             ],
             [
              1,
              "#f0f921"
             ]
            ],
            "type": "histogram2dcontour"
           }
          ],
          "mesh3d": [
           {
            "colorbar": {
             "outlinewidth": 0,
             "ticks": ""
            },
            "type": "mesh3d"
           }
          ],
          "parcoords": [
           {
            "line": {
             "colorbar": {
              "outlinewidth": 0,
              "ticks": ""
             }
            },
            "type": "parcoords"
           }
          ],
          "pie": [
           {
            "automargin": true,
            "type": "pie"
           }
          ],
          "scatter": [
           {
            "fillpattern": {
             "fillmode": "overlay",
             "size": 10,
             "solidity": 0.2
            },
            "type": "scatter"
           }
          ],
          "scatter3d": [
           {
            "line": {
             "colorbar": {
              "outlinewidth": 0,
              "ticks": ""
             }
            },
            "marker": {
             "colorbar": {
              "outlinewidth": 0,
              "ticks": ""
             }
            },
            "type": "scatter3d"
           }
          ],
          "scattercarpet": [
           {
            "marker": {
             "colorbar": {
              "outlinewidth": 0,
              "ticks": ""
             }
            },
            "type": "scattercarpet"
           }
          ],
          "scattergeo": [
           {
            "marker": {
             "colorbar": {
              "outlinewidth": 0,
              "ticks": ""
             }
            },
            "type": "scattergeo"
           }
          ],
          "scattergl": [
           {
            "marker": {
             "colorbar": {
              "outlinewidth": 0,
              "ticks": ""
             }
            },
            "type": "scattergl"
           }
          ],
          "scattermapbox": [
           {
            "marker": {
             "colorbar": {
              "outlinewidth": 0,
              "ticks": ""
             }
            },
            "type": "scattermapbox"
           }
          ],
          "scatterpolar": [
           {
            "marker": {
             "colorbar": {
              "outlinewidth": 0,
              "ticks": ""
             }
            },
            "type": "scatterpolar"
           }
          ],
          "scatterpolargl": [
           {
            "marker": {
             "colorbar": {
              "outlinewidth": 0,
              "ticks": ""
             }
            },
            "type": "scatterpolargl"
           }
          ],
          "scatterternary": [
           {
            "marker": {
             "colorbar": {
              "outlinewidth": 0,
              "ticks": ""
             }
            },
            "type": "scatterternary"
           }
          ],
          "surface": [
           {
            "colorbar": {
             "outlinewidth": 0,
             "ticks": ""
            },
            "colorscale": [
             [
              0,
              "#0d0887"
             ],
             [
              0.1111111111111111,
              "#46039f"
             ],
             [
              0.2222222222222222,
              "#7201a8"
             ],
             [
              0.3333333333333333,
              "#9c179e"
             ],
             [
              0.4444444444444444,
              "#bd3786"
             ],
             [
              0.5555555555555556,
              "#d8576b"
             ],
             [
              0.6666666666666666,
              "#ed7953"
             ],
             [
              0.7777777777777778,
              "#fb9f3a"
             ],
             [
              0.8888888888888888,
              "#fdca26"
             ],
             [
              1,
              "#f0f921"
             ]
            ],
            "type": "surface"
           }
          ],
          "table": [
           {
            "cells": {
             "fill": {
              "color": "#EBF0F8"
             },
             "line": {
              "color": "white"
             }
            },
            "header": {
             "fill": {
              "color": "#C8D4E3"
             },
             "line": {
              "color": "white"
             }
            },
            "type": "table"
           }
          ]
         },
         "layout": {
          "annotationdefaults": {
           "arrowcolor": "#2a3f5f",
           "arrowhead": 0,
           "arrowwidth": 1
          },
          "autotypenumbers": "strict",
          "coloraxis": {
           "colorbar": {
            "outlinewidth": 0,
            "ticks": ""
           }
          },
          "colorscale": {
           "diverging": [
            [
             0,
             "#8e0152"
            ],
            [
             0.1,
             "#c51b7d"
            ],
            [
             0.2,
             "#de77ae"
            ],
            [
             0.3,
             "#f1b6da"
            ],
            [
             0.4,
             "#fde0ef"
            ],
            [
             0.5,
             "#f7f7f7"
            ],
            [
             0.6,
             "#e6f5d0"
            ],
            [
             0.7,
             "#b8e186"
            ],
            [
             0.8,
             "#7fbc41"
            ],
            [
             0.9,
             "#4d9221"
            ],
            [
             1,
             "#276419"
            ]
           ],
           "sequential": [
            [
             0,
             "#0d0887"
            ],
            [
             0.1111111111111111,
             "#46039f"
            ],
            [
             0.2222222222222222,
             "#7201a8"
            ],
            [
             0.3333333333333333,
             "#9c179e"
            ],
            [
             0.4444444444444444,
             "#bd3786"
            ],
            [
             0.5555555555555556,
             "#d8576b"
            ],
            [
             0.6666666666666666,
             "#ed7953"
            ],
            [
             0.7777777777777778,
             "#fb9f3a"
            ],
            [
             0.8888888888888888,
             "#fdca26"
            ],
            [
             1,
             "#f0f921"
            ]
           ],
           "sequentialminus": [
            [
             0,
             "#0d0887"
            ],
            [
             0.1111111111111111,
             "#46039f"
            ],
            [
             0.2222222222222222,
             "#7201a8"
            ],
            [
             0.3333333333333333,
             "#9c179e"
            ],
            [
             0.4444444444444444,
             "#bd3786"
            ],
            [
             0.5555555555555556,
             "#d8576b"
            ],
            [
             0.6666666666666666,
             "#ed7953"
            ],
            [
             0.7777777777777778,
             "#fb9f3a"
            ],
            [
             0.8888888888888888,
             "#fdca26"
            ],
            [
             1,
             "#f0f921"
            ]
           ]
          },
          "colorway": [
           "#636efa",
           "#EF553B",
           "#00cc96",
           "#ab63fa",
           "#FFA15A",
           "#19d3f3",
           "#FF6692",
           "#B6E880",
           "#FF97FF",
           "#FECB52"
          ],
          "font": {
           "color": "#2a3f5f"
          },
          "geo": {
           "bgcolor": "white",
           "lakecolor": "white",
           "landcolor": "white",
           "showlakes": true,
           "showland": true,
           "subunitcolor": "#C8D4E3"
          },
          "hoverlabel": {
           "align": "left"
          },
          "hovermode": "closest",
          "mapbox": {
           "style": "light"
          },
          "paper_bgcolor": "white",
          "plot_bgcolor": "white",
          "polar": {
           "angularaxis": {
            "gridcolor": "#EBF0F8",
            "linecolor": "#EBF0F8",
            "ticks": ""
           },
           "bgcolor": "white",
           "radialaxis": {
            "gridcolor": "#EBF0F8",
            "linecolor": "#EBF0F8",
            "ticks": ""
           }
          },
          "scene": {
           "xaxis": {
            "backgroundcolor": "white",
            "gridcolor": "#DFE8F3",
            "gridwidth": 2,
            "linecolor": "#EBF0F8",
            "showbackground": true,
            "ticks": "",
            "zerolinecolor": "#EBF0F8"
           },
           "yaxis": {
            "backgroundcolor": "white",
            "gridcolor": "#DFE8F3",
            "gridwidth": 2,
            "linecolor": "#EBF0F8",
            "showbackground": true,
            "ticks": "",
            "zerolinecolor": "#EBF0F8"
           },
           "zaxis": {
            "backgroundcolor": "white",
            "gridcolor": "#DFE8F3",
            "gridwidth": 2,
            "linecolor": "#EBF0F8",
            "showbackground": true,
            "ticks": "",
            "zerolinecolor": "#EBF0F8"
           }
          },
          "shapedefaults": {
           "line": {
            "color": "#2a3f5f"
           }
          },
          "ternary": {
           "aaxis": {
            "gridcolor": "#DFE8F3",
            "linecolor": "#A2B1C6",
            "ticks": ""
           },
           "baxis": {
            "gridcolor": "#DFE8F3",
            "linecolor": "#A2B1C6",
            "ticks": ""
           },
           "bgcolor": "white",
           "caxis": {
            "gridcolor": "#DFE8F3",
            "linecolor": "#A2B1C6",
            "ticks": ""
           }
          },
          "title": {
           "x": 0.05
          },
          "xaxis": {
           "automargin": true,
           "gridcolor": "#EBF0F8",
           "linecolor": "#EBF0F8",
           "ticks": "",
           "title": {
            "standoff": 15
           },
           "zerolinecolor": "#EBF0F8",
           "zerolinewidth": 2
          },
          "yaxis": {
           "automargin": true,
           "gridcolor": "#EBF0F8",
           "linecolor": "#EBF0F8",
           "ticks": "",
           "title": {
            "standoff": 15
           },
           "zerolinecolor": "#EBF0F8",
           "zerolinewidth": 2
          }
         }
        },
        "title": {
         "text": "Hourly Average AQI Trends in Delhi (Jan 2023)"
        },
        "xaxis": {
         "anchor": "y",
         "autorange": true,
         "domain": [
          0,
          1
         ],
         "range": [
          0,
          23
         ],
         "title": {
          "text": "Hour of the Day"
         },
         "type": "linear"
        },
        "yaxis": {
         "anchor": "x",
         "autorange": true,
         "domain": [
          0,
          1
         ],
         "range": [
          312.1074879227053,
          417.7838164251208
         ],
         "title": {
          "text": "Average AQI"
         },
         "type": "linear"
        }
       }
      },
      "image/png": "[encoded data removed]",
      "text/html": [
       "<div>                            <div id=\"a4536328-785a-4d37-8e7c-8c5d7626ce5b\" class=\"plotly-graph-div\" style=\"height:525px; width:100%;\"></div>            <script type=\"text/javascript\">                require([\"plotly\"], function(Plotly) {                    window.PLOTLYENV=window.PLOTLYENV || {};                                    if (document.getElementById(\"a4536328-785a-4d37-8e7c-8c5d7626ce5b\")) {                    Plotly.newPlot(                        \"a4536328-785a-4d37-8e7c-8c5d7626ce5b\",                        [{\"hovertemplate\":\"Hour=%{x}\\u003cbr\\u003eAQI=%{y}\\u003cextra\\u003e\\u003c\\u002fextra\\u003e\",\"legendgroup\":\"\",\"line\":{\"color\":\"#636efa\",\"dash\":\"solid\"},\"marker\":{\"symbol\":\"circle\"},\"mode\":\"lines\",\"name\":\"\",\"orientation\":\"v\",\"showlegend\":false,\"x\":[0,1,2,3,4,5,6,7,8,9,10,11,12,13,14,15,16,17,18,19,20,21,22,23],\"xaxis\":\"x\",\"y\":[362.5,370.8333333333333,400.0,408.3333333333333,412.5,408.3333333333333,408.3333333333333,350.0,329.1666666666667,317.39130434782606,369.5652173913044,378.2608695652174,391.30434782608694,404.3478260869565,404.3478260869565,386.95652173913044,378.2608695652174,369.5652173913044,356.5217391304348,378.2608695652174,395.6521739130435,382.60869565217394,369.5652173913044,365.2173913043478],\"yaxis\":\"y\",\"type\":\"scatter\"}],                        {\"template\":{\"data\":{\"histogram2dcontour\":[{\"type\":\"histogram2dcontour\",\"colorbar\":{\"outlinewidth\":0,\"ticks\":\"\"},\"colorscale\":[[0.0,\"#0d0887\"],[0.1111111111111111,\"#46039f\"],[0.2222222222222222,\"#7201a8\"],[0.3333333333333333,\"#9c179e\"],[0.4444444444444444,\"#bd3786\"],[0.5555555555555556,\"#d8576b\"],[0.6666666666666666,\"#ed7953\"],[0.7777777777777778,\"#fb9f3a\"],[0.8888888888888888,\"#fdca26\"],[1.0,\"#f0f921\"]]}],\"choropleth\":[{\"type\":\"choropleth\",\"colorbar\":{\"outlinewidth\":0,\"ticks\":\"\"}}],\"histogram2d\":[{\"type\":\"histogram2d\",\"colorbar\":{\"outlinewidth\":0,\"ticks\":\"\"},\"colorscale\":[[0.0,\"#0d0887\"],[0.1111111111111111,\"#46039f\"],[0.2222222222222222,\"#7201a8\"],[0.3333333333333333,\"#9c179e\"],[0.4444444444444444,\"#bd3786\"],[0.5555555555555556,\"#d8576b\"],[0.6666666666666666,\"#ed7953\"],[0.7777777777777778,\"#fb9f3a\"],[0.8888888888888888,\"#fdca26\"],[1.0,\"#f0f921\"]]}],\"heatmap\":[{\"type\":\"heatmap\",\"colorbar\":{\"outlinewidth\":0,\"ticks\":\"\"},\"colorscale\":[[0.0,\"#0d0887\"],[0.1111111111111111,\"#46039f\"],[0.2222222222222222,\"#7201a8\"],[0.3333333333333333,\"#9c179e\"],[0.4444444444444444,\"#bd3786\"],[0.5555555555555556,\"#d8576b\"],[0.6666666666666666,\"#ed7953\"],[0.7777777777777778,\"#fb9f3a\"],[0.8888888888888888,\"#fdca26\"],[1.0,\"#f0f921\"]]}],\"heatmapgl\":[{\"type\":\"heatmapgl\",\"colorbar\":{\"outlinewidth\":0,\"ticks\":\"\"},\"colorscale\":[[0.0,\"#0d0887\"],[0.1111111111111111,\"#46039f\"],[0.2222222222222222,\"#7201a8\"],[0.3333333333333333,\"#9c179e\"],[0.4444444444444444,\"#bd3786\"],[0.5555555555555556,\"#d8576b\"],[0.6666666666666666,\"#ed7953\"],[0.7777777777777778,\"#fb9f3a\"],[0.8888888888888888,\"#fdca26\"],[1.0,\"#f0f921\"]]}],\"contourcarpet\":[{\"type\":\"contourcarpet\",\"colorbar\":{\"outlinewidth\":0,\"ticks\":\"\"}}],\"contour\":[{\"type\":\"contour\",\"colorbar\":{\"outlinewidth\":0,\"ticks\":\"\"},\"colorscale\":[[0.0,\"#0d0887\"],[0.1111111111111111,\"#46039f\"],[0.2222222222222222,\"#7201a8\"],[0.3333333333333333,\"#9c179e\"],[0.4444444444444444,\"#bd3786\"],[0.5555555555555556,\"#d8576b\"],[0.6666666666666666,\"#ed7953\"],[0.7777777777777778,\"#fb9f3a\"],[0.8888888888888888,\"#fdca26\"],[1.0,\"#f0f921\"]]}],\"surface\":[{\"type\":\"surface\",\"colorbar\":{\"outlinewidth\":0,\"ticks\":\"\"},\"colorscale\":[[0.0,\"#0d0887\"],[0.1111111111111111,\"#46039f\"],[0.2222222222222222,\"#7201a8\"],[0.3333333333333333,\"#9c179e\"],[0.4444444444444444,\"#bd3786\"],[0.5555555555555556,\"#d8576b\"],[0.6666666666666666,\"#ed7953\"],[0.7777777777777778,\"#fb9f3a\"],[0.8888888888888888,\"#fdca26\"],[1.0,\"#f0f921\"]]}],\"mesh3d\":[{\"type\":\"mesh3d\",\"colorbar\":{\"outlinewidth\":0,\"ticks\":\"\"}}],\"scatter\":[{\"fillpattern\":{\"fillmode\":\"overlay\",\"size\":10,\"solidity\":0.2},\"type\":\"scatter\"}],\"parcoords\":[{\"type\":\"parcoords\",\"line\":{\"colorbar\":{\"outlinewidth\":0,\"ticks\":\"\"}}}],\"scatterpolargl\":[{\"type\":\"scatterpolargl\",\"marker\":{\"colorbar\":{\"outlinewidth\":0,\"ticks\":\"\"}}}],\"bar\":[{\"error_x\":{\"color\":\"#2a3f5f\"},\"error_y\":{\"color\":\"#2a3f5f\"},\"marker\":{\"line\":{\"color\":\"white\",\"width\":0.5},\"pattern\":{\"fillmode\":\"overlay\",\"size\":10,\"solidity\":0.2}},\"type\":\"bar\"}],\"scattergeo\":[{\"type\":\"scattergeo\",\"marker\":{\"colorbar\":{\"outlinewidth\":0,\"ticks\":\"\"}}}],\"scatterpolar\":[{\"type\":\"scatterpolar\",\"marker\":{\"colorbar\":{\"outlinewidth\":0,\"ticks\":\"\"}}}],\"histogram\":[{\"marker\":{\"pattern\":{\"fillmode\":\"overlay\",\"size\":10,\"solidity\":0.2}},\"type\":\"histogram\"}],\"scattergl\":[{\"type\":\"scattergl\",\"marker\":{\"colorbar\":{\"outlinewidth\":0,\"ticks\":\"\"}}}],\"scatter3d\":[{\"type\":\"scatter3d\",\"line\":{\"colorbar\":{\"outlinewidth\":0,\"ticks\":\"\"}},\"marker\":{\"colorbar\":{\"outlinewidth\":0,\"ticks\":\"\"}}}],\"scattermapbox\":[{\"type\":\"scattermapbox\",\"marker\":{\"colorbar\":{\"outlinewidth\":0,\"ticks\":\"\"}}}],\"scatterternary\":[{\"type\":\"scatterternary\",\"marker\":{\"colorbar\":{\"outlinewidth\":0,\"ticks\":\"\"}}}],\"scattercarpet\":[{\"type\":\"scattercarpet\",\"marker\":{\"colorbar\":{\"outlinewidth\":0,\"ticks\":\"\"}}}],\"carpet\":[{\"aaxis\":{\"endlinecolor\":\"#2a3f5f\",\"gridcolor\":\"#C8D4E3\",\"linecolor\":\"#C8D4E3\",\"minorgridcolor\":\"#C8D4E3\",\"startlinecolor\":\"#2a3f5f\"},\"baxis\":{\"endlinecolor\":\"#2a3f5f\",\"gridcolor\":\"#C8D4E3\",\"linecolor\":\"#C8D4E3\",\"minorgridcolor\":\"#C8D4E3\",\"startlinecolor\":\"#2a3f5f\"},\"type\":\"carpet\"}],\"table\":[{\"cells\":{\"fill\":{\"color\":\"#EBF0F8\"},\"line\":{\"color\":\"white\"}},\"header\":{\"fill\":{\"color\":\"#C8D4E3\"},\"line\":{\"color\":\"white\"}},\"type\":\"table\"}],\"barpolar\":[{\"marker\":{\"line\":{\"color\":\"white\",\"width\":0.5},\"pattern\":{\"fillmode\":\"overlay\",\"size\":10,\"solidity\":0.2}},\"type\":\"barpolar\"}],\"pie\":[{\"automargin\":true,\"type\":\"pie\"}]},\"layout\":{\"autotypenumbers\":\"strict\",\"colorway\":[\"#636efa\",\"#EF553B\",\"#00cc96\",\"#ab63fa\",\"#FFA15A\",\"#19d3f3\",\"#FF6692\",\"#B6E880\",\"#FF97FF\",\"#FECB52\"],\"font\":{\"color\":\"#2a3f5f\"},\"hovermode\":\"closest\",\"hoverlabel\":{\"align\":\"left\"},\"paper_bgcolor\":\"white\",\"plot_bgcolor\":\"white\",\"polar\":{\"bgcolor\":\"white\",\"angularaxis\":{\"gridcolor\":\"#EBF0F8\",\"linecolor\":\"#EBF0F8\",\"ticks\":\"\"},\"radialaxis\":{\"gridcolor\":\"#EBF0F8\",\"linecolor\":\"#EBF0F8\",\"ticks\":\"\"}},\"ternary\":{\"bgcolor\":\"white\",\"aaxis\":{\"gridcolor\":\"#DFE8F3\",\"linecolor\":\"#A2B1C6\",\"ticks\":\"\"},\"baxis\":{\"gridcolor\":\"#DFE8F3\",\"linecolor\":\"#A2B1C6\",\"ticks\":\"\"},\"caxis\":{\"gridcolor\":\"#DFE8F3\",\"linecolor\":\"#A2B1C6\",\"ticks\":\"\"}},\"coloraxis\":{\"colorbar\":{\"outlinewidth\":0,\"ticks\":\"\"}},\"colorscale\":{\"sequential\":[[0.0,\"#0d0887\"],[0.1111111111111111,\"#46039f\"],[0.2222222222222222,\"#7201a8\"],[0.3333333333333333,\"#9c179e\"],[0.4444444444444444,\"#bd3786\"],[0.5555555555555556,\"#d8576b\"],[0.6666666666666666,\"#ed7953\"],[0.7777777777777778,\"#fb9f3a\"],[0.8888888888888888,\"#fdca26\"],[1.0,\"#f0f921\"]],\"sequentialminus\":[[0.0,\"#0d0887\"],[0.1111111111111111,\"#46039f\"],[0.2222222222222222,\"#7201a8\"],[0.3333333333333333,\"#9c179e\"],[0.4444444444444444,\"#bd3786\"],[0.5555555555555556,\"#d8576b\"],[0.6666666666666666,\"#ed7953\"],[0.7777777777777778,\"#fb9f3a\"],[0.8888888888888888,\"#fdca26\"],[1.0,\"#f0f921\"]],\"diverging\":[[0,\"#8e0152\"],[0.1,\"#c51b7d\"],[0.2,\"#de77ae\"],[0.3,\"#f1b6da\"],[0.4,\"#fde0ef\"],[0.5,\"#f7f7f7\"],[0.6,\"#e6f5d0\"],[0.7,\"#b8e186\"],[0.8,\"#7fbc41\"],[0.9,\"#4d9221\"],[1,\"#276419\"]]},\"xaxis\":{\"gridcolor\":\"#EBF0F8\",\"linecolor\":\"#EBF0F8\",\"ticks\":\"\",\"title\":{\"standoff\":15},\"zerolinecolor\":\"#EBF0F8\",\"automargin\":true,\"zerolinewidth\":2},\"yaxis\":{\"gridcolor\":\"#EBF0F8\",\"linecolor\":\"#EBF0F8\",\"ticks\":\"\",\"title\":{\"standoff\":15},\"zerolinecolor\":\"#EBF0F8\",\"automargin\":true,\"zerolinewidth\":2},\"scene\":{\"xaxis\":{\"backgroundcolor\":\"white\",\"gridcolor\":\"#DFE8F3\",\"linecolor\":\"#EBF0F8\",\"showbackground\":true,\"ticks\":\"\",\"zerolinecolor\":\"#EBF0F8\",\"gridwidth\":2},\"yaxis\":{\"backgroundcolor\":\"white\",\"gridcolor\":\"#DFE8F3\",\"linecolor\":\"#EBF0F8\",\"showbackground\":true,\"ticks\":\"\",\"zerolinecolor\":\"#EBF0F8\",\"gridwidth\":2},\"zaxis\":{\"backgroundcolor\":\"white\",\"gridcolor\":\"#DFE8F3\",\"linecolor\":\"#EBF0F8\",\"showbackground\":true,\"ticks\":\"\",\"zerolinecolor\":\"#EBF0F8\",\"gridwidth\":2}},\"shapedefaults\":{\"line\":{\"color\":\"#2a3f5f\"}},\"annotationdefaults\":{\"arrowcolor\":\"#2a3f5f\",\"arrowhead\":0,\"arrowwidth\":1},\"geo\":{\"bgcolor\":\"white\",\"landcolor\":\"white\",\"subunitcolor\":\"#C8D4E3\",\"showland\":true,\"showlakes\":true,\"lakecolor\":\"white\"},\"title\":{\"x\":0.05},\"mapbox\":{\"style\":\"light\"}}},\"xaxis\":{\"anchor\":\"y\",\"domain\":[0.0,1.0],\"title\":{\"text\":\"Hour of the Day\"}},\"yaxis\":{\"anchor\":\"x\",\"domain\":[0.0,1.0],\"title\":{\"text\":\"Average AQI\"}},\"legend\":{\"tracegroupgap\":0},\"title\":{\"text\":\"Hourly Average AQI Trends in Delhi (Jan 2023)\"}},                        {\"responsive\": true}                    ).then(function(){\n",
       "                            \n",
       "var gd = document.getElementById('a4536328-785a-4d37-8e7c-8c5d7626ce5b');\n",
       "var x = new MutationObserver(function (mutations, observer) {{\n",
       "        var display = window.getComputedStyle(gd).display;\n",
       "        if (!display || display === 'none') {{\n",
       "            console.log([gd, 'removed!']);\n",
       "            Plotly.purge(gd);\n",
       "            observer.disconnect();\n",
       "        }}\n",
       "}});\n",
       "\n",
       "// Listen for the removal of the full notebook cells\n",
       "var notebookContainer = gd.closest('#notebook-container');\n",
       "if (notebookContainer) {{\n",
       "    x.observe(notebookContainer, {childList: true});\n",
       "}}\n",
       "\n",
       "// Listen for the clearing of the current output cell\n",
       "var outputEl = gd.closest('.output');\n",
       "if (outputEl) {{\n",
       "    x.observe(outputEl, {childList: true});\n",
       "}}\n",
       "\n",
       "                        })                };                });            </script>        </div>"
      ]
     },
     "metadata": {},
     "output_type": "display_data"
    }
   ],
   "source": [
    "# Extract the hour from the date\n",
    "df['Hour'] = pd.to_datetime(df['date']).dt.hour\n",
    "\n",
    "# Calculate hourly average AQI\n",
    "hourly_avg_aqi = df.groupby('Hour')['AQI'].mean().reset_index()\n",
    "\n",
    "# Create a line plot for hourly trends in AQI\n",
    "fig = px.line(hourly_avg_aqi, x='Hour', y='AQI', \n",
    "              title='Hourly Average AQI Trends in Delhi (Jan 2023)')\n",
    "fig.update_xaxes(title=\"Hour of the Day\")\n",
    "fig.update_yaxes(title=\"Average AQI\")\n",
    "fig.show()"
   ]
  },
  {
   "cell_type": "code",
   "execution_count": 44,
   "id": "e2c3f619-3126-4125-89e1-427a522862dd",
   "metadata": {},
   "outputs": [
    {
     "data": {
      "application/vnd.plotly.v1+json": {
       "config": {
        "plotlyServerURL": "https://plot.ly"
       },
       "data": [
        {
         "hovertemplate": "Day of the Week=%{x}<br>Average AQI=%{y}<extra></extra>",
         "legendgroup": "",
         "line": {
          "color": "#636efa",
          "dash": "solid"
         },
         "marker": {
          "symbol": "circle"
         },
         "mode": "lines",
         "name": "",
         "orientation": "v",
         "showlegend": false,
         "type": "scatter",
         "x": [
          "Monday",
          "Tuesday",
          "Wednesday",
          "Thursday",
          "Friday",
          "Saturday",
          "Sunday"
         ],
         "xaxis": "x",
         "y": [
          340.625,
          403.7037037037037,
          425,
          423.6111111111111,
          383.3333333333333,
          376.3888888888889,
          328.125
         ],
         "yaxis": "y"
        }
       ],
       "layout": {
        "autosize": true,
        "legend": {
         "tracegroupgap": 0
        },
        "template": {
         "data": {
          "bar": [
           {
            "error_x": {
             "color": "#2a3f5f"
            },
            "error_y": {
             "color": "#2a3f5f"
            },
            "marker": {
             "line": {
              "color": "white",
              "width": 0.5
             },
             "pattern": {
              "fillmode": "overlay",
              "size": 10,
              "solidity": 0.2
             }
            },
            "type": "bar"
           }
          ],
          "barpolar": [
           {
            "marker": {
             "line": {
              "color": "white",
              "width": 0.5
             },
             "pattern": {
              "fillmode": "overlay",
              "size": 10,
              "solidity": 0.2
             }
            },
            "type": "barpolar"
           }
          ],
          "carpet": [
           {
            "aaxis": {
             "endlinecolor": "#2a3f5f",
             "gridcolor": "#C8D4E3",
             "linecolor": "#C8D4E3",
             "minorgridcolor": "#C8D4E3",
             "startlinecolor": "#2a3f5f"
            },
            "baxis": {
             "endlinecolor": "#2a3f5f",
             "gridcolor": "#C8D4E3",
             "linecolor": "#C8D4E3",
             "minorgridcolor": "#C8D4E3",
             "startlinecolor": "#2a3f5f"
            },
            "type": "carpet"
           }
          ],
          "choropleth": [
           {
            "colorbar": {
             "outlinewidth": 0,
             "ticks": ""
            },
            "type": "choropleth"
           }
          ],
          "contour": [
           {
            "colorbar": {
             "outlinewidth": 0,
             "ticks": ""
            },
            "colorscale": [
             [
              0,
              "#0d0887"
             ],
             [
              0.1111111111111111,
              "#46039f"
             ],
             [
              0.2222222222222222,
              "#7201a8"
             ],
             [
              0.3333333333333333,
              "#9c179e"
             ],
             [
              0.4444444444444444,
              "#bd3786"
             ],
             [
              0.5555555555555556,
              "#d8576b"
             ],
             [
              0.6666666666666666,
              "#ed7953"
             ],
             [
              0.7777777777777778,
              "#fb9f3a"
             ],
             [
              0.8888888888888888,
              "#fdca26"
             ],
             [
              1,
              "#f0f921"
             ]
            ],
            "type": "contour"
           }
          ],
          "contourcarpet": [
           {
            "colorbar": {
             "outlinewidth": 0,
             "ticks": ""
            },
            "type": "contourcarpet"
           }
          ],
          "heatmap": [
           {
            "colorbar": {
             "outlinewidth": 0,
             "ticks": ""
            },
            "colorscale": [
             [
              0,
              "#0d0887"
             ],
             [
              0.1111111111111111,
              "#46039f"
             ],
             [
              0.2222222222222222,
              "#7201a8"
             ],
             [
              0.3333333333333333,
              "#9c179e"
             ],
             [
              0.4444444444444444,
              "#bd3786"
             ],
             [
              0.5555555555555556,
              "#d8576b"
             ],
             [
              0.6666666666666666,
              "#ed7953"
             ],
             [
              0.7777777777777778,
              "#fb9f3a"
             ],
             [
              0.8888888888888888,
              "#fdca26"
             ],
             [
              1,
              "#f0f921"
             ]
            ],
            "type": "heatmap"
           }
          ],
          "heatmapgl": [
           {
            "colorbar": {
             "outlinewidth": 0,
             "ticks": ""
            },
            "colorscale": [
             [
              0,
              "#0d0887"
             ],
             [
              0.1111111111111111,
              "#46039f"
             ],
             [
              0.2222222222222222,
              "#7201a8"
             ],
             [
              0.3333333333333333,
              "#9c179e"
             ],
             [
              0.4444444444444444,
              "#bd3786"
             ],
             [
              0.5555555555555556,
              "#d8576b"
             ],
             [
              0.6666666666666666,
              "#ed7953"
             ],
             [
              0.7777777777777778,
              "#fb9f3a"
             ],
             [
              0.8888888888888888,
              "#fdca26"
             ],
             [
              1,
              "#f0f921"
             ]
            ],
            "type": "heatmapgl"
           }
          ],
          "histogram": [
           {
            "marker": {
             "pattern": {
              "fillmode": "overlay",
              "size": 10,
              "solidity": 0.2
             }
            },
            "type": "histogram"
           }
          ],
          "histogram2d": [
           {
            "colorbar": {
             "outlinewidth": 0,
             "ticks": ""
            },
            "colorscale": [
             [
              0,
              "#0d0887"
             ],
             [
              0.1111111111111111,
              "#46039f"
             ],
             [
              0.2222222222222222,
              "#7201a8"
             ],
             [
              0.3333333333333333,
              "#9c179e"
             ],
             [
              0.4444444444444444,
              "#bd3786"
             ],
             [
              0.5555555555555556,
              "#d8576b"
             ],
             [
              0.6666666666666666,
              "#ed7953"
             ],
             [
              0.7777777777777778,
              "#fb9f3a"
             ],
             [
              0.8888888888888888,
              "#fdca26"
             ],
             [
              1,
              "#f0f921"
             ]
            ],
            "type": "histogram2d"
           }
          ],
          "histogram2dcontour": [
           {
            "colorbar": {
             "outlinewidth": 0,
             "ticks": ""
            },
            "colorscale": [
             [
              0,
              "#0d0887"
             ],
             [
              0.1111111111111111,
              "#46039f"
             ],
             [
              0.2222222222222222,
              "#7201a8"
             ],
             [
              0.3333333333333333,
              "#9c179e"
             ],
             [
              0.4444444444444444,
              "#bd3786"
             ],
             [
              0.5555555555555556,
              "#d8576b"
             ],
             [
              0.6666666666666666,
              "#ed7953"
             ],
             [
              0.7777777777777778,
              "#fb9f3a"
             ],
             [
              0.8888888888888888,
              "#fdca26"
             ],
             [
              1,
              "#f0f921"
             ]
            ],
            "type": "histogram2dcontour"
           }
          ],
          "mesh3d": [
           {
            "colorbar": {
             "outlinewidth": 0,
             "ticks": ""
            },
            "type": "mesh3d"
           }
          ],
          "parcoords": [
           {
            "line": {
             "colorbar": {
              "outlinewidth": 0,
              "ticks": ""
             }
            },
            "type": "parcoords"
           }
          ],
          "pie": [
           {
            "automargin": true,
            "type": "pie"
           }
          ],
          "scatter": [
           {
            "fillpattern": {
             "fillmode": "overlay",
             "size": 10,
             "solidity": 0.2
            },
            "type": "scatter"
           }
          ],
          "scatter3d": [
           {
            "line": {
             "colorbar": {
              "outlinewidth": 0,
              "ticks": ""
             }
            },
            "marker": {
             "colorbar": {
              "outlinewidth": 0,
              "ticks": ""
             }
            },
            "type": "scatter3d"
           }
          ],
          "scattercarpet": [
           {
            "marker": {
             "colorbar": {
              "outlinewidth": 0,
              "ticks": ""
             }
            },
            "type": "scattercarpet"
           }
          ],
          "scattergeo": [
           {
            "marker": {
             "colorbar": {
              "outlinewidth": 0,
              "ticks": ""
             }
            },
            "type": "scattergeo"
           }
          ],
          "scattergl": [
           {
            "marker": {
             "colorbar": {
              "outlinewidth": 0,
              "ticks": ""
             }
            },
            "type": "scattergl"
           }
          ],
          "scattermapbox": [
           {
            "marker": {
             "colorbar": {
              "outlinewidth": 0,
              "ticks": ""
             }
            },
            "type": "scattermapbox"
           }
          ],
          "scatterpolar": [
           {
            "marker": {
             "colorbar": {
              "outlinewidth": 0,
              "ticks": ""
             }
            },
            "type": "scatterpolar"
           }
          ],
          "scatterpolargl": [
           {
            "marker": {
             "colorbar": {
              "outlinewidth": 0,
              "ticks": ""
             }
            },
            "type": "scatterpolargl"
           }
          ],
          "scatterternary": [
           {
            "marker": {
             "colorbar": {
              "outlinewidth": 0,
              "ticks": ""
             }
            },
            "type": "scatterternary"
           }
          ],
          "surface": [
           {
            "colorbar": {
             "outlinewidth": 0,
             "ticks": ""
            },
            "colorscale": [
             [
              0,
              "#0d0887"
             ],
             [
              0.1111111111111111,
              "#46039f"
             ],
             [
              0.2222222222222222,
              "#7201a8"
             ],
             [
              0.3333333333333333,
              "#9c179e"
             ],
             [
              0.4444444444444444,
              "#bd3786"
             ],
             [
              0.5555555555555556,
              "#d8576b"
             ],
             [
              0.6666666666666666,
              "#ed7953"
             ],
             [
              0.7777777777777778,
              "#fb9f3a"
             ],
             [
              0.8888888888888888,
              "#fdca26"
             ],
             [
              1,
              "#f0f921"
             ]
            ],
            "type": "surface"
           }
          ],
          "table": [
           {
            "cells": {
             "fill": {
              "color": "#EBF0F8"
             },
             "line": {
              "color": "white"
             }
            },
            "header": {
             "fill": {
              "color": "#C8D4E3"
             },
             "line": {
              "color": "white"
             }
            },
            "type": "table"
           }
          ]
         },
         "layout": {
          "annotationdefaults": {
           "arrowcolor": "#2a3f5f",
           "arrowhead": 0,
           "arrowwidth": 1
          },
          "autotypenumbers": "strict",
          "coloraxis": {
           "colorbar": {
            "outlinewidth": 0,
            "ticks": ""
           }
          },
          "colorscale": {
           "diverging": [
            [
             0,
             "#8e0152"
            ],
            [
             0.1,
             "#c51b7d"
            ],
            [
             0.2,
             "#de77ae"
            ],
            [
             0.3,
             "#f1b6da"
            ],
            [
             0.4,
             "#fde0ef"
            ],
            [
             0.5,
             "#f7f7f7"
            ],
            [
             0.6,
             "#e6f5d0"
            ],
            [
             0.7,
             "#b8e186"
            ],
            [
             0.8,
             "#7fbc41"
            ],
            [
             0.9,
             "#4d9221"
            ],
            [
             1,
             "#276419"
            ]
           ],
           "sequential": [
            [
             0,
             "#0d0887"
            ],
            [
             0.1111111111111111,
             "#46039f"
            ],
            [
             0.2222222222222222,
             "#7201a8"
            ],
            [
             0.3333333333333333,
             "#9c179e"
            ],
            [
             0.4444444444444444,
             "#bd3786"
            ],
            [
             0.5555555555555556,
             "#d8576b"
            ],
            [
             0.6666666666666666,
             "#ed7953"
            ],
            [
             0.7777777777777778,
             "#fb9f3a"
            ],
            [
             0.8888888888888888,
             "#fdca26"
            ],
            [
             1,
             "#f0f921"
            ]
           ],
           "sequentialminus": [
            [
             0,
             "#0d0887"
            ],
            [
             0.1111111111111111,
             "#46039f"
            ],
            [
             0.2222222222222222,
             "#7201a8"
            ],
            [
             0.3333333333333333,
             "#9c179e"
            ],
            [
             0.4444444444444444,
             "#bd3786"
            ],
            [
             0.5555555555555556,
             "#d8576b"
            ],
            [
             0.6666666666666666,
             "#ed7953"
            ],
            [
             0.7777777777777778,
             "#fb9f3a"
            ],
            [
             0.8888888888888888,
             "#fdca26"
            ],
            [
             1,
             "#f0f921"
            ]
           ]
          },
          "colorway": [
           "#636efa",
           "#EF553B",
           "#00cc96",
           "#ab63fa",
           "#FFA15A",
           "#19d3f3",
           "#FF6692",
           "#B6E880",
           "#FF97FF",
           "#FECB52"
          ],
          "font": {
           "color": "#2a3f5f"
          },
          "geo": {
           "bgcolor": "white",
           "lakecolor": "white",
           "landcolor": "white",
           "showlakes": true,
           "showland": true,
           "subunitcolor": "#C8D4E3"
          },
          "hoverlabel": {
           "align": "left"
          },
          "hovermode": "closest",
          "mapbox": {
           "style": "light"
          },
          "paper_bgcolor": "white",
          "plot_bgcolor": "white",
          "polar": {
           "angularaxis": {
            "gridcolor": "#EBF0F8",
            "linecolor": "#EBF0F8",
            "ticks": ""
           },
           "bgcolor": "white",
           "radialaxis": {
            "gridcolor": "#EBF0F8",
            "linecolor": "#EBF0F8",
            "ticks": ""
           }
          },
          "scene": {
           "xaxis": {
            "backgroundcolor": "white",
            "gridcolor": "#DFE8F3",
            "gridwidth": 2,
            "linecolor": "#EBF0F8",
            "showbackground": true,
            "ticks": "",
            "zerolinecolor": "#EBF0F8"
           },
           "yaxis": {
            "backgroundcolor": "white",
            "gridcolor": "#DFE8F3",
            "gridwidth": 2,
            "linecolor": "#EBF0F8",
            "showbackground": true,
            "ticks": "",
            "zerolinecolor": "#EBF0F8"
           },
           "zaxis": {
            "backgroundcolor": "white",
            "gridcolor": "#DFE8F3",
            "gridwidth": 2,
            "linecolor": "#EBF0F8",
            "showbackground": true,
            "ticks": "",
            "zerolinecolor": "#EBF0F8"
           }
          },
          "shapedefaults": {
           "line": {
            "color": "#2a3f5f"
           }
          },
          "ternary": {
           "aaxis": {
            "gridcolor": "#DFE8F3",
            "linecolor": "#A2B1C6",
            "ticks": ""
           },
           "baxis": {
            "gridcolor": "#DFE8F3",
            "linecolor": "#A2B1C6",
            "ticks": ""
           },
           "bgcolor": "white",
           "caxis": {
            "gridcolor": "#DFE8F3",
            "linecolor": "#A2B1C6",
            "ticks": ""
           }
          },
          "title": {
           "x": 0.05
          },
          "xaxis": {
           "automargin": true,
           "gridcolor": "#EBF0F8",
           "linecolor": "#EBF0F8",
           "ticks": "",
           "title": {
            "standoff": 15
           },
           "zerolinecolor": "#EBF0F8",
           "zerolinewidth": 2
          },
          "yaxis": {
           "automargin": true,
           "gridcolor": "#EBF0F8",
           "linecolor": "#EBF0F8",
           "ticks": "",
           "title": {
            "standoff": 15
           },
           "zerolinecolor": "#EBF0F8",
           "zerolinewidth": 2
          }
         }
        },
        "title": {
         "text": "Daily Average AQI Trends by Day of the Week"
        },
        "xaxis": {
         "anchor": "y",
         "autorange": true,
         "domain": [
          0,
          1
         ],
         "range": [
          0,
          6
         ],
         "title": {
          "text": "Day of the Week"
         },
         "type": "category"
        },
        "yaxis": {
         "anchor": "x",
         "autorange": true,
         "domain": [
          0,
          1
         ],
         "range": [
          322.74305555555554,
          430.38194444444446
         ],
         "title": {
          "text": "Average AQI"
         },
         "type": "linear"
        }
       }
      },
      "image/png": "[encoded data removed]",
      "text/html": [
       "<div>                            <div id=\"77294a50-832c-4410-9da3-5692b5d79843\" class=\"plotly-graph-div\" style=\"height:525px; width:100%;\"></div>            <script type=\"text/javascript\">                require([\"plotly\"], function(Plotly) {                    window.PLOTLYENV=window.PLOTLYENV || {};                                    if (document.getElementById(\"77294a50-832c-4410-9da3-5692b5d79843\")) {                    Plotly.newPlot(                        \"77294a50-832c-4410-9da3-5692b5d79843\",                        [{\"hovertemplate\":\"Day of the Week=%{x}\\u003cbr\\u003eAverage AQI=%{y}\\u003cextra\\u003e\\u003c\\u002fextra\\u003e\",\"legendgroup\":\"\",\"line\":{\"color\":\"#636efa\",\"dash\":\"solid\"},\"marker\":{\"symbol\":\"circle\"},\"mode\":\"lines\",\"name\":\"\",\"orientation\":\"v\",\"showlegend\":false,\"x\":[\"Monday\",\"Tuesday\",\"Wednesday\",\"Thursday\",\"Friday\",\"Saturday\",\"Sunday\"],\"xaxis\":\"x\",\"y\":[340.625,403.7037037037037,425.0,423.6111111111111,383.3333333333333,376.3888888888889,328.125],\"yaxis\":\"y\",\"type\":\"scatter\"}],                        {\"template\":{\"data\":{\"histogram2dcontour\":[{\"type\":\"histogram2dcontour\",\"colorbar\":{\"outlinewidth\":0,\"ticks\":\"\"},\"colorscale\":[[0.0,\"#0d0887\"],[0.1111111111111111,\"#46039f\"],[0.2222222222222222,\"#7201a8\"],[0.3333333333333333,\"#9c179e\"],[0.4444444444444444,\"#bd3786\"],[0.5555555555555556,\"#d8576b\"],[0.6666666666666666,\"#ed7953\"],[0.7777777777777778,\"#fb9f3a\"],[0.8888888888888888,\"#fdca26\"],[1.0,\"#f0f921\"]]}],\"choropleth\":[{\"type\":\"choropleth\",\"colorbar\":{\"outlinewidth\":0,\"ticks\":\"\"}}],\"histogram2d\":[{\"type\":\"histogram2d\",\"colorbar\":{\"outlinewidth\":0,\"ticks\":\"\"},\"colorscale\":[[0.0,\"#0d0887\"],[0.1111111111111111,\"#46039f\"],[0.2222222222222222,\"#7201a8\"],[0.3333333333333333,\"#9c179e\"],[0.4444444444444444,\"#bd3786\"],[0.5555555555555556,\"#d8576b\"],[0.6666666666666666,\"#ed7953\"],[0.7777777777777778,\"#fb9f3a\"],[0.8888888888888888,\"#fdca26\"],[1.0,\"#f0f921\"]]}],\"heatmap\":[{\"type\":\"heatmap\",\"colorbar\":{\"outlinewidth\":0,\"ticks\":\"\"},\"colorscale\":[[0.0,\"#0d0887\"],[0.1111111111111111,\"#46039f\"],[0.2222222222222222,\"#7201a8\"],[0.3333333333333333,\"#9c179e\"],[0.4444444444444444,\"#bd3786\"],[0.5555555555555556,\"#d8576b\"],[0.6666666666666666,\"#ed7953\"],[0.7777777777777778,\"#fb9f3a\"],[0.8888888888888888,\"#fdca26\"],[1.0,\"#f0f921\"]]}],\"heatmapgl\":[{\"type\":\"heatmapgl\",\"colorbar\":{\"outlinewidth\":0,\"ticks\":\"\"},\"colorscale\":[[0.0,\"#0d0887\"],[0.1111111111111111,\"#46039f\"],[0.2222222222222222,\"#7201a8\"],[0.3333333333333333,\"#9c179e\"],[0.4444444444444444,\"#bd3786\"],[0.5555555555555556,\"#d8576b\"],[0.6666666666666666,\"#ed7953\"],[0.7777777777777778,\"#fb9f3a\"],[0.8888888888888888,\"#fdca26\"],[1.0,\"#f0f921\"]]}],\"contourcarpet\":[{\"type\":\"contourcarpet\",\"colorbar\":{\"outlinewidth\":0,\"ticks\":\"\"}}],\"contour\":[{\"type\":\"contour\",\"colorbar\":{\"outlinewidth\":0,\"ticks\":\"\"},\"colorscale\":[[0.0,\"#0d0887\"],[0.1111111111111111,\"#46039f\"],[0.2222222222222222,\"#7201a8\"],[0.3333333333333333,\"#9c179e\"],[0.4444444444444444,\"#bd3786\"],[0.5555555555555556,\"#d8576b\"],[0.6666666666666666,\"#ed7953\"],[0.7777777777777778,\"#fb9f3a\"],[0.8888888888888888,\"#fdca26\"],[1.0,\"#f0f921\"]]}],\"surface\":[{\"type\":\"surface\",\"colorbar\":{\"outlinewidth\":0,\"ticks\":\"\"},\"colorscale\":[[0.0,\"#0d0887\"],[0.1111111111111111,\"#46039f\"],[0.2222222222222222,\"#7201a8\"],[0.3333333333333333,\"#9c179e\"],[0.4444444444444444,\"#bd3786\"],[0.5555555555555556,\"#d8576b\"],[0.6666666666666666,\"#ed7953\"],[0.7777777777777778,\"#fb9f3a\"],[0.8888888888888888,\"#fdca26\"],[1.0,\"#f0f921\"]]}],\"mesh3d\":[{\"type\":\"mesh3d\",\"colorbar\":{\"outlinewidth\":0,\"ticks\":\"\"}}],\"scatter\":[{\"fillpattern\":{\"fillmode\":\"overlay\",\"size\":10,\"solidity\":0.2},\"type\":\"scatter\"}],\"parcoords\":[{\"type\":\"parcoords\",\"line\":{\"colorbar\":{\"outlinewidth\":0,\"ticks\":\"\"}}}],\"scatterpolargl\":[{\"type\":\"scatterpolargl\",\"marker\":{\"colorbar\":{\"outlinewidth\":0,\"ticks\":\"\"}}}],\"bar\":[{\"error_x\":{\"color\":\"#2a3f5f\"},\"error_y\":{\"color\":\"#2a3f5f\"},\"marker\":{\"line\":{\"color\":\"white\",\"width\":0.5},\"pattern\":{\"fillmode\":\"overlay\",\"size\":10,\"solidity\":0.2}},\"type\":\"bar\"}],\"scattergeo\":[{\"type\":\"scattergeo\",\"marker\":{\"colorbar\":{\"outlinewidth\":0,\"ticks\":\"\"}}}],\"scatterpolar\":[{\"type\":\"scatterpolar\",\"marker\":{\"colorbar\":{\"outlinewidth\":0,\"ticks\":\"\"}}}],\"histogram\":[{\"marker\":{\"pattern\":{\"fillmode\":\"overlay\",\"size\":10,\"solidity\":0.2}},\"type\":\"histogram\"}],\"scattergl\":[{\"type\":\"scattergl\",\"marker\":{\"colorbar\":{\"outlinewidth\":0,\"ticks\":\"\"}}}],\"scatter3d\":[{\"type\":\"scatter3d\",\"line\":{\"colorbar\":{\"outlinewidth\":0,\"ticks\":\"\"}},\"marker\":{\"colorbar\":{\"outlinewidth\":0,\"ticks\":\"\"}}}],\"scattermapbox\":[{\"type\":\"scattermapbox\",\"marker\":{\"colorbar\":{\"outlinewidth\":0,\"ticks\":\"\"}}}],\"scatterternary\":[{\"type\":\"scatterternary\",\"marker\":{\"colorbar\":{\"outlinewidth\":0,\"ticks\":\"\"}}}],\"scattercarpet\":[{\"type\":\"scattercarpet\",\"marker\":{\"colorbar\":{\"outlinewidth\":0,\"ticks\":\"\"}}}],\"carpet\":[{\"aaxis\":{\"endlinecolor\":\"#2a3f5f\",\"gridcolor\":\"#C8D4E3\",\"linecolor\":\"#C8D4E3\",\"minorgridcolor\":\"#C8D4E3\",\"startlinecolor\":\"#2a3f5f\"},\"baxis\":{\"endlinecolor\":\"#2a3f5f\",\"gridcolor\":\"#C8D4E3\",\"linecolor\":\"#C8D4E3\",\"minorgridcolor\":\"#C8D4E3\",\"startlinecolor\":\"#2a3f5f\"},\"type\":\"carpet\"}],\"table\":[{\"cells\":{\"fill\":{\"color\":\"#EBF0F8\"},\"line\":{\"color\":\"white\"}},\"header\":{\"fill\":{\"color\":\"#C8D4E3\"},\"line\":{\"color\":\"white\"}},\"type\":\"table\"}],\"barpolar\":[{\"marker\":{\"line\":{\"color\":\"white\",\"width\":0.5},\"pattern\":{\"fillmode\":\"overlay\",\"size\":10,\"solidity\":0.2}},\"type\":\"barpolar\"}],\"pie\":[{\"automargin\":true,\"type\":\"pie\"}]},\"layout\":{\"autotypenumbers\":\"strict\",\"colorway\":[\"#636efa\",\"#EF553B\",\"#00cc96\",\"#ab63fa\",\"#FFA15A\",\"#19d3f3\",\"#FF6692\",\"#B6E880\",\"#FF97FF\",\"#FECB52\"],\"font\":{\"color\":\"#2a3f5f\"},\"hovermode\":\"closest\",\"hoverlabel\":{\"align\":\"left\"},\"paper_bgcolor\":\"white\",\"plot_bgcolor\":\"white\",\"polar\":{\"bgcolor\":\"white\",\"angularaxis\":{\"gridcolor\":\"#EBF0F8\",\"linecolor\":\"#EBF0F8\",\"ticks\":\"\"},\"radialaxis\":{\"gridcolor\":\"#EBF0F8\",\"linecolor\":\"#EBF0F8\",\"ticks\":\"\"}},\"ternary\":{\"bgcolor\":\"white\",\"aaxis\":{\"gridcolor\":\"#DFE8F3\",\"linecolor\":\"#A2B1C6\",\"ticks\":\"\"},\"baxis\":{\"gridcolor\":\"#DFE8F3\",\"linecolor\":\"#A2B1C6\",\"ticks\":\"\"},\"caxis\":{\"gridcolor\":\"#DFE8F3\",\"linecolor\":\"#A2B1C6\",\"ticks\":\"\"}},\"coloraxis\":{\"colorbar\":{\"outlinewidth\":0,\"ticks\":\"\"}},\"colorscale\":{\"sequential\":[[0.0,\"#0d0887\"],[0.1111111111111111,\"#46039f\"],[0.2222222222222222,\"#7201a8\"],[0.3333333333333333,\"#9c179e\"],[0.4444444444444444,\"#bd3786\"],[0.5555555555555556,\"#d8576b\"],[0.6666666666666666,\"#ed7953\"],[0.7777777777777778,\"#fb9f3a\"],[0.8888888888888888,\"#fdca26\"],[1.0,\"#f0f921\"]],\"sequentialminus\":[[0.0,\"#0d0887\"],[0.1111111111111111,\"#46039f\"],[0.2222222222222222,\"#7201a8\"],[0.3333333333333333,\"#9c179e\"],[0.4444444444444444,\"#bd3786\"],[0.5555555555555556,\"#d8576b\"],[0.6666666666666666,\"#ed7953\"],[0.7777777777777778,\"#fb9f3a\"],[0.8888888888888888,\"#fdca26\"],[1.0,\"#f0f921\"]],\"diverging\":[[0,\"#8e0152\"],[0.1,\"#c51b7d\"],[0.2,\"#de77ae\"],[0.3,\"#f1b6da\"],[0.4,\"#fde0ef\"],[0.5,\"#f7f7f7\"],[0.6,\"#e6f5d0\"],[0.7,\"#b8e186\"],[0.8,\"#7fbc41\"],[0.9,\"#4d9221\"],[1,\"#276419\"]]},\"xaxis\":{\"gridcolor\":\"#EBF0F8\",\"linecolor\":\"#EBF0F8\",\"ticks\":\"\",\"title\":{\"standoff\":15},\"zerolinecolor\":\"#EBF0F8\",\"automargin\":true,\"zerolinewidth\":2},\"yaxis\":{\"gridcolor\":\"#EBF0F8\",\"linecolor\":\"#EBF0F8\",\"ticks\":\"\",\"title\":{\"standoff\":15},\"zerolinecolor\":\"#EBF0F8\",\"automargin\":true,\"zerolinewidth\":2},\"scene\":{\"xaxis\":{\"backgroundcolor\":\"white\",\"gridcolor\":\"#DFE8F3\",\"linecolor\":\"#EBF0F8\",\"showbackground\":true,\"ticks\":\"\",\"zerolinecolor\":\"#EBF0F8\",\"gridwidth\":2},\"yaxis\":{\"backgroundcolor\":\"white\",\"gridcolor\":\"#DFE8F3\",\"linecolor\":\"#EBF0F8\",\"showbackground\":true,\"ticks\":\"\",\"zerolinecolor\":\"#EBF0F8\",\"gridwidth\":2},\"zaxis\":{\"backgroundcolor\":\"white\",\"gridcolor\":\"#DFE8F3\",\"linecolor\":\"#EBF0F8\",\"showbackground\":true,\"ticks\":\"\",\"zerolinecolor\":\"#EBF0F8\",\"gridwidth\":2}},\"shapedefaults\":{\"line\":{\"color\":\"#2a3f5f\"}},\"annotationdefaults\":{\"arrowcolor\":\"#2a3f5f\",\"arrowhead\":0,\"arrowwidth\":1},\"geo\":{\"bgcolor\":\"white\",\"landcolor\":\"white\",\"subunitcolor\":\"#C8D4E3\",\"showland\":true,\"showlakes\":true,\"lakecolor\":\"white\"},\"title\":{\"x\":0.05},\"mapbox\":{\"style\":\"light\"}}},\"xaxis\":{\"anchor\":\"y\",\"domain\":[0.0,1.0],\"title\":{\"text\":\"Day of the Week\"}},\"yaxis\":{\"anchor\":\"x\",\"domain\":[0.0,1.0],\"title\":{\"text\":\"Average AQI\"}},\"legend\":{\"tracegroupgap\":0},\"title\":{\"text\":\"Daily Average AQI Trends by Day of the Week\"}},                        {\"responsive\": true}                    ).then(function(){\n",
       "                            \n",
       "var gd = document.getElementById('77294a50-832c-4410-9da3-5692b5d79843');\n",
       "var x = new MutationObserver(function (mutations, observer) {{\n",
       "        var display = window.getComputedStyle(gd).display;\n",
       "        if (!display || display === 'none') {{\n",
       "            console.log([gd, 'removed!']);\n",
       "            Plotly.purge(gd);\n",
       "            observer.disconnect();\n",
       "        }}\n",
       "}});\n",
       "\n",
       "// Listen for the removal of the full notebook cells\n",
       "var notebookContainer = gd.closest('#notebook-container');\n",
       "if (notebookContainer) {{\n",
       "    x.observe(notebookContainer, {childList: true});\n",
       "}}\n",
       "\n",
       "// Listen for the clearing of the current output cell\n",
       "var outputEl = gd.closest('.output');\n",
       "if (outputEl) {{\n",
       "    x.observe(outputEl, {childList: true});\n",
       "}}\n",
       "\n",
       "                        })                };                });            </script>        </div>"
      ]
     },
     "metadata": {},
     "output_type": "display_data"
    }
   ],
   "source": [
    "# Daily Average AQI Trends by Day of The week\n",
    "\n",
    "# Assuming 'data' is your DataFrame with hourly data\n",
    "# If 'date' is not already in datetime format, convert it\n",
    "df['date'] = pd.to_datetime(df['date'])\n",
    "\n",
    "# Extract day of the week for daily aggregation\n",
    "df['DayOfWeek'] = df['date'].dt.day_name()\n",
    "\n",
    "# Calculate daily average AQI\n",
    "daily_avg_aqi = df.groupby('DayOfWeek')['AQI'].mean().reset_index()\n",
    "\n",
    "# Order the days of the week\n",
    "days_order = ['Monday', 'Tuesday', 'Wednesday', 'Thursday', 'Friday', 'Saturday', 'Sunday']\n",
    "daily_avg_aqi['DayOfWeek'] = pd.Categorical(daily_avg_aqi['DayOfWeek'], categories=days_order, ordered=True)\n",
    "daily_avg_aqi = daily_avg_aqi.sort_values('DayOfWeek')\n",
    "\n",
    "# Create a line plot for daily trends in AQI\n",
    "fig = px.line(daily_avg_aqi, x='DayOfWeek', y='AQI',\n",
    "              title='Daily Average AQI Trends by Day of the Week',\n",
    "              labels={'AQI': 'Average AQI', 'DayOfWeek': 'Day of the Week'})\n",
    "fig.show()\n"
   ]
  },
  {
   "cell_type": "markdown",
   "id": "3a718840-0f51-4544-a5ad-2ff08a738e24",
   "metadata": {},
   "source": [
    "It shows that the air quality in Delhi is worse on Wednesdays and Thursdays. "
   ]
  },
  {
   "cell_type": "markdown",
   "id": "2de31b0c-0f9c-42c2-8d93-1845deadbbcd",
   "metadata": {},
   "source": [
    "# Summary"
   ]
  },
  {
   "cell_type": "markdown",
   "id": "dbe33eff-1ae1-4216-af31-3be9cc3e6602",
   "metadata": {},
   "source": [
    "Air quality index (AQI) analysis is a crucial aspect of environment that involves monitoring and analyzing air quality in a specific location. It aims to provide a numerical value representative of overall air quality, essential for public health and environmental management."
   ]
  }
 ],
 "metadata": {
  "kernelspec": {
   "display_name": "Python 3 (ipykernel)",
   "language": "python",
   "name": "python3"
  },
  "language_info": {
   "codemirror_mode": {
    "name": "ipython",
    "version": 3
   },
   "file_extension": ".py",
   "mimetype": "text/x-python",
   "name": "python",
   "nbconvert_exporter": "python",
   "pygments_lexer": "ipython3",
   "version": "3.12.0"
  }
 },
 "nbformat": 4,
 "nbformat_minor": 5
}
